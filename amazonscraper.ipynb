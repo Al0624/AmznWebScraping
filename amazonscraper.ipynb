{
  "cells": [
    {
      "cell_type": "code",
      "source": [
        "import re\n",
        "import pandas as pd\n",
        "from collections import namedtuple\n",
        "import requests\n",
        "from bs4 import BeautifulSoup\n",
        "import time\n",
        "from urllib.request import urlopen\n",
        "import urllib.request, urllib.parse, urllib.error\n",
        "import random\n",
        "\n",
        "UserReview = namedtuple('UserReview', ['url', 'review_title', 'comment', 'rating', 'date', 'username', 'profile_url', 'verified_purchase'])\n",
        "\n",
        "class AmazonScraper:\n",
        "#     review_date_pattern = re.compile('(?:Jan(?:uary)?|Feb(?:ruary)?|Mar(?:ch)?|Apr(?:il)?|May|Jun(?:e)?|Jul(?:y)?|Aug(?:ust)?|Sep(?:tember)?|Oct(?:ober)?|Nov(?:ember)?|Dec(?:ember)?) \\d+, \\d{4}')\n",
        "    product_name_pattern = re.compile('^https:\\/{2}www.amazon.co.uk\\/(.+)\\/product-reviews')\n",
        "    def __init__(self):\n",
        "        # create a browser session\n",
        "        #change user agent if got block\n",
        "        self.session = requests.Session()\n",
        "        self.session.headers['User-Agent'] = 'My User Agent xxxdd'\n",
        "        self.session.headers['Accept'] = 'text/html,application/xhtml+xml,application/xml;q=0.9,image/webp,*/*;q=0.8'\n",
        "        self.session.headers['Accept-Language'] = 'en-US,en;q=0.5'\n",
        "        self.session.headers['Connection'] = 'keep-alive'\n",
        "        self.session.headers['Upgrade-Insecure-Requests'] = '1'\n",
        "\n",
        "    def scrapeReviews(self, url, page_num, filter_by='recent'):\n",
        "        \"\"\"\n",
        "        args\n",
        "            filter_by: recent or helpful\n",
        "        return\n",
        "            namedtuple\n",
        "        \"\"\"\n",
        "        try:\n",
        "            url1 = url.replace('dp', 'product-reviews')+'&reviewerType=all_reviews'\n",
        "            review_url = re.search('^.+(?=\\/)', url1).group()\n",
        "            review_url = review_url + '/ref=cm_cr_arp_d_viewopt_srt?ie=UTF8&reviewerType=all_reviews&sortBy={0}&pageNumber={1}'.format(filter_by, page_num)\n",
        "#             print('Processing {0}...'.format(review_url))\n",
        "            response = self.session.get(review_url)\n",
        "\n",
        "            product_name = self.product_name_pattern.search(url1).group(1) if self.product_name_pattern.search(url1) else ''\n",
        "            if not product_name:\n",
        "                print('url is invalid. Please check the url.')\n",
        "                return\n",
        "            else:\n",
        "                product_name = product_name.replace('-', ' ')\n",
        "\n",
        "            soup = BeautifulSoup(response.content, 'html.parser')\n",
        "            review_list = soup.find('div', {'id': 'cm_cr-review_list' })    \n",
        "            \n",
        "            if not review_list:\n",
        "                return\n",
        "            \n",
        "            reviews = []\n",
        "            product_reviews = review_list.find_all('div', {'data-hook': 'review'}) # return reviews\n",
        "            \n",
        "            if not product_reviews:\n",
        "                return\n",
        "            \n",
        "            for product_review in product_reviews:\n",
        "                if (product_review.find('a', {'data-hook': 'review-title'})) is None:\n",
        "#                     print('Include other country')\n",
        "                    break\n",
        "                else:\n",
        "                    review_title = product_review.find('a', {'data-hook': 'review-title'}).text.strip()\n",
        "                    verified_purchase = True if product_review.find('span', {'data-hook': 'avp-badge'}) else False\n",
        "                    review_body = product_review.find('span', {'data-hook': 'review-body'}).text.strip()\n",
        "                    rating = product_review.find('i', {'data-hook': 'review-star-rating'}).text\n",
        "    #                 review_date = self.review_date_pattern.search(product_review.find('span', {'data-hook': 'review-date'}).text).group(0)\n",
        "                    review_date = product_review.find('span', {'data-hook': 'review-date'}).text\n",
        "                    username = product_review.a.span.text\n",
        "                    user_profile = 'https://amazon.co.uk/{0}'.format(product_review.a['href'])\n",
        "                    reviews.append(UserReview(url, review_title, review_body, rating, review_date, username, user_profile, verified_purchase))\n",
        "            return reviews\n",
        "        except Exception as e:\n",
        "            print(e)\n",
        "            return None"
      ],
      "outputs": [],
      "execution_count": null,
      "metadata": {
        "noteable": {},
        "ExecuteTime": {
          "end_time": "2023-08-09T14:43:16.887053+00:00",
          "start_time": "2023-08-09T14:43:16.623328+00:00"
        }
      },
      "id": "4c0eac4c"
    },
    {
      "cell_type": "code",
      "source": [
        "user_agent_list = [\n",
        "   #Chrome\n",
        "    'Mozilla/5.0 (Windows NT 10.0; Win64; x64) AppleWebKit/537.36 (KHTML, like Gecko) Chrome/60.0.3112.113 Safari/537.36',\n",
        "    'Mozilla/5.0 (Windows NT 6.1; Win64; x64) AppleWebKit/537.36 (KHTML, like Gecko) Chrome/60.0.3112.90 Safari/537.36',\n",
        "    'Mozilla/5.0 (Windows NT 5.1; Win64; x64) AppleWebKit/537.36 (KHTML, like Gecko) Chrome/60.0.3112.90 Safari/537.36',\n",
        "    'Mozilla/5.0 (Windows NT 6.2; Win64; x64) AppleWebKit/537.36 (KHTML, like Gecko) Chrome/60.0.3112.90 Safari/537.36',\n",
        "    'Mozilla/5.0 (X11; Linux x86_64) AppleWebKit/537.36 (KHTML, like Gecko) Chrome/44.0.2403.157 Safari/537.36',\n",
        "    'Mozilla/5.0 (Windows NT 6.3; Win64; x64) AppleWebKit/537.36 (KHTML, like Gecko) Chrome/60.0.3112.113 Safari/537.36',\n",
        "    'Mozilla/5.0 (Windows NT 10.0; Win64; x64) AppleWebKit/537.36 (KHTML, like Gecko) Chrome/57.0.2987.133 Safari/537.36',\n",
        "    'Mozilla/5.0 (Windows NT 6.1; Win64; x64) AppleWebKit/537.36 (KHTML, like Gecko) Chrome/57.0.2987.133 Safari/537.36',\n",
        "    'Mozilla/5.0 (Windows NT 10.0; Win64; x64) AppleWebKit/537.36 (KHTML, like Gecko) Chrome/55.0.2883.87 Safari/537.36',\n",
        "    'Mozilla/5.0 (Windows NT 6.1; Win64; x64) AppleWebKit/537.36 (KHTML, like Gecko) Chrome/55.0.2883.87 Safari/537.36',\n",
        "    #Firefox\n",
        "    'Mozilla/4.0 (compatible; MSIE 9.0; Windows NT 6.1)',\n",
        "    'Mozilla/5.0 (Windows NT 6.1; WOW64; Trident/7.0; rv:11.0) like Gecko',\n",
        "    'Mozilla/5.0 (compatible; MSIE 9.0; Windows NT 6.1; WOW64; Trident/5.0)',\n",
        "    'Mozilla/5.0 (Windows NT 6.1; Trident/7.0; rv:11.0) like Gecko',\n",
        "    'Mozilla/5.0 (Windows NT 6.2; WOW64; Trident/7.0; rv:11.0) like Gecko',\n",
        "    'Mozilla/5.0 (Windows NT 10.0; WOW64; Trident/7.0; rv:11.0) like Gecko',\n",
        "    'Mozilla/5.0 (compatible; MSIE 9.0; Windows NT 6.0; Trident/5.0)',\n",
        "    'Mozilla/5.0 (Windows NT 6.3; WOW64; Trident/7.0; rv:11.0) like Gecko',\n",
        "    'Mozilla/5.0 (compatible; MSIE 9.0; Windows NT 6.1; Trident/5.0)',\n",
        "    'Mozilla/5.0 (Windows NT 6.1; Win64; x64; Trident/7.0; rv:11.0) like Gecko',\n",
        "    'Mozilla/5.0 (compatible; MSIE 10.0; Windows NT 6.1; WOW64; Trident/6.0)',\n",
        "    'Mozilla/5.0 (compatible; MSIE 10.0; Windows NT 6.1; Trident/6.0)',\n",
        "    'Mozilla/4.0 (compatible; MSIE 8.0; Windows NT 5.1; Trident/4.0; .NET CLR 2.0.50727; .NET CLR 3.0.4506.2152; .NET CLR 3.5.30729)'\n",
        "]"
      ],
      "outputs": [],
      "execution_count": 4,
      "metadata": {
        "noteable": {},
        "ExecuteTime": {
          "end_time": "2023-08-09T14:43:35.426889+00:00",
          "start_time": "2023-08-09T14:43:35.269162+00:00"
        }
      },
      "id": "373a9485"
    },
    {
      "cell_type": "code",
      "source": [
        "\n",
        "#Get Toal Pages\n",
        "\n",
        "# Define the search query and URL\n",
        "query = 'tommy hilfiger jewellery men'\n",
        "page = 1\n",
        "url = f'https://www.amazon.co.uk/s?k={query}&page={page}&ref=nb_sb_noss'\n",
        "url = url.replace(\" \", \"%20\")\n",
        "# url = 'https://www.amazon.co.uk/s?k=tommy+hilfiger+jewellery+men&qid=1677873266&ref=sr_pg_1'\n",
        "#Tissot url = https://www.amazon.co.uk/s?k=tissot+watches+for+men&crid=WR3VR7NUASFY&sprefix=tissot%2Caps%2C202&ref=nb_sb_ss_ts-doa-p_2_6\n",
        "# session = requests.Session()\n",
        "# session.headers['User-Agent'] = 'My User Agent 4.2'\n",
        "# session.headers['Accept'] = 'text/html,application/xhtml+xml,application/xml;q=0.9,image/webp,*/*;q=0.8'\n",
        "# session.headers['Accept-Language'] = 'en-US,en;q=0.5'\n",
        "# session.headers['Connection'] = 'keep-alive'\n",
        "# session.headers['Upgrade-Insecure-Requests'] = '1'\n",
        "# # Send a request to the search URL and get the HTML content of the page\n",
        "# response = session.get(url)\n",
        "# html_content = response.content\n",
        "user_agent = random.choice(user_agent_list)\n",
        "opener = urllib.request.build_opener()\n",
        "opener.addheaders = [('User-agent', user_agent)]\n",
        "response = opener.open(url)\n",
        "html_content = response.read()\n",
        "soup = BeautifulSoup(html_content, 'html.parser')\n",
        "\n",
        "result_text = soup.find('div', {'class': 'a-section a-spacing-small a-spacing-top-small'}).get_text().strip()\n",
        "total_results = int(result_text.split()[2].replace(',', ''))\n",
        "\n",
        "# results_per_page = len(soup.find_all('div', {'class': 's-result-item'}))\n",
        "results_per_page = int(result_text.split()[0].replace(',', '').split('-')[1])\n",
        "num_pages = total_results // results_per_page + (1 if total_results % results_per_page > 0 else 0)\n",
        "\n",
        "print(f'Total number of results: {total_results}')\n",
        "print(f'Results per page: {results_per_page}')\n",
        "print(f'Number of pages: {num_pages}')\n"
      ],
      "outputs": [
        {
          "output_type": "error",
          "ename": "HTTPError",
          "evalue": "HTTP Error 503: Service Unavailable",
          "traceback": [
            "\u001b[0;31m---------------------------------------------------------------------------\u001b[0m",
            "\u001b[0;31mHTTPError\u001b[0m                                 Traceback (most recent call last)",
            "Cell \u001b[0;32mIn[6], line 22\u001b[0m\n\u001b[1;32m     20\u001b[0m opener \u001b[38;5;241m=\u001b[39m urllib\u001b[38;5;241m.\u001b[39mrequest\u001b[38;5;241m.\u001b[39mbuild_opener()\n\u001b[1;32m     21\u001b[0m opener\u001b[38;5;241m.\u001b[39maddheaders \u001b[38;5;241m=\u001b[39m [(\u001b[38;5;124m'\u001b[39m\u001b[38;5;124mUser-agent\u001b[39m\u001b[38;5;124m'\u001b[39m, user_agent)]\n\u001b[0;32m---> 22\u001b[0m response \u001b[38;5;241m=\u001b[39m \u001b[43mopener\u001b[49m\u001b[38;5;241;43m.\u001b[39;49m\u001b[43mopen\u001b[49m\u001b[43m(\u001b[49m\u001b[43murl\u001b[49m\u001b[43m)\u001b[49m\n\u001b[1;32m     23\u001b[0m html_content \u001b[38;5;241m=\u001b[39m response\u001b[38;5;241m.\u001b[39mread()\n\u001b[1;32m     24\u001b[0m soup \u001b[38;5;241m=\u001b[39m BeautifulSoup(html_content, \u001b[38;5;124m'\u001b[39m\u001b[38;5;124mhtml.parser\u001b[39m\u001b[38;5;124m'\u001b[39m)\n",
            "File \u001b[0;32m/opt/conda/lib/python3.9/urllib/request.py:523\u001b[0m, in \u001b[0;36mOpenerDirector.open\u001b[0;34m(self, fullurl, data, timeout)\u001b[0m\n\u001b[1;32m    521\u001b[0m \u001b[38;5;28;01mfor\u001b[39;00m processor \u001b[38;5;129;01min\u001b[39;00m \u001b[38;5;28mself\u001b[39m\u001b[38;5;241m.\u001b[39mprocess_response\u001b[38;5;241m.\u001b[39mget(protocol, []):\n\u001b[1;32m    522\u001b[0m     meth \u001b[38;5;241m=\u001b[39m \u001b[38;5;28mgetattr\u001b[39m(processor, meth_name)\n\u001b[0;32m--> 523\u001b[0m     response \u001b[38;5;241m=\u001b[39m \u001b[43mmeth\u001b[49m\u001b[43m(\u001b[49m\u001b[43mreq\u001b[49m\u001b[43m,\u001b[49m\u001b[43m \u001b[49m\u001b[43mresponse\u001b[49m\u001b[43m)\u001b[49m\n\u001b[1;32m    525\u001b[0m \u001b[38;5;28;01mreturn\u001b[39;00m response\n",
            "File \u001b[0;32m/opt/conda/lib/python3.9/urllib/request.py:632\u001b[0m, in \u001b[0;36mHTTPErrorProcessor.http_response\u001b[0;34m(self, request, response)\u001b[0m\n\u001b[1;32m    629\u001b[0m \u001b[38;5;66;03m# According to RFC 2616, \"2xx\" code indicates that the client's\u001b[39;00m\n\u001b[1;32m    630\u001b[0m \u001b[38;5;66;03m# request was successfully received, understood, and accepted.\u001b[39;00m\n\u001b[1;32m    631\u001b[0m \u001b[38;5;28;01mif\u001b[39;00m \u001b[38;5;129;01mnot\u001b[39;00m (\u001b[38;5;241m200\u001b[39m \u001b[38;5;241m<\u001b[39m\u001b[38;5;241m=\u001b[39m code \u001b[38;5;241m<\u001b[39m \u001b[38;5;241m300\u001b[39m):\n\u001b[0;32m--> 632\u001b[0m     response \u001b[38;5;241m=\u001b[39m \u001b[38;5;28;43mself\u001b[39;49m\u001b[38;5;241;43m.\u001b[39;49m\u001b[43mparent\u001b[49m\u001b[38;5;241;43m.\u001b[39;49m\u001b[43merror\u001b[49m\u001b[43m(\u001b[49m\n\u001b[1;32m    633\u001b[0m \u001b[43m        \u001b[49m\u001b[38;5;124;43m'\u001b[39;49m\u001b[38;5;124;43mhttp\u001b[39;49m\u001b[38;5;124;43m'\u001b[39;49m\u001b[43m,\u001b[49m\u001b[43m \u001b[49m\u001b[43mrequest\u001b[49m\u001b[43m,\u001b[49m\u001b[43m \u001b[49m\u001b[43mresponse\u001b[49m\u001b[43m,\u001b[49m\u001b[43m \u001b[49m\u001b[43mcode\u001b[49m\u001b[43m,\u001b[49m\u001b[43m \u001b[49m\u001b[43mmsg\u001b[49m\u001b[43m,\u001b[49m\u001b[43m \u001b[49m\u001b[43mhdrs\u001b[49m\u001b[43m)\u001b[49m\n\u001b[1;32m    635\u001b[0m \u001b[38;5;28;01mreturn\u001b[39;00m response\n",
            "File \u001b[0;32m/opt/conda/lib/python3.9/urllib/request.py:561\u001b[0m, in \u001b[0;36mOpenerDirector.error\u001b[0;34m(self, proto, *args)\u001b[0m\n\u001b[1;32m    559\u001b[0m \u001b[38;5;28;01mif\u001b[39;00m http_err:\n\u001b[1;32m    560\u001b[0m     args \u001b[38;5;241m=\u001b[39m (\u001b[38;5;28mdict\u001b[39m, \u001b[38;5;124m'\u001b[39m\u001b[38;5;124mdefault\u001b[39m\u001b[38;5;124m'\u001b[39m, \u001b[38;5;124m'\u001b[39m\u001b[38;5;124mhttp_error_default\u001b[39m\u001b[38;5;124m'\u001b[39m) \u001b[38;5;241m+\u001b[39m orig_args\n\u001b[0;32m--> 561\u001b[0m     \u001b[38;5;28;01mreturn\u001b[39;00m \u001b[38;5;28;43mself\u001b[39;49m\u001b[38;5;241;43m.\u001b[39;49m\u001b[43m_call_chain\u001b[49m\u001b[43m(\u001b[49m\u001b[38;5;241;43m*\u001b[39;49m\u001b[43margs\u001b[49m\u001b[43m)\u001b[49m\n",
            "File \u001b[0;32m/opt/conda/lib/python3.9/urllib/request.py:494\u001b[0m, in \u001b[0;36mOpenerDirector._call_chain\u001b[0;34m(self, chain, kind, meth_name, *args)\u001b[0m\n\u001b[1;32m    492\u001b[0m \u001b[38;5;28;01mfor\u001b[39;00m handler \u001b[38;5;129;01min\u001b[39;00m handlers:\n\u001b[1;32m    493\u001b[0m     func \u001b[38;5;241m=\u001b[39m \u001b[38;5;28mgetattr\u001b[39m(handler, meth_name)\n\u001b[0;32m--> 494\u001b[0m     result \u001b[38;5;241m=\u001b[39m \u001b[43mfunc\u001b[49m\u001b[43m(\u001b[49m\u001b[38;5;241;43m*\u001b[39;49m\u001b[43margs\u001b[49m\u001b[43m)\u001b[49m\n\u001b[1;32m    495\u001b[0m     \u001b[38;5;28;01mif\u001b[39;00m result \u001b[38;5;129;01mis\u001b[39;00m \u001b[38;5;129;01mnot\u001b[39;00m \u001b[38;5;28;01mNone\u001b[39;00m:\n\u001b[1;32m    496\u001b[0m         \u001b[38;5;28;01mreturn\u001b[39;00m result\n",
            "File \u001b[0;32m/opt/conda/lib/python3.9/urllib/request.py:641\u001b[0m, in \u001b[0;36mHTTPDefaultErrorHandler.http_error_default\u001b[0;34m(self, req, fp, code, msg, hdrs)\u001b[0m\n\u001b[1;32m    640\u001b[0m \u001b[38;5;28;01mdef\u001b[39;00m \u001b[38;5;21mhttp_error_default\u001b[39m(\u001b[38;5;28mself\u001b[39m, req, fp, code, msg, hdrs):\n\u001b[0;32m--> 641\u001b[0m     \u001b[38;5;28;01mraise\u001b[39;00m HTTPError(req\u001b[38;5;241m.\u001b[39mfull_url, code, msg, hdrs, fp)\n",
            "\u001b[0;31mHTTPError\u001b[0m: HTTP Error 503: Service Unavailable"
          ]
        }
      ],
      "execution_count": 40,
      "metadata": {
        "scrolled": true,
        "noteable": {},
        "ExecuteTime": {
          "end_time": "2023-08-09T14:44:18.938962+00:00",
          "start_time": "2023-08-09T14:44:18.589037+00:00"
        }
      },
      "id": "c60521ab"
    },
    {
      "cell_type": "code",
      "source": [
        "###Only for one page\n",
        "# query = 'tommy hilfiger jewellery women'\n",
        "Title = []\n",
        "Price = []\n",
        "Rating = []\n",
        "Description = []\n",
        "url_key = []\n",
        "df = pd.DataFrame(columns=['Name', 'Value', 'url'])\n",
        "reviews = []\n",
        "# session = requests.Session()\n",
        "# session.headers['User-Agent'] = 'My User Agent 87.7'\n",
        "# session.headers['Accept'] = 'text/html,application/xhtml+xml,application/xml;q=0.9,image/webp,*/*;q=0.8'\n",
        "# session.headers['Accept-Language'] = 'en-US,en;q=0.5'\n",
        "# session.headers['Connection'] = 'keep-alive'\n",
        "# session.headers['Upgrade-Insecure-Requests'] = '1'\n",
        "\n",
        "#num_pages+1\n",
        "for page in range(1,2):\n",
        "#     url = f'https://www.amazon.co.uk/s?k={query}&page={page}&ref=nb_sb_noss'\n",
        "#     # Parse the HTML content using BeautifulSoup\n",
        "#     print(f'Page:{page}')\n",
        "    \n",
        "    url = 'https://www.amazon.co.uk/s?k=boss+jewellery+for+men&crid=33F2J8F5ZMF98&sprefix=boss+jewellery+for+men%2Caps%2C208&ref=nb_sb_noss_1' \n",
        "    user_agent = random.choice(user_agent_list)\n",
        "    opener = urllib.request.build_opener()\n",
        "    opener.addheaders = [('User-agent', user_agent)]\n",
        "    response = opener.open(url)\n",
        "    html_content = response.read()\n",
        "#     response = session.get(url)\n",
        "#     html_content = response.content\n",
        "    \n",
        "    soup = BeautifulSoup(html_content, 'html.parser')\n",
        "    \n",
        "    # Extract the URLs of the product pages from the search results\n",
        "    product_urls = []\n",
        "    results = soup.find_all('div', {'class': 's-result-item'})\n",
        "    for result in results:\n",
        "        link = result.find('a', {'class': 'a-link-normal s-no-outline'})\n",
        "\n",
        "        if link:\n",
        "            u = 'https://www.amazon.co.uk'+link.get('href')\n",
        "            product_urls.append(u)\n",
        "    # List\n",
        "\n",
        "    # Scrape the product details for each product page\n",
        "    for product_url in product_urls[:-1]:\n",
        "        url_key.append(product_url)\n",
        "#         response = session.get(product_url)\n",
        "#         html_content = response.content\n",
        "        response = opener.open(product_url)\n",
        "        html_content = response.read()\n",
        "        soup = BeautifulSoup(html_content, 'html.parser')\n",
        "        title = soup.find('span', attrs={'id': 'productTitle'}).get_text().strip()\n",
        "        Title.append(title)\n",
        "        if not soup.find('span', attrs={'class': 'a-price-whole'}):\n",
        "            Price.append(' ')\n",
        "        else:\n",
        "            price1 = soup.find('span', attrs={'class': 'a-price-whole'}).get_text().strip()\n",
        "            price2 = soup.find('span', attrs={'class': 'a-price-fraction'}).get_text().strip()\n",
        "            Price.append(price1+price2)\n",
        "        if not soup.find('span', attrs={'class': 'a-icon-alt'}):\n",
        "            Rating.append(' ')\n",
        "        else:\n",
        "            rating = soup.find('span', attrs={'class': 'a-icon-alt'}).get_text().strip()\n",
        "            Rating.append(rating)\n",
        "        if not soup.find('div', attrs={'id': 'productDescription'}):\n",
        "            Description.append(' ')\n",
        "        else:\n",
        "            description = soup.find('div', attrs={'id': 'productDescription'}).get_text().strip()\n",
        "            Description.append(description)\n",
        "        \n",
        "        #Detail page\n",
        "        specifications_container = soup.find(\"table\", attrs={\"id\": \"technicalSpecifications_section_1\"})\n",
        "        if specifications_container:\n",
        "            specification_rows = specifications_container.find_all(\"tr\")\n",
        "\n",
        "            # Iterate through each specification row and extract the relevant information\n",
        "            for row in specification_rows:\n",
        "                # Extract the specification name\n",
        "                name = row.find(\"th\").text.strip()\n",
        "\n",
        "                # Extract the specification value\n",
        "                value = row.find(\"td\").text.strip()\n",
        "\n",
        "            # Print the extracted information\n",
        "                df = df.append({'Name': name, 'Value': value, 'url': product_url}, ignore_index=True)\n",
        "        else:\n",
        "            df.append({'Name': ' ', 'Value': ' ', 'url': product_url}, ignore_index=True)\n",
        "            \n",
        "        print('---------------------------------------------------------')\n",
        "        \n",
        "        print(f'Title: {title}')\n",
        "        print(f'Price: {price1+price2}')\n",
        "        print(f'Rating: {rating}')\n",
        "        print(f'Description: {description}')\n",
        "        \n",
        " \n",
        "        amz_scraper = AmazonScraper()\n",
        "        \n",
        "#         product_url = product_url.replace('dp', 'product-reviews')+'&reviewerType=all_reviews'\n",
        "        for page_num in range(1, 100):\n",
        "            if amz_scraper.scrapeReviews(url=product_url, page_num=page_num) ==[] or amz_scraper.scrapeReviews(url=product_url, page_num=page_num) ==None:\n",
        "#                 reviews.extend(UserReview(' ', ' ', ' ', ' ', ' ', ' ', ' ', ' '))\n",
        "                break\n",
        "            reviews.extend(amz_scraper.scrapeReviews(url=product_url, page_num=page_num))\n",
        "            time.sleep(5)\n",
        "\n",
        "#         Reviews = pd.DataFrame(reviews)\n",
        "        if product_url == product_urls[-2]:\n",
        "            print(f'page {page} is finished')\n",
        "            print('---------------------------------------------')\n",
        "            print('\\n')\n",
        "        \n",
        "        \n",
        "        time.sleep(5)"
      ],
      "outputs": [
        {
          "output_type": "stream",
          "name": "stdout",
          "text": [
            "---------------------------------------------------------\n",
            "Title: BOSS Jewelry Men's Chain Link Collection Chain Necklace - 1580142, (logo may vary)\n",
            "Price: 63.99\n",
            "Rating: 4.4 out of 5 stars\n",
            "Description: BOSS jewellery reflects the sophisticated character and craftsmanship for which all HUGO BOSS products are known. Synonymous with fashion, it stands out in the world of quality branded jewellerywith a style and presence of its own.\n"
          ]
        },
        {
          "output_type": "stream",
          "name": "stdout",
          "text": [
            "---------------------------------------------------------\n",
            "Title: BOSS Jewelry Men's Chain Link Collection Chain Bracelet - 1580144M\n",
            "Price: 50.15\n",
            "Rating: 4.0 out of 5 stars\n",
            "Description: BOSS jewellery reflects the sophisticated character and craftsmanship for which all HUGO BOSS products are known. Synonymous with fashion, it stands out in the world of quality branded jewellerywith a style and presence of its own.\n"
          ]
        },
        {
          "output_type": "stream",
          "name": "stdout",
          "text": [
            "---------------------------------------------------------\n",
            "Title: BOSS Jewelry Men's SEAL Collection Bracelet Black - 1580047M\n",
            "Price: 42.00\n",
            "Rating: 4.3 out of 5 stars\n",
            "Description: BOSS jewellery reflects the sophisticated character and craftsmanship for which all HUGO BOSS products are known. Synonymous with fashion, it stands out in the world of quality branded jewellerywith a style and presence of its own.\n"
          ]
        },
        {
          "output_type": "stream",
          "name": "stdout",
          "text": [
            "---------------------------------------------------------\n",
            "Title: BOSS Jewelry Men's Chain For Him Collection Chain Necklace - 1580173\n",
            "Price: 75.65\n",
            "Rating: 4.2 out of 5 stars\n",
            "Description: BOSS jewellery reflects the sophisticated character and craftsmanship for which all HUGO BOSS products are known. Synonymous with fashion, it stands out in the world of quality branded jewellerywith a style and presence of its own.\n"
          ]
        },
        {
          "output_type": "stream",
          "name": "stdout",
          "text": [
            "---------------------------------------------------------\n",
            "Title: BOSS Jewelry Men's BRAIDED LEATHER Collection Bracelet Black - 1580152\n",
            "Price: 42.00\n",
            "Rating: 3.8 out of 5 stars\n",
            "Description: BOSS jewellery reflects the sophisticated character and craftsmanship for which all HUGO BOSS products are known. Synonymous with fashion, it stands out in the world of quality branded jewellerywith a style and presence of its own.\n"
          ]
        },
        {
          "output_type": "stream",
          "name": "stdout",
          "text": [
            "---------------------------------------------------------\n",
            "Title: BOSS Jewelry Men's SEAL Collection Bracelet Brown - 1580048M\n",
            "Price: 44.00\n",
            "Rating: 4.2 out of 5 stars\n",
            "Description: BOSS jewellery reflects the sophisticated character and craftsmanship for which all HUGO BOSS products are known. Synonymous with fashion, it stands out in the world of quality branded jewellerywith a style and presence of its own.\n"
          ]
        },
        {
          "output_type": "stream",
          "name": "stdout",
          "text": [
            "---------------------------------------------------------\n",
            "Title: BOSS Jewelry Men's Metal Link Essentials Collection Link Bracelet - 1580036\n",
            "Price: 71.20\n",
            "Rating: 3.7 out of 5 stars\n",
            "Description: BOSS jewellery reflects the sophisticated character and craftsmanship for which all HUGO BOSS products are known. Synonymous with fashion, it stands out in the world of quality branded jewellerywith a style and presence of its own.\n"
          ]
        },
        {
          "output_type": "stream",
          "name": "stdout",
          "text": [
            "---------------------------------------------------------\n",
            "Title: BOSS Jewelry Men's BENNETT Collection Chain Bracelet - 1580262\n",
            "Price: 51.35\n",
            "Rating: 5.0 out of 5 stars\n",
            "Description: Dress like a BOSS.BOSS jewelry reflects the dressing excellence codes and design for which all HUGO BOSS products are known. Synonymous with fashion, it stands out in the world of quality branded jewelry with a style and presence of its own. Tailored for the man and woman who draw attention in all situations.BeYourOwnBOSS\n"
          ]
        },
        {
          "output_type": "stream",
          "name": "stdout",
          "text": [
            "---------------------------------------------------------\n",
            "Title: BOSS Jewelry Men's Chain Link Collection Chain Bracelet - 1580145M\n",
            "Price: 59.00\n",
            "Rating: 3.9 out of 5 stars\n",
            "Description: BOSS jewellery reflects the sophisticated character and craftsmanship for which all HUGO BOSS products are known. Synonymous with fashion, it stands out in the world of quality branded jewellerywith a style and presence of its own.\n"
          ]
        },
        {
          "output_type": "stream",
          "name": "stdout",
          "text": [
            "---------------------------------------------------------\n",
            "Title: BOSS Jewelry Men's Orlado Collection Chain Bracelet - 1580359M\n",
            "Price: 62.60\n",
            "Rating: 3.1 out of 5 stars\n",
            "Description: Dress like a BOSS. BOSS jewelry reflects the dressing excellence codes and design for which all HUGO BOSS products are known. Synonymous with fashion, it stands out in the world of quality branded jewelry with a style and presence of its own. Tailored for the man and woman who draw attention in all situations. #BeYourOwnBOSS\n"
          ]
        },
        {
          "output_type": "stream",
          "name": "stdout",
          "text": [
            "---------------------------------------------------------\n",
            "Title: BOSS Jewelry Men's GROVER Collection Leather Bracelet Brown - 1580329M\n",
            "Price: 47.00\n",
            "Rating: 5.0 out of 5 stars\n",
            "Description: Dress like a BOSS. BOSS jewelry reflects the dressing excellence codes and design for which all HUGO BOSS products are known. Synonymous with fashion, it stands out in the world of quality branded jewelry with a style and presence of its own. Tailored for the man and woman who draw attention in all situations. #BeYourOwnBOSS.\n"
          ]
        },
        {
          "output_type": "stream",
          "name": "stdout",
          "text": [
            "---------------------------------------------------------\n",
            "Title: BOSS Jewelry Men's Lander Collection Pendant Necklace - 1580180\n",
            "Price: 69.00\n",
            "Rating: 4.0 out of 5 stars\n",
            "Description: BOSS jewellery reflects the sophisticated character and craftsmanship for which all HUGO BOSS products are known. Synonymous with fashion, it stands out in the world of quality branded jewellerywith a style and presence of its own.\n"
          ]
        },
        {
          "output_type": "stream",
          "name": "stdout",
          "text": [
            "---------------------------------------------------------\n",
            "Title: BOSS Jewelry Men's Metal Link Essentials Collection Link Bracelet - 1580055\n",
            "Price: 84.15\n",
            "Rating: 3.6 out of 5 stars\n",
            "Description: BOSS jewellery reflects the sophisticated character and craftsmanship for which all HUGO BOSS products are known. Synonymous with fashion, it stands out in the world of quality branded jewellerywith a style and presence of its own.\n"
          ]
        },
        {
          "output_type": "stream",
          "name": "stdout",
          "text": [
            "---------------------------------------------------------\n",
            "Title: BOSS Jewelry Men's Metal Link Essentials Collection Link Bracelet - 1580056\n",
            "Price: 79.00\n",
            "Rating: 4.0 out of 5 stars\n",
            "Description: BOSS jewellery reflects the sophisticated character and craftsmanship for which all HUGO BOSS products are known. Synonymous with fashion, it stands out in the world of quality branded jewellerywith a style and presence of its own.\n"
          ]
        },
        {
          "output_type": "stream",
          "name": "stdout",
          "text": [
            "---------------------------------------------------------\n",
            "Title: BOSS Jewelry Men's Sarkis A Collection Silicone Bracelet - 1580363S\n",
            "Price: 65.25\n",
            "Rating: 3.5 out of 5 stars\n",
            "Description: Dress like a BOSS. BOSS jewelry reflects the dressing excellence codes and design for which all HUGO BOSS products are known. Synonymous with fashion, it stands out in the world of quality branded jewelry with a style and presence of its own. Tailored for the man and woman who draw attention in all situations. #BeYourOwnBOSS\n"
          ]
        },
        {
          "output_type": "stream",
          "name": "stdout",
          "text": [
            "---------------------------------------------------------\n",
            "Title: BOSS Jewelry Men's ID Collection Chain Bracelet - 1580049M\n",
            "Price: 58.65\n",
            "Rating: 4.1 out of 5 stars\n",
            "Description: BOSS jewellery reflects the sophisticated character and craftsmanship for which all HUGO BOSS products are known. Synonymous with fashion, it stands out in the world of quality branded jewellerywith a style and presence of its own.\n"
          ]
        },
        {
          "output_type": "stream",
          "name": "stdout",
          "text": [
            "---------------------------------------------------------\n",
            "Title: BOSS Jewelry Men's Chain Link Collection Chain Bracelet - 1580144S\n",
            "Price: 50.15\n",
            "Rating: 3.9 out of 5 stars\n",
            "Description: Dress like a BOSS.BOSS jewelry reflects the dressing excellence codes and design for which all HUGO BOSS products are known. Synonymous with fashion, it stands out in the world of quality branded jewelry with a style and presence of its own. Tailored for the man and woman who draw attention in all situations.BeYourOwnBOSS\n"
          ]
        },
        {
          "output_type": "stream",
          "name": "stdout",
          "text": [
            "---------------------------------------------------------\n",
            "Title: BOSS Jewelry Men's Sarkis A Collection Pendant Necklace - 1580361\n",
            "Price: 65.00\n",
            "Rating: 3.4 out of 5 stars\n",
            "Description: Dress like a BOSS. BOSS jewelry reflects the dressing excellence codes and design for which all HUGO BOSS products are known. Synonymous with fashion, it stands out in the world of quality branded jewelry with a style and presence of its own. Tailored for the man and woman who draw attention in all situations. #BeYourOwnBOSS\n"
          ]
        },
        {
          "output_type": "stream",
          "name": "stdout",
          "text": [
            "---------------------------------------------------------\n",
            "Title: BOSS Jewelry Men's BLENDED Collection Leather & Steel Bracelet Brown - 1580149S\n",
            "Price: 55.00\n",
            "Rating: 4.0 out of 5 stars\n",
            "Description: Dress like a BOSS.BOSS jewelry reflects the dressing excellence codes and design for which all HUGO BOSS products are known. Synonymous with fashion, it stands out in the world of quality branded jewelry with a style and presence of its own. Tailored for the man and woman who draw attention in all situations.BeYourOwnBOSS\n"
          ]
        },
        {
          "output_type": "stream",
          "name": "stdout",
          "text": [
            "---------------------------------------------------------\n",
            "Title: BOSS Jewelry Men's THAD SPORT Collection Bracelet in Nylon\n",
            "Price: 62.00\n",
            "Rating: Previous page\n",
            "Description: \n"
          ]
        },
        {
          "output_type": "stream",
          "name": "stdout",
          "text": [
            "---------------------------------------------------------\n",
            "Title: BOSS Jewelry Men's Bennett Collection Pendant with Chain - 1580265\n",
            "Price: 57.35\n",
            "Rating: 5.0 out of 5 stars\n",
            "Description: Dress like a BOSS.BOSS jewelry reflects the dressing excellence codes and design for which all HUGO BOSS products are known. Synonymous with fashion, it stands out in the world of quality branded jewelry with a style and presence of its own. Tailored for the man and woman who draw attention in all situations.BeYourOwnBOSS\n"
          ]
        },
        {
          "output_type": "stream",
          "name": "stdout",
          "text": [
            "---------------------------------------------------------\n",
            "Title: BOSS Jewelry Men's LANDER Collection Bracelet Black - 1580178M\n",
            "Price: 59.00\n",
            "Rating: 4.4 out of 5 stars\n",
            "Description: BOSS jewellery reflects the sophisticated character and craftsmanship for which all HUGO BOSS products are known. Synonymous with fashion, it stands out in the world of quality branded jewellerywith a style and presence of its own.\n"
          ]
        },
        {
          "output_type": "stream",
          "name": "stdout",
          "text": [
            "---------------------------------------------------------\n",
            "Title: BOSS Jewelry Men's Bennett Collection Pendant with Chain - 1580263\n",
            "Price: 69.00\n",
            "Rating: 3.4 out of 5 stars\n",
            "Description: Dress like a BOSS.BOSS jewelry reflects the dressing excellence codes and design for which all HUGO BOSS products are known. Synonymous with fashion, it stands out in the world of quality branded jewelry with a style and presence of its own. Tailored for the man and woman who draw attention in all situations.BeYourOwnBOSS\n"
          ]
        },
        {
          "output_type": "stream",
          "name": "stdout",
          "text": [
            "---------------------------------------------------------\n",
            "Title: BOSS Jewelry Men's LANDER Collection Bracelet Blue - 1580179M\n",
            "Price: 67.15\n",
            "Rating: 4.0 out of 5 stars\n",
            "Description: BOSS jewellery reflects the sophisticated character and craftsmanship for which all HUGO BOSS products are known. Synonymous with fashion, it stands out in the world of quality branded jewellerywith a style and presence of its own.\n"
          ]
        },
        {
          "output_type": "stream",
          "name": "stdout",
          "text": [
            "---------------------------------------------------------\n",
            "Title: BOSS Jewelry Men's Chain For Him Collection Chain Bracelet - 1580172M\n",
            "Price: 58.65\n",
            "Rating: 4.1 out of 5 stars\n",
            "Description: BOSS jewellery reflects the sophisticated character and craftsmanship for which all HUGO BOSS products are known. Synonymous with fashion, it stands out in the world of quality branded jewellerywith a style and presence of its own.\n"
          ]
        },
        {
          "output_type": "stream",
          "name": "stdout",
          "text": [
            "---------------------------------------------------------\n",
            "Title: BOSS Jewelry Men's Orlado Collection Pendant Necklace - 1580356\n",
            "Price: 75.65\n",
            "Rating: 3.6 out of 5 stars\n",
            "Description: Dress like a BOSS. BOSS jewelry reflects the dressing excellence codes and design for which all HUGO BOSS products are known. Synonymous with fashion, it stands out in the world of quality branded jewelry with a style and presence of its own. Tailored for the man and woman who draw attention in all situations. #BeYourOwnBOSS\n"
          ]
        },
        {
          "output_type": "stream",
          "name": "stdout",
          "text": [
            "---------------------------------------------------------\n",
            "Title: BOSS Jewelry Men's Bennett Collection Chain Bracelet - 1580260\n",
            "Price: 65.00\n",
            "Rating: 4.3 out of 5 stars\n",
            "Description: Dress like a BOSS.BOSS jewelry reflects the dressing excellence codes and design for which all HUGO BOSS products are known. Synonymous with fashion, it stands out in the world of quality branded jewelry with a style and presence of its own. Tailored for the man and woman who draw attention in all situations.BeYourOwnBOSS\n"
          ]
        },
        {
          "output_type": "stream",
          "name": "stdout",
          "text": [
            "---------------------------------------------------------\n",
            "Title: BOSS Jewelry Men's SEAL Collection Leather Bracelet Brown - 1580048S\n",
            "Price: 44.10\n",
            "Rating: 3.6 out of 5 stars\n",
            "Description: Dress like a BOSS.BOSS jewelry reflects the dressing excellence codes and design for which all HUGO BOSS products are known. Synonymous with fashion, it stands out in the world of quality branded jewelry with a style and presence of its own. Tailored for the man and woman who draw attention in all situations.BeYourOwnBOSS\n"
          ]
        },
        {
          "output_type": "stream",
          "name": "stdout",
          "text": [
            "---------------------------------------------------------\n",
            "Title: BOSS Jewelry Men's BLENDED Collection Leather Bracelet Black - 1580150M\n",
            "Price: 60.00\n",
            "Rating: 4.4 out of 5 stars\n",
            "Description: BOSS jewellery reflects the sophisticated character and craftsmanship for which all HUGO BOSS products are known. Synonymous with fashion, it stands out in the world of quality branded jewellerywith a style and presence of its own.\n"
          ]
        },
        {
          "output_type": "stream",
          "name": "stdout",
          "text": [
            "---------------------------------------------------------\n",
            "Title: BOSS Jewelry Men's ID Collection Pendant with chain Yellow gold - 1580303\n",
            "Price: 70.00\n",
            "Rating: 3.5 out of 5 stars\n",
            "Description: Dress like a BOSS. BOSS jewelry reflects the dressing excellence codes and design for which all HUGO BOSS products are known. Synonymous with fashion, it stands out in the world of quality branded jewelry with a style and presence of its own. Tailored for the man and woman who draw attention in all situations. #BeYourOwnBOSS.\n"
          ]
        },
        {
          "output_type": "stream",
          "name": "stdout",
          "text": [
            "---------------------------------------------------------\n",
            "Title: BOSS Jewelry Men's SARKIS B Collection Link bracelet Stainless steel - 1580367\n",
            "Price: 73.05\n",
            "Rating: 5.0 out of 5 stars\n",
            "Description: Dress like a BOSS. BOSS jewelry reflects the dressing excellence codes and design for which all HUGO BOSS products are known. Synonymous with fashion, it stands out in the world of quality branded jewelry with a style and presence of its own. Tailored for the man and woman who draw attention in all situations. #BeYourOwnBOSS.\n"
          ]
        },
        {
          "output_type": "stream",
          "name": "stdout",
          "text": [
            "---------------------------------------------------------\n",
            "Title: BOSS Jewelry Men's Orlado Collection Chain Bracelet - 1580359S\n",
            "Price: 60.77\n",
            "Rating: 5.0 out of 5 stars\n",
            "Description: Dress like a BOSS. BOSS jewelry reflects the dressing excellence codes and design for which all HUGO BOSS products are known. Synonymous with fashion, it stands out in the world of quality branded jewelry with a style and presence of its own. Tailored for the man and woman who draw attention in all situations. #BeYourOwnBOSS\n"
          ]
        },
        {
          "output_type": "stream",
          "name": "stdout",
          "text": [
            "---------------------------------------------------------\n",
            "Title: BOSS Jewelry Men's Lander Collection Pendant Necklace - 1580181\n",
            "Price: 65.00\n",
            "Rating: 4.3 out of 5 stars\n",
            "Description: BOSS jewellery reflects the sophisticated character and craftsmanship for which all HUGO BOSS products are known. Synonymous with fashion, it stands out in the world of quality branded jewellerywith a style and presence of its own.\n"
          ]
        },
        {
          "output_type": "stream",
          "name": "stdout",
          "text": [
            "---------------------------------------------------------\n",
            "Title: BOSS Jewelry Men's MATTINI Collection Chain Necklace in Stainless steel\n",
            "Price: 99.00\n",
            "Rating: 5.0 out of 5 stars\n",
            "Description: \n"
          ]
        },
        {
          "output_type": "stream",
          "name": "stdout",
          "text": [
            "---------------------------------------------------------\n",
            "Title: BOSS Jewelry Men's Sarkis A Collection Silicone Bracelet - 1580364M\n",
            "Price: 44.00\n",
            "Rating: Previous page\n",
            "Description: Dress like a BOSS. BOSS jewelry reflects the dressing excellence codes and design for which all HUGO BOSS products are known. Synonymous with fashion, it stands out in the world of quality branded jewelry with a style and presence of its own. Tailored for the man and woman who draw attention in all situations. #BeYourOwnBOSS\n"
          ]
        },
        {
          "output_type": "stream",
          "name": "stdout",
          "text": [
            "---------------------------------------------------------\n",
            "Title: BOSS Jewelry Men's SARKIS B Collection Link bracelet Stainless steel - 1580369\n",
            "Price: 74.14\n",
            "Rating: 5.0 out of 5 stars\n",
            "Description: Dress like a BOSS. BOSS jewelry reflects the dressing excellence codes and design for which all HUGO BOSS products are known. Synonymous with fashion, it stands out in the world of quality branded jewelry with a style and presence of its own. Tailored for the man and woman who draw attention in all situations. #BeYourOwnBOSS.\n"
          ]
        },
        {
          "output_type": "stream",
          "name": "stdout",
          "text": [
            "---------------------------------------------------------\n",
            "Title: BOSS Jewelry Men's Chain For Him Collection Chain Necklace - 1580292\n",
            "Price: 67.15\n",
            "Rating: 3.4 out of 5 stars\n",
            "Description: Dress like a BOSS.BOSS jewelry reflects the dressing excellence codes and design for which all HUGO BOSS products are known. Synonymous with fashion, it stands out in the world of quality branded jewelry with a style and presence of its own. Tailored for the man and woman who draw attention in all situations.BeYourOwnBOSS\n"
          ]
        },
        {
          "output_type": "stream",
          "name": "stdout",
          "text": [
            "---------------------------------------------------------\n",
            "Title: BOSS Jewelry Men's JACE Collection Leather Bracelet Black - 1580336M\n",
            "Price: 56.05\n",
            "Rating: 5.0 out of 5 stars\n",
            "Description: Dress like a BOSS. BOSS jewelry reflects the dressing excellence codes and design for which all HUGO BOSS products are known. Synonymous with fashion, it stands out in the world of quality branded jewelry with a style and presence of its own. Tailored for the man and woman who draw attention in all situations. #BeYourOwnBOSS.\n"
          ]
        },
        {
          "output_type": "stream",
          "name": "stdout",
          "text": [
            "---------------------------------------------------------\n",
            "Title: BOSS Jewelry Men's Sarkis A Collection Pendant Necklace - 1580360\n",
            "Price: 76.27\n",
            "Rating: 3.5 out of 5 stars\n",
            "Description: Dress like a BOSS. BOSS jewelry reflects the dressing excellence codes and design for which all HUGO BOSS products are known. Synonymous with fashion, it stands out in the world of quality branded jewelry with a style and presence of its own. Tailored for the man and woman who draw attention in all situations. #BeYourOwnBOSS\n"
          ]
        },
        {
          "output_type": "stream",
          "name": "stdout",
          "text": [
            "---------------------------------------------------------\n",
            "Title: BOSS Jewelry Men's LEATHER ESSENTIALS Collection Bracelet Black - 1580033M\n",
            "Price: 47.20\n",
            "Rating: 4.4 out of 5 stars\n",
            "Description: BOSS jewellery reflects the sophisticated character and craftsmanship for which all HUGO BOSS products are known. Synonymous with fashion, it stands out in the world of quality branded jewellerywith a style and presence of its own.\n"
          ]
        },
        {
          "output_type": "stream",
          "name": "stdout",
          "text": [
            "---------------------------------------------------------\n",
            "Title: BOSS Jewelry Men's Mesh Essentials Collection Bracelet - 1580039M\n",
            "Price: 55.20\n",
            "Rating: 3.9 out of 5 stars\n",
            "Description: BOSS jewellery reflects the sophisticated character and craftsmanship for which all HUGO BOSS products are known. Synonymous with fashion, it stands out in the world of quality branded jewellerywith a style and presence of its own.\n"
          ]
        },
        {
          "output_type": "stream",
          "name": "stdout",
          "text": [
            "---------------------------------------------------------\n",
            "Title: BOSS Jewelry Men's Seal Collection Ring - 1580257M\n",
            "Price: 47.22\n",
            "Rating: 4.2 out of 5 stars\n",
            "Description: BOSS jewellery reflects the sophisticated character and craftsmanship for which all HUGO BOSS products are known. Synonymous with fashion, it stands out in the world of quality branded jewellerywith a style and presence of its own.\n"
          ]
        },
        {
          "output_type": "stream",
          "name": "stdout",
          "text": [
            "---------------------------------------------------------\n",
            "Title: BOSS Jewelry Men's Orlado Collection Chain Bracelet - 1580358M\n",
            "Price: 67.15\n",
            "Rating: 2.5 out of 5 stars\n",
            "Description: Dress like a BOSS. BOSS jewelry reflects the dressing excellence codes and design for which all HUGO BOSS products are known. Synonymous with fashion, it stands out in the world of quality branded jewelry with a style and presence of its own. Tailored for the man and woman who draw attention in all situations. #BeYourOwnBOSS\n"
          ]
        },
        {
          "output_type": "stream",
          "name": "stdout",
          "text": [
            "---------------------------------------------------------\n",
            "Title: BOSS Jewelry Men's ID Collection Ring\n",
            "Price: 1.54\n",
            "Rating: 4.3 out of 5 stars\n",
            "Description: \n"
          ]
        },
        {
          "output_type": "stream",
          "name": "stdout",
          "text": [
            "---------------------------------------------------------\n",
            "Title: BOSS Jewelry Men's Carter Collection Pendant Necklace - 1580315\n",
            "Price: 99.00\n",
            "Rating: 4.0 out of 5 stars\n",
            "Description: Dress like a BOSS. BOSS jewelry reflects the dressing excellence codes and design for which all HUGO BOSS products are known. Synonymous with fashion, it stands out in the world of quality branded jewelry with a style and presence of its own. Tailored for the man and woman who draw attention in all situations. #BeYourOwnBOSS\n"
          ]
        },
        {
          "output_type": "stream",
          "name": "stdout",
          "text": [
            "---------------------------------------------------------\n",
            "Title: BOSS Jewelry Men's Mixed Beads Collection Stone Bracelet - 1580272\n",
            "Price: 54.07\n",
            "Rating: 3.0 out of 5 stars\n",
            "Description: Dress like a BOSS.BOSS jewelry reflects the dressing excellence codes and design for which all HUGO BOSS products are known. Synonymous with fashion, it stands out in the world of quality branded jewelry with a style and presence of its own. Tailored for the man and woman who draw attention in all situations.BeYourOwnBOSS\n"
          ]
        },
        {
          "output_type": "stream",
          "name": "stdout",
          "text": [
            "---------------------------------------------------------\n",
            "Title: BOSS Jewelry Men's JACE Collection Leather Bracelet Black - 1580337M\n",
            "Price: 58.65\n",
            "Rating: 5.0 out of 5 stars\n",
            "Description: Dress like a BOSS. BOSS jewelry reflects the dressing excellence codes and design for which all HUGO BOSS products are known. Synonymous with fashion, it stands out in the world of quality branded jewelry with a style and presence of its own. Tailored for the man and woman who draw attention in all situations. #BeYourOwnBOSS.\n"
          ]
        },
        {
          "output_type": "stream",
          "name": "stdout",
          "text": [
            "---------------------------------------------------------\n",
            "Title: BOSS Jewelry Men's ID Collection Chain Bracelet - 1580051M\n",
            "Price: 69.20\n",
            "Rating: 3.8 out of 5 stars\n",
            "Description: BOSS jewellery reflects the sophisticated character and craftsmanship for which all HUGO BOSS products are known. Synonymous with fashion, it stands out in the world of quality branded jewellerywith a style and presence of its own.\n"
          ]
        },
        {
          "output_type": "stream",
          "name": "stdout",
          "text": [
            "page 1 is finished\n",
            "---------------------------------------------\n",
            "\n",
            "\n"
          ]
        }
      ],
      "execution_count": 16,
      "metadata": {
        "scrolled": true,
        "noteable": {},
        "ExecuteTime": {
          "end_time": "2023-07-19T18:37:13.778539+00:00",
          "start_time": "2023-07-19T18:27:10.685385+00:00"
        }
      },
      "id": "1ca58974"
    },
    {
      "cell_type": "code",
      "source": [
        "query = 'tommy hilfiger jewellery men'\n",
        "Title = []\n",
        "Price = []\n",
        "Rating = []\n",
        "Description = []\n",
        "url_key = []\n",
        "df = pd.DataFrame(columns=['Name', 'Value', 'url'])\n",
        "reviews = []\n",
        "# session = requests.Session()\n",
        "# session.headers['User-Agent'] = 'My User Agent 87.7'\n",
        "# session.headers['Accept'] = 'text/html,application/xhtml+xml,application/xml;q=0.9,image/webp,*/*;q=0.8'\n",
        "# session.headers['Accept-Language'] = 'en-US,en;q=0.5'\n",
        "# session.headers['Connection'] = 'keep-alive'\n",
        "# session.headers['Upgrade-Insecure-Requests'] = '1'\n",
        "\n",
        "#num_pages+1\n",
        "for page in range(1,num_pages+1):\n",
        "    url = f'https://www.amazon.co.uk/s?k={query}&page={page}&ref=nb_sb_noss'\n",
        "    url = url.replace(\" \", \"%20\")\n",
        "#     # Parse the HTML content using BeautifulSoup\n",
        "#     print(f'Page:{page}')\n",
        "    print(url)\n",
        "#     url = 'https://www.amazon.co.uk/s?k=boss+jewellery+for+men&crid=33F2J8F5ZMF98&sprefix=boss+jewellery+for+men%2Caps%2C208&ref=nb_sb_noss_1' \n",
        "    user_agent = random.choice(user_agent_list)\n",
        "    opener = urllib.request.build_opener()\n",
        "    opener.addheaders = [('User-agent', user_agent)]\n",
        "    response = opener.open(url)\n",
        "    html_content = response.read()\n",
        "#     response = session.get(url)\n",
        "#     html_content = response.content\n",
        "    \n",
        "    soup = BeautifulSoup(html_content, 'html.parser')\n",
        "    \n",
        "    # Extract the URLs of the product pages from the search results\n",
        "    product_urls = []\n",
        "    results = soup.find_all('div', {'class': 's-result-item'})\n",
        "    for result in results:\n",
        "        link = result.find('a', {'class': 'a-link-normal s-no-outline'})\n",
        "\n",
        "        if link:\n",
        "            u = 'https://www.amazon.co.uk'+link.get('href')\n",
        "            product_urls.append(u)\n",
        "    # List\n",
        "\n",
        "    # Scrape the product details for each product page\n",
        "    for product_url in product_urls[:-1]:\n",
        "        url_key.append(product_url)\n",
        "#         response = session.get(product_url)\n",
        "#         html_content = response.content\n",
        "        response = opener.open(product_url)\n",
        "        html_content = response.read()\n",
        "        soup = BeautifulSoup(html_content, 'html.parser')\n",
        "        title = soup.find('span', attrs={'id': 'productTitle'}).get_text().strip()\n",
        "        Title.append(title)\n",
        "        if not soup.find('span', attrs={'class': 'a-price-whole'}):\n",
        "            Price.append(' ')\n",
        "        else:\n",
        "            price1 = soup.find('span', attrs={'class': 'a-price-whole'}).get_text().strip()\n",
        "            price2 = soup.find('span', attrs={'class': 'a-price-fraction'}).get_text().strip()\n",
        "            Price.append(price1+price2)\n",
        "        if not soup.find('span', attrs={'class': 'a-icon-alt'}):\n",
        "            Rating.append(' ')\n",
        "        else:\n",
        "            rating = soup.find('span', attrs={'class': 'a-icon-alt'}).get_text().strip()\n",
        "            Rating.append(rating)\n",
        "        if not soup.find('div', attrs={'id': 'productDescription'}):\n",
        "            Description.append(' ')\n",
        "        else:\n",
        "            description = soup.find('div', attrs={'id': 'productDescription'}).get_text().strip()\n",
        "            Description.append(description)\n",
        "        \n",
        "        #Detail page\n",
        "        specifications_container = soup.find(\"table\", attrs={\"id\": \"technicalSpecifications_section_1\"})\n",
        "        if specifications_container:\n",
        "            specification_rows = specifications_container.find_all(\"tr\")\n",
        "\n",
        "            # Iterate through each specification row and extract the relevant information\n",
        "            for row in specification_rows:\n",
        "                # Extract the specification name\n",
        "                name = row.find(\"th\").text.strip()\n",
        "\n",
        "                # Extract the specification value\n",
        "                value = row.find(\"td\").text.strip()\n",
        "\n",
        "            # Print the extracted information\n",
        "                df = df.append({'Name': name, 'Value': value, 'url': product_url}, ignore_index=True)\n",
        "        else:\n",
        "            df.append({'Name': ' ', 'Value': ' ', 'url': product_url}, ignore_index=True)\n",
        "            \n",
        "        print('---------------------------------------------------------')\n",
        "        \n",
        "        print(f'Title: {title}')\n",
        "        print(f'Price: {price1+price2}')\n",
        "        print(f'Rating: {rating}')\n",
        "        print(f'Description: {description}')\n",
        "        \n",
        " \n",
        "        amz_scraper = AmazonScraper()\n",
        "        \n",
        "#         product_url = product_url.replace('dp', 'product-reviews')+'&reviewerType=all_reviews'\n",
        "        for page_num in range(1, 100):\n",
        "            if amz_scraper.scrapeReviews(url=product_url, page_num=page_num) ==[] or amz_scraper.scrapeReviews(url=product_url, page_num=page_num) ==None:\n",
        "#                 reviews.extend(UserReview(' ', ' ', ' ', ' ', ' ', ' ', ' ', ' '))\n",
        "                break\n",
        "            reviews.extend(amz_scraper.scrapeReviews(url=product_url, page_num=page_num))\n",
        "            time.sleep(5)\n",
        "\n",
        "#         Reviews = pd.DataFrame(reviews)\n",
        "        if product_url == product_urls[-2]:\n",
        "            print('\\n')\n",
        "            print('---------------------------------------------')\n",
        "            print(f'page {page} is finished')\n",
        "            print('---------------------------------------------')\n",
        "            print('\\n')\n",
        "        \n",
        "        \n",
        "        time.sleep(5)"
      ],
      "outputs": [
        {
          "output_type": "stream",
          "name": "stdout",
          "text": [
            "https://www.amazon.co.uk/s?k=tommy%20hilfiger%20jewellery%20men&page=1&ref=nb_sb_noss\n"
          ]
        },
        {
          "output_type": "stream",
          "name": "stdout",
          "text": [
            "---------------------------------------------------------\n",
            "Title: Tommy Hilfiger Jewelry Men's Leather Bracelet Black - 2700534\n",
            "Price: 28.03\n",
            "Rating: 4.3 out of 5 stars\n",
            "Description: Tommy Hilfiger Men's Braided Leather Bracelet with Stainless Steel Clasp, Black\n"
          ]
        },
        {
          "output_type": "stream",
          "name": "stdout",
          "text": [
            "---------------------------------------------------------\n",
            "Title: Tommy Hilfiger Jewelry Men's Stainless Steel Pendant Necklace - 2790314\n",
            "Price: 36.88\n",
            "Rating: 4.6 out of 5 stars\n",
            "Description: From sports-inspired classics to dressier styles, our jewelry pieces are united by timeless design and a sleek, stainless steel or leather finish.\n"
          ]
        },
        {
          "output_type": "stream",
          "name": "stdout",
          "text": [
            "---------------------------------------------------------\n",
            "Title: Tommy Hilfiger Herren-Armband Edelstahl\n",
            "Price: 39.53\n",
            "Rating: 4.2 out of 5 stars\n",
            "Description: \n"
          ]
        },
        {
          "output_type": "stream",
          "name": "stdout",
          "text": [
            "---------------------------------------------------------\n",
            "Title: Tommy Hilfiger Jewelry Men's Stainless Steel Chain Necklace - 2790365\n",
            "Price: 56.00\n",
            "Rating: 4.6 out of 5 stars\n",
            "Description: Tommy Hilfiger Jewerly offers items for all occasions - all with a fashionable twist.From sports-inspired classics to dressier styles, our jewelry pieces are united by timeless design and a sleek, stainless steel or leather finish.\n"
          ]
        },
        {
          "output_type": "stream",
          "name": "stdout",
          "text": [
            "---------------------------------------------------------\n",
            "Title: Tommy Hilfiger Jewelry Men's Leather Bracelet Blue - 2790264S\n",
            "Price: 38.50\n",
            "Rating: 4.3 out of 5 stars\n",
            "Description: Tommy Hilfiger Jewerly offers items for all occasions - all with a fashionable twist.\n"
          ]
        },
        {
          "output_type": "stream",
          "name": "stdout",
          "text": [
            "---------------------------------------------------------\n",
            "Title: Tommy Hilfiger Jewelry Men's Stainless Steel Link Bracelet - 2790393\n",
            "Price: 56.00\n",
            "Rating: 4.7 out of 5 stars\n",
            "Description: Tommy Hilfiger Jewerly offers items for all occasions - all with a fashionable twist.From sports-inspired classics to dressier styles, our jewelry pieces are united by timeless design and a sleek, stainless steel or leather finish.\n"
          ]
        },
        {
          "output_type": "stream",
          "name": "stdout",
          "text": [
            "---------------------------------------------------------\n",
            "Title: Tommy Hilfiger Jewelry Men's Leather Bracelet Black - 2790262S\n",
            "Price: 37.08\n",
            "Rating: 4.4 out of 5 stars\n",
            "Description: \n"
          ]
        },
        {
          "output_type": "stream",
          "name": "stdout",
          "text": [
            "---------------------------------------------------------\n",
            "Title: Tommy Hilfiger Jewelry Men's Stainless Steel Pendant Necklace - 2790316\n",
            "Price: 31.35\n",
            "Rating: 4.7 out of 5 stars\n",
            "Description: From sports-inspired classics to dressier styles, our jewelry pieces are united by timeless design and a sleek, stainless steel or leather finish.\n"
          ]
        },
        {
          "output_type": "stream",
          "name": "stdout",
          "text": [
            "---------------------------------------------------------\n",
            "Title: Tommy Hilfiger Jewelry Men's Silicone Bracelet - 2790239S\n",
            "Price: 24.94\n",
            "Rating: 4.2 out of 5 stars\n",
            "Description: Tommy Hilfiger Jewerly offers items for all occasions - all with a fashionable twist.\n"
          ]
        },
        {
          "output_type": "stream",
          "name": "stdout",
          "text": [
            "---------------------------------------------------------\n",
            "Title: Tommy Hilfiger Jewelry Men's Stainless Steel Pendant Necklace - 2790169\n",
            "Price: 50.95\n",
            "Rating: 4.6 out of 5 stars\n",
            "Description: Tommy Hilfiger Jewerly offers items for all occasions - all with a fashionable twist.\n"
          ]
        },
        {
          "output_type": "stream",
          "name": "stdout",
          "text": [
            "---------------------------------------------------------\n",
            "Title: Tommy Hilfiger Jewelry Men's Nylon Bracelet - 2790337\n",
            "Price: 29.45\n",
            "Rating: 4.0 out of 5 stars\n",
            "Description: From sports-inspired classics to dressier styles, our jewelry pieces are united by timeless design and a sleek, stainless steel or leather finish.\n"
          ]
        },
        {
          "output_type": "stream",
          "name": "stdout",
          "text": [
            "---------------------------------------------------------\n",
            "Title: Tommy Hilfiger Jewelry Men's Leather Bracelet Navy Blue - 2790226S\n",
            "Price: 45.99\n",
            "Rating: 4.2 out of 5 stars\n",
            "Description: Tommy Hilfiger Jewerly offers items for all occasions - all with a fashionable twist.\n"
          ]
        },
        {
          "output_type": "stream",
          "name": "stdout",
          "text": [
            "---------------------------------------------------------\n",
            "Title: Tommy Hilfiger Jewelry Men's Leather Leather and Beads Bracelet in different colors\n",
            "Price: 69.00\n",
            "Rating: Previous page\n",
            "Description: \n"
          ]
        },
        {
          "output_type": "stream",
          "name": "stdout",
          "text": [
            "---------------------------------------------------------\n",
            "Title: Tommy Hilfiger Jewelry Men's Leather Leather and Beads Bracelet in different colors\n",
            "Price: 69.00\n",
            "Rating: Previous page\n",
            "Description: \n"
          ]
        },
        {
          "output_type": "stream",
          "name": "stdout",
          "text": [
            "---------------------------------------------------------\n",
            "Title: Tommy Hilfiger Jewelry Stainless Steel Pendant Necklace with chain for Men's in silver, yellow gold or black color\n",
            "Price: 84.99\n",
            "Rating: Previous page\n",
            "Description: \n"
          ]
        },
        {
          "output_type": "stream",
          "name": "stdout",
          "text": [
            "---------------------------------------------------------\n",
            "Title: Tommy Hilfiger Jewelry Men's Leather Rope bracelet in Brown, Black, Blue and Red\n",
            "Price: 59.00\n",
            "Rating: Previous page\n",
            "Description: \n"
          ]
        },
        {
          "output_type": "stream",
          "name": "stdout",
          "text": [
            "---------------------------------------------------------\n",
            "Title: Tommy Hilfiger Jewelry Men's Nylon Rope bracelet Navy Blue or Black\n",
            "Price: 59.00\n",
            "Rating: Previous page\n",
            "Description: \n"
          ]
        },
        {
          "output_type": "stream",
          "name": "stdout",
          "text": [
            "---------------------------------------------------------\n",
            "Title: Tommy Hilfiger Jewelry Men's Nylon Bracelet - 2790335\n",
            "Price: 39.00\n",
            "Rating: 3.9 out of 5 stars\n",
            "Description: From sports-inspired classics to dressier styles, our jewelry pieces are united by timeless design and a sleek, stainless steel or leather finish.\n"
          ]
        },
        {
          "output_type": "stream",
          "name": "stdout",
          "text": [
            "---------------------------------------------------------\n",
            "Title: Tommy Hilfiger Analog Watch\n",
            "Price: 49.00\n",
            "Rating: 4.4 out of 5 stars\n",
            "Description: \n"
          ]
        },
        {
          "output_type": "stream",
          "name": "stdout",
          "text": [
            "---------------------------------------------------------\n",
            "Title: Tommy Hilfiger Jewelry Men's Leather Bracelet Black - 2701063\n",
            "Price: 49.51\n",
            "Rating: 4.4 out of 5 stars\n",
            "Description: Tommy Hilfiger Jewerly offers items for all occasions - all with a fashionable twist\n"
          ]
        },
        {
          "output_type": "stream",
          "name": "stdout",
          "text": [
            "---------------------------------------------------------\n",
            "Title: Tommy Hilfiger Jewelry Men's Leather Bracelet Black - 2790303\n",
            "Price: 30.97\n",
            "Rating: 4.3 out of 5 stars\n",
            "Description: From sports-inspired classics to dressier styles, our jewelry pieces are united by timeless design and a sleek, stainless steel or leather finish.\n"
          ]
        },
        {
          "output_type": "stream",
          "name": "stdout",
          "text": [
            "---------------------------------------------------------\n",
            "Title: Tommy Hilfiger Jewelry Men's Leather Bracelet Black - 2790161\n",
            "Price: 44.70\n",
            "Rating: 4.4 out of 5 stars\n",
            "Description: TOMMY HILFIGER is one of the world’s leading designer lifestyle brands and is internationally recognized for celebrating the essence of classic American cool style, featuring preppy with a twist designs. Tommy Hilfiger Jewerly offers items for all occasions - all with a fashionable twist.\n"
          ]
        },
        {
          "output_type": "stream",
          "name": "stdout",
          "text": [
            "---------------------------------------------------------\n",
            "Title: Tommy Hilfiger Jewelry Men's Stainless Steel Bracelet - 2701062\n",
            "Price: 67.47\n",
            "Rating: 4.5 out of 5 stars\n",
            "Description: Tommy Hilfiger Jewerly offers items for all occasions - all with a fashionable twist\n"
          ]
        },
        {
          "output_type": "stream",
          "name": "stdout",
          "text": [
            "---------------------------------------------------------\n",
            "Title: Tommy Hilfiger Jewelry Men's Silicone Bracelet - 2790240S\n",
            "Price: 35.99\n",
            "Rating: 4.3 out of 5 stars\n",
            "Description: Tommy Hilfiger Jewerly offers items for all occasions - all with a fashionable twist.\n"
          ]
        },
        {
          "output_type": "stream",
          "name": "stdout",
          "text": [
            "---------------------------------------------------------\n",
            "Title: Tommy Hilfiger Men's Analog Quartz Watch with Leather Strap\n",
            "Price: 49.00\n",
            "Rating: 4.2 out of 5 stars\n",
            "Description: \n"
          ]
        },
        {
          "output_type": "stream",
          "name": "stdout",
          "text": [
            "---------------------------------------------------------\n",
            "Title: Tommy Hilfiger Herren-Armband Edelstahl 32022092\n",
            "Price: 59.95\n",
            "Rating: 4.4 out of 5 stars\n",
            "Description: \n"
          ]
        },
        {
          "output_type": "stream",
          "name": "stdout",
          "text": [
            "---------------------------------------------------------\n",
            "Title: Tommy Hilfiger Jewelry Men's Stainless Steel Bracelet - 2790245\n",
            "Price: 44.58\n",
            "Rating: 4.2 out of 5 stars\n",
            "Description: Tommy Hilfiger Jewerly offers items for all occasions - all with a fashionable twist.\n"
          ]
        },
        {
          "output_type": "stream",
          "name": "stdout",
          "text": [
            "---------------------------------------------------------\n",
            "Title: Tommy Hilfiger Jewelry Men's Leather Bracelet Black - 2700510\n",
            "Price: 43.00\n",
            "Rating: 4.5 out of 5 stars\n",
            "Description: Tommy Hilfiger Men's Braided Leather Bracelet with Stainless Steel Clasp, Black\n"
          ]
        },
        {
          "output_type": "stream",
          "name": "stdout",
          "text": [
            "---------------------------------------------------------\n",
            "Title: Tommy Hilfiger Jewelry Men's Leather Bracelet Brown - 2700671\n",
            "Price: 44.79\n",
            "Rating: 4.2 out of 5 stars\n",
            "Description: Pulsera Tommy Hilfiger 2700671 hombre realizada en piel trenzada y acero. Largo de pulsera 19,5 cm.\n"
          ]
        },
        {
          "output_type": "stream",
          "name": "stdout",
          "text": [
            "---------------------------------------------------------\n",
            "Title: Tommy Hilfiger Jewelry Men's Link Bracelet Stainless steel - 2790419\n",
            "Price: 64.99\n",
            "Rating: 4.4 out of 5 stars\n",
            "Description: Tommy Hilfiger jewerly offers items for all occasions - all with a fashionable twist.From sports-inspired classics to dressier styles, our jewelry pieces are united by timeless design and a sleek, stainless steel or leather finish.\n"
          ]
        },
        {
          "output_type": "stream",
          "name": "stdout",
          "text": [
            "---------------------------------------------------------\n",
            "Title: Tommy Hilfiger Jewelry Men's Stainless Steel Bracelet - 2790164\n",
            "Price: 49.00\n",
            "Rating: 4.5 out of 5 stars\n",
            "Description: One of the world’s leading designer lifestyle brands internationally recognized for celebrating the essence of classic American cool style, featuring designs with a twist\n"
          ]
        },
        {
          "output_type": "stream",
          "name": "stdout",
          "text": [
            "---------------------------------------------------------\n",
            "Title: Tommy Hilfiger Jewelry Men's Leather Bracelet Black - 2790307\n",
            "Price: 44.24\n",
            "Rating: 4.0 out of 5 stars\n",
            "Description: From sports-inspired classics to dressier styles, our jewelry pieces are united by timeless design and a sleek, stainless steel or leather finish.\n"
          ]
        },
        {
          "output_type": "stream",
          "name": "stdout",
          "text": [
            "---------------------------------------------------------\n",
            "Title: Tommy Hilfiger Jewelry Men's Leather Bracelet Black - 2790224\n",
            "Price: 44.99\n",
            "Rating: 4.1 out of 5 stars\n",
            "Description: Tommy Hilfiger Jewerly offers items for all occasions - all with a fashionable twist.\n"
          ]
        },
        {
          "output_type": "stream",
          "name": "stdout",
          "text": [
            "---------------------------------------------------------\n",
            "Title: Tommy Hilfiger Jewelry Men's Leather Bracelet Black - 2790349\n",
            "Price: 59.00\n",
            "Rating: 4.5 out of 5 stars\n",
            "Description: From sports-inspired classics to dressier styles, our jewelry pieces are united by timeless design and a sleek, stainless steel or leather finish.\n"
          ]
        },
        {
          "output_type": "stream",
          "name": "stdout",
          "text": [
            "---------------------------------------------------------\n",
            "Title: Tommy Hilfiger Jewelry Men's Cord & Chain Bracelet Black - 2790182\n",
            "Price: 43.00\n",
            "Rating: 4.4 out of 5 stars\n",
            "Description: Tommy Hilfiger Jewerly offers items for all occasions - all with a fashionable twist.\n"
          ]
        },
        {
          "output_type": "stream",
          "name": "stdout",
          "text": [
            "---------------------------------------------------------\n",
            "Title: Tommy Hilfiger Jewelry Men's Leather Bracelet Brown - 2790330\n",
            "Price: 31.74\n",
            "Rating: 4.3 out of 5 stars\n",
            "Description: From sports-inspired classics to dressier styles, our jewelry pieces are united by timeless design and a sleek, stainless steel or leather finish.\n"
          ]
        },
        {
          "output_type": "stream",
          "name": "stdout",
          "text": [
            "---------------------------------------------------------\n",
            "Title: Tommy Hilfiger Jewelry Men's Leather Bracelet Black - 2790293\n",
            "Price: 39.00\n",
            "Rating: 4.5 out of 5 stars\n",
            "Description: From sports-inspired classics to dressier styles, our jewelry pieces are united by timeless design and a sleek, stainless steel or leather finish.\n"
          ]
        },
        {
          "output_type": "stream",
          "name": "stdout",
          "text": [
            "---------------------------------------------------------\n",
            "Title: Tommy Hilfiger Jewelry Men's Stainless Steel Pendant Necklace - 2790211\n",
            "Price: 67.95\n",
            "Rating: 4.3 out of 5 stars\n",
            "Description: Tommy Hilfiger Jewerly offers items for all occasions - all with a fashionable twist.\n"
          ]
        },
        {
          "output_type": "stream",
          "name": "stdout",
          "text": [
            "---------------------------------------------------------\n",
            "Title: Tommy Hilfiger Jewelry Men's Leather Bracelet Blue - 2790308\n",
            "Price: 50.03\n",
            "Rating: 4.1 out of 5 stars\n",
            "Description: From sports-inspired classics to dressier styles, our jewelry pieces are united by timeless design and a sleek, stainless steel or leather finish.\n"
          ]
        },
        {
          "output_type": "stream",
          "name": "stdout",
          "text": [
            "---------------------------------------------------------\n",
            "Title: Tommy Hilfiger Jewelry Men's Leather Bracelet Brown - 2700530\n",
            "Price: 43.00\n",
            "Rating: 4.4 out of 5 stars\n",
            "Description: Pulsera Tommy Hilfiger 2700530 acero y piel trenzada negra. Medida largo 20,5cm Ancho pulsera 0,9mm\n"
          ]
        },
        {
          "output_type": "stream",
          "name": "stdout",
          "text": [
            "---------------------------------------------------------\n",
            "Title: Tommy Hilfiger Jewelry Men's Stainless Steel Pendant Necklace - 2790212\n",
            "Price: 42.50\n",
            "Rating: 4.0 out of 5 stars\n",
            "Description: Tommy Hilfiger Jewerly offers items for all occasions - all with a fashionable twist.\n"
          ]
        },
        {
          "output_type": "stream",
          "name": "stdout",
          "text": [
            "---------------------------------------------------------\n",
            "Title: Tommy Hilfiger Jewelry Men's Leather Bracelet Brown - 2790223\n",
            "Price: 44.92\n",
            "Rating: 4.2 out of 5 stars\n",
            "Description: Tommy Hilfiger Jewerly offers items for all occasions - all with a fashionable twist.\n"
          ]
        },
        {
          "output_type": "stream",
          "name": "stdout",
          "text": [
            "---------------------------------------------------------\n",
            "Title: Tommy Hilfiger Herren-Armband Edelstahl 32018420\n",
            "Price: 47.60\n",
            "Rating: 3.9 out of 5 stars\n",
            "Description: \n"
          ]
        },
        {
          "output_type": "stream",
          "name": "stdout",
          "text": [
            "---------------------------------------------------------\n",
            "Title: Tommy Hilfiger Jewelry Men's Leather Bracelet Navy Blue - 2790427\n",
            "Price: 53.94\n",
            "Rating: 4.5 out of 5 stars\n",
            "Description: Tommy Hilfiger jewerly offers items for all occasions - all with a fashionable twist.From sports-inspired classics to dressier styles, our jewelry pieces are united by timeless design and a sleek, stainless steel or leather finish.\n"
          ]
        },
        {
          "output_type": "stream",
          "name": "stdout",
          "text": [
            "---------------------------------------------------------\n",
            "Title: Tommy Hilfiger Jewelry Men's Stainless Steel Link Bracelet - 2790312\n",
            "Price: 62.73\n",
            "Rating: 4.4 out of 5 stars\n",
            "Description: From sports-inspired classics to dressier styles, our jewelry pieces are united by timeless design and a sleek, stainless steel or leather finish.\n"
          ]
        },
        {
          "output_type": "stream",
          "name": "stdout",
          "text": [
            "---------------------------------------------------------\n",
            "Title: Tommy Hilfiger Jewelry Men's Leather Bracelet Blue - 2790294\n",
            "Price: 41.95\n",
            "Rating: 4.4 out of 5 stars\n",
            "Description: From sports-inspired classics to dressier styles, our jewelry pieces are united by timeless design and a sleek, stainless steel or leather finish.\n"
          ]
        },
        {
          "output_type": "stream",
          "name": "stdout",
          "text": [
            "---------------------------------------------------------\n",
            "Title: Tommy Hilfiger Jewelry Men's Stainless Steel Pendant Necklace - 2790248\n",
            "Price: 39.06\n",
            "Rating: 4.7 out of 5 stars\n",
            "Description: Tommy Hilfiger Jewerly offers items for all occasions - all with a fashionable twist.\n"
          ]
        },
        {
          "output_type": "stream",
          "name": "stdout",
          "text": [
            "---------------------------------------------------------\n",
            "Title: Tommy Hilfiger Jewelry Men's Stainless Steel Bracelet - 2790246\n",
            "Price: 56.77\n",
            "Rating: 3.8 out of 5 stars\n",
            "Description: Tommy Hilfiger Jewerly offers items for all occasions - all with a fashionable twist.\n"
          ]
        },
        {
          "output_type": "stream",
          "name": "stdout",
          "text": [
            "---------------------------------------------------------\n",
            "Title: Tommy Hilfiger Jewelry Men's Leather Bracelet Navy Blue - 2701000\n",
            "Price: 36.26\n",
            "Rating: 4.2 out of 5 stars\n",
            "Description: Tommy Hilfiger Jewerly offers items for all occasions - all with a fashionable twist\n"
          ]
        },
        {
          "output_type": "stream",
          "name": "stdout",
          "text": [
            "---------------------------------------------------------\n",
            "Title: Tommy Hilfiger Herren-Armband Edelstahl 32020586\n",
            "Price: 48.29\n",
            "Rating: 4.4 out of 5 stars\n",
            "Description: \n"
          ]
        },
        {
          "output_type": "stream",
          "name": "stdout",
          "text": [
            "---------------------------------------------------------\n",
            "Title: Tommy Hilfiger 32022092 Men's Bracelet Stainless Steel\n",
            "Price: 79.00\n",
            "Rating: 3.9 out of 5 stars\n",
            "Description: Make yourself or others happy with jewellery\n"
          ]
        },
        {
          "output_type": "stream",
          "name": "stdout",
          "text": [
            "---------------------------------------------------------\n",
            "Title: Tommy Hilfiger Jewelry Men's Leather Bracelet Black - 2790331\n",
            "Price: 53.32\n",
            "Rating: 4.2 out of 5 stars\n",
            "Description: From sports-inspired classics to dressier styles, our jewelry pieces are united by timeless design and a sleek, stainless steel or leather finish.\n"
          ]
        },
        {
          "output_type": "stream",
          "name": "stdout",
          "text": [
            "---------------------------------------------------------\n",
            "Title: Tommy Hilfiger Jewelry Men's Leather Bracelet Brown - 2790295\n",
            "Price: 39.43\n",
            "Rating: 4.4 out of 5 stars\n",
            "Description: From sports-inspired classics to dressier styles, our jewelry pieces are united by timeless design and a sleek, stainless steel or leather finish.\n"
          ]
        },
        {
          "output_type": "stream",
          "name": "stdout",
          "text": [
            "\n",
            "\n",
            "---------------------------------------------\n",
            "page 1 is finished\n",
            "---------------------------------------------\n",
            "\n",
            "\n"
          ]
        },
        {
          "output_type": "stream",
          "name": "stdout",
          "text": [
            "https://www.amazon.co.uk/s?k=tommy%20hilfiger%20jewellery%20men&page=2&ref=nb_sb_noss\n"
          ]
        },
        {
          "output_type": "stream",
          "name": "stdout",
          "text": [
            "---------------------------------------------------------\n",
            "Title: Tommy Hilfiger Jewelry Men's Pendant Necklace Black - 2790424\n",
            "Price: 45.02\n",
            "Rating: 4.8 out of 5 stars\n",
            "Description: Tommy Hilfiger jewerly offers items for all occasions - all with a fashionable twist.From sports-inspired classics to dressier styles, our jewelry pieces are united by timeless design and a sleek, stainless steel or leather finish.\n"
          ]
        },
        {
          "output_type": "stream",
          "name": "stdout",
          "text": [
            "---------------------------------------------------------\n",
            "Title: Tommy Hilfiger Jewelry Men's Stainless Steel CuffLinks - 2790396\n",
            "Price: 39.00\n",
            "Rating: 4.5 out of 5 stars\n",
            "Description: Tommy Hilfiger Jewerly offers items for all occasions - all with a fashionable twist.From sports-inspired classics to dressier styles, our jewelry pieces are united by timeless design and a sleek, stainless steel or leather finish.\n"
          ]
        },
        {
          "output_type": "stream",
          "name": "stdout",
          "text": [
            "---------------------------------------------------------\n",
            "Title: Tommy Hilfiger Jewelry Men's Leather Bracelet Brown - 2790325\n",
            "Price: 39.35\n",
            "Rating: 4.3 out of 5 stars\n",
            "Description: From sports-inspired classics to dressier styles, our jewelry pieces are united by timeless design and a sleek, stainless steel or leather finish.\n"
          ]
        },
        {
          "output_type": "stream",
          "name": "stdout",
          "text": [
            "---------------------------------------------------------\n",
            "Title: Tommy Hilfiger Jewelry Men's Cord Bracelet - 2790292\n",
            "Price: 41.61\n",
            "Rating: 4.1 out of 5 stars\n",
            "Description: From sports-inspired classics to dressier styles, our jewelry pieces are united by timeless design and a sleek, stainless steel or leather finish.\n"
          ]
        },
        {
          "output_type": "stream",
          "name": "stdout",
          "text": [
            "---------------------------------------------------------\n",
            "Title: Tommy Hilfiger Jewelry Men's Pendant Necklace Yellow Gold - 2790423\n",
            "Price: 46.44\n",
            "Rating: 5.0 out of 5 stars\n",
            "Description: Tommy Hilfiger jewerly offers items for all occasions - all with a fashionable twist.From sports-inspired classics to dressier styles, our jewelry pieces are united by timeless design and a sleek, stainless steel or leather finish.\n"
          ]
        },
        {
          "output_type": "stream",
          "name": "stdout",
          "text": [
            "---------------------------------------------------------\n",
            "Title: Tommy Hilfiger Jewelry Men's Link Bracelet Yellow Gold - 2790421\n",
            "Price: 62.90\n",
            "Rating: 3.3 out of 5 stars\n",
            "Description: Tommy Hilfiger jewerly offers items for all occasions - all with a fashionable twist.From sports-inspired classics to dressier styles, our jewelry pieces are united by timeless design and a sleek, stainless steel or leather finish.\n"
          ]
        },
        {
          "output_type": "stream",
          "name": "stdout",
          "text": [
            "---------------------------------------------------------\n",
            "Title: Tommy Hilfiger Jewelry Men's Nylon Bracelet - 2790336\n",
            "Price: 43.00\n",
            "Rating: 4.0 out of 5 stars\n",
            "Description: From sports-inspired classics to dressier styles, our jewelry pieces are united by timeless design and a sleek, stainless steel or leather finish.\n"
          ]
        },
        {
          "output_type": "stream",
          "name": "stdout",
          "text": [
            "---------------------------------------------------------\n",
            "Title: Tommy Hilfiger Jewelry Men's Stainless Steel Stud Earrings Embellished with Crystals - 2790379\n",
            "Price: 43.00\n",
            "Rating: 4.5 out of 5 stars\n",
            "Description: Tommy Hilfiger Jewerly offers items for all occasions - all with a fashionable twist.From sports-inspired classics to dressier styles, our jewelry pieces are united by timeless design and a sleek, stainless steel or leather finish.\n"
          ]
        },
        {
          "output_type": "stream",
          "name": "stdout",
          "text": [
            "---------------------------------------------------------\n",
            "Title: Tommy Hilfiger Jewelry Men's Stainless Steel Pendant Necklace - 2790384\n",
            "Price: 38.59\n",
            "Rating: 4.4 out of 5 stars\n",
            "Description: Tommy Hilfiger Jewerly offers items for all occasions - all with a fashionable twist.From sports-inspired classics to dressier styles, our jewelry pieces are united by timeless design and a sleek, stainless steel or leather finish.\n"
          ]
        },
        {
          "output_type": "stream",
          "name": "stdout",
          "text": [
            "---------------------------------------------------------\n",
            "Title: Tommy Hilfiger men bracelet\n",
            "Price: 41.70\n",
            "Rating: 4.4 out of 5 stars\n",
            "Description: \n"
          ]
        },
        {
          "output_type": "stream",
          "name": "stdout",
          "text": [
            "---------------------------------------------------------\n",
            "Title: Tommy Hilfiger Herren-Armband Leder 32020582\n",
            "Price: 49.00\n",
            "Rating: 4.1 out of 5 stars\n",
            "Description: \n"
          ]
        },
        {
          "output_type": "stream",
          "name": "stdout",
          "text": [
            "---------------------------------------------------------\n",
            "Title: Tommy Hilfiger Jewelry Men's Bracelet Yellow Gold - 2790444\n",
            "Price: 41.09\n",
            "Rating: 3.1 out of 5 stars\n",
            "Description: Tommy Hilfiger jewerly offers items for all occasions - all with a fashionable twist.From sports-inspired classics to dressier styles, our jewelry pieces are united by timeless design and a sleek, stainless steel or leather finish.\n"
          ]
        },
        {
          "output_type": "stream",
          "name": "stdout",
          "text": [
            "---------------------------------------------------------\n",
            "Title: Tommy Hilfiger Jewelry Men's Stainless Steel Pendant Necklace with wood - 2790322\n",
            "Price: 48.30\n",
            "Rating: 4.0 out of 5 stars\n",
            "Description: From sports-inspired classics to dressier styles, our jewelry pieces are united by timeless design and a sleek, stainless steel or leather finish.\n"
          ]
        },
        {
          "output_type": "stream",
          "name": "stdout",
          "text": [
            "---------------------------------------------------------\n",
            "Title: Tommy Hilfiger Jewelry Men's Stainless Steel Pendant Necklace - 2790317\n",
            "Price: 44.99\n",
            "Rating: 4.4 out of 5 stars\n",
            "Description: From sports-inspired classics to dressier styles, our jewelry pieces are united by timeless design and a sleek, stainless steel or leather finish.\n"
          ]
        },
        {
          "output_type": "stream",
          "name": "stdout",
          "text": [
            "---------------------------------------------------------\n",
            "Title: Tommy Hilfiger Jewelry Men's Leather Bracelet Black - 2790442\n",
            "Price: 74.99\n",
            "Rating: 3.5 out of 5 stars\n",
            "Description: Tommy Hilfiger jewerly offers items for all occasions - all with a fashionable twist.From sports-inspired classics to dressier styles, our jewelry pieces are united by timeless design and a sleek, stainless steel or leather finish.\n"
          ]
        },
        {
          "output_type": "stream",
          "name": "stdout",
          "text": [
            "---------------------------------------------------------\n",
            "Title: Tommy Hilfiger Jewelry Men's Leather Bracelet Black - 2701012\n",
            "Price: 39.00\n",
            "Rating: 4.5 out of 5 stars\n",
            "Description: Tommy Hilfiger Jewerly offers items for all occasions - all with a fashionable twist\n"
          ]
        },
        {
          "output_type": "stream",
          "name": "stdout",
          "text": [
            "---------------------------------------------------------\n",
            "Title: Tommy Hilfiger Jewelry Men's Stainless Steel Cufflinks - 2790352\n",
            "Price: 31.51\n",
            "Rating: 4.6 out of 5 stars\n",
            "Description: From sports-inspired classics to dressier styles, our jewelry pieces are united by timeless design and a sleek, stainless steel or leather finish.\n"
          ]
        },
        {
          "output_type": "stream",
          "name": "stdout",
          "text": [
            "---------------------------------------------------------\n",
            "Title: Tommy Hilfiger Jewelry Men's Stainless Steel Bracelet - 2700261\n",
            "Price: 51.99\n",
            "Rating: 4.2 out of 5 stars\n",
            "Description: Tommy Hilfiger Jewerly offers items for all occasions - all with a fashionable twist. From sports-inspired classics to dressier styles, our jewelry pieces are united by timeless design and a sleek, stainless steel or leather finish.\n"
          ]
        },
        {
          "output_type": "stream",
          "name": "stdout",
          "text": [
            "---------------------------------------------------------\n",
            "Title: Tommy Hilfiger Jewelry Men's Stainless Steel Pendant Necklace - 2790350\n",
            "Price: 48.30\n",
            "Rating: 4.2 out of 5 stars\n",
            "Description: From sports-inspired classics to dressier styles, our jewelry pieces are united by timeless design and a sleek, stainless steel or leather finish.\n"
          ]
        },
        {
          "output_type": "stream",
          "name": "stdout",
          "text": [
            "---------------------------------------------------------\n",
            "Title: Tommy Hilfiger Jewelry Men's Leather Bracelet Green - 2790332\n",
            "Price: 42.56\n",
            "Rating: 4.6 out of 5 stars\n",
            "Description: From sports-inspired classics to dressier styles, our jewelry pieces are united by timeless design and a sleek, stainless steel or leather finish.\n"
          ]
        },
        {
          "output_type": "stream",
          "name": "stdout",
          "text": [
            "---------------------------------------------------------\n",
            "Title: Tommy Hilfiger Jewelry Men's Lava Stone beads Stone Bracelet - 2790435\n",
            "Price: 59.00\n",
            "Rating: 4.5 out of 5 stars\n",
            "Description: Tommy Hilfiger Jewerly offers items for all occasions - all with a fashionable twist. From sports-inspired classics to dressier styles, our jewelry pieces are united by timeless design and a sleek, stainless steel or leather finish.\n"
          ]
        },
        {
          "output_type": "stream",
          "name": "stdout",
          "text": [
            "---------------------------------------------------------\n",
            "Title: Tommy Hilfiger Analogue Multifunction Quartz Watch for men with Silicone or Stainless Steel bracelet\n",
            "Price: 122.38\n",
            "Rating: 4.6 out of 5 stars\n",
            "Description: \n"
          ]
        },
        {
          "output_type": "stream",
          "name": "stdout",
          "text": [
            "---------------------------------------------------------\n",
            "Title: Tommy Hilfiger Jewelry Men's Leather Bracelet Navy Blue - 2790443\n",
            "Price: 61.55\n",
            "Rating: 4.2 out of 5 stars\n",
            "Description: Tommy Hilfiger jewerly offers items for all occasions - all with a fashionable twist.From sports-inspired classics to dressier styles, our jewelry pieces are united by timeless design and a sleek, stainless steel or leather finish.\n"
          ]
        },
        {
          "output_type": "stream",
          "name": "stdout",
          "text": [
            "---------------------------------------------------------\n",
            "Title: Tommy Hilfiger Jewelry Men's Leather Bracelet Black - 2790426\n",
            "Price: 64.99\n",
            "Rating: Previous page\n",
            "Description: Tommy Hilfiger jewerly offers items for all occasions - all with a fashionable twist.From sports-inspired classics to dressier styles, our jewelry pieces are united by timeless design and a sleek, stainless steel or leather finish.\n"
          ]
        },
        {
          "output_type": "stream",
          "name": "stdout",
          "text": [
            "---------------------------------------------------------\n",
            "Title: Tommy Hilfiger Jewelry Men's Stainless Steel CuffLinks - 2790360\n",
            "Price: 43.00\n",
            "Rating: 5.0 out of 5 stars\n",
            "Description: Tommy Hilfiger Jewerly offers items for all occasions - all with a fashionable twist.From sports-inspired classics to dressier styles, our jewelry pieces are united by timeless design and a sleek, stainless steel or leather finish.\n"
          ]
        },
        {
          "output_type": "stream",
          "name": "stdout",
          "text": [
            "---------------------------------------------------------\n",
            "Title: Tommy Hilfiger Jewelry Men's Leather Bracelet Blue - 2790326\n",
            "Price: 36.01\n",
            "Rating: 3.1 out of 5 stars\n",
            "Description: From sports-inspired classics to dressier styles, our jewelry pieces are united by timeless design and a sleek, stainless steel or leather finish.\n"
          ]
        },
        {
          "output_type": "stream",
          "name": "stdout",
          "text": [
            "---------------------------------------------------------\n",
            "Title: Tommy Hilfiger Jewelry Men's Stainless Steel Hinge Earrings - 2790380\n",
            "Price: 41.95\n",
            "Rating: 4.2 out of 5 stars\n",
            "Description: Tommy Hilfiger Jewerly offers items for all occasions - all with a fashionable twist.From sports-inspired classics to dressier styles, our jewelry pieces are united by timeless design and a sleek, stainless steel or leather finish.\n"
          ]
        },
        {
          "output_type": "stream",
          "name": "stdout",
          "text": [
            "---------------------------------------------------------\n",
            "Title: Tommy Hilfiger Jewelry Men's Leather Bracelet Black - 2701010\n",
            "Price: 38.07\n",
            "Rating: 4.5 out of 5 stars\n",
            "Description: Tommy Hilfiger Jewerly offers items for all occasions - all with a fashionable twist\n"
          ]
        },
        {
          "output_type": "stream",
          "name": "stdout",
          "text": [
            "---------------------------------------------------------\n",
            "Title: Tommy Hilfiger Jewelry Men's Chain Bracelet in Stainless Steel\n",
            "Price: 59.00\n",
            "Rating: Previous page\n",
            "Description: \n"
          ]
        },
        {
          "output_type": "stream",
          "name": "stdout",
          "text": [
            "---------------------------------------------------------\n",
            "Title: Tommy Hilfiger Jewelry Women's Stainless Steel Bangle Bracelet Embellished with Crystals - 2780645\n",
            "Price: 51.35\n",
            "Rating: 4.5 out of 5 stars\n",
            "Description: Tommy Hilfiger Jewerly offers items for all occasions - all with a fashionable twist.From sports-inspired classics to dressier styles, our jewelry pieces are united by timeless design and a sleek, stainless steel or leather finish.\n"
          ]
        },
        {
          "output_type": "stream",
          "name": "stdout",
          "text": [
            "---------------------------------------------------------\n",
            "Title: Tommy Hilfiger Men Bracelet\n",
            "Price: 45.00\n",
            "Rating: 4.3 out of 5 stars\n",
            "Description: \n"
          ]
        },
        {
          "output_type": "stream",
          "name": "stdout",
          "text": [
            "---------------------------------------------------------\n",
            "Title: Tommy Hilfiger Jewelry Men's Stainless Steel Pendant Necklace - 2790354\n",
            "Price: 38.60\n",
            "Rating: 4.0 out of 5 stars\n",
            "Description: From sports-inspired classics to dressier styles, our jewelry pieces are united by timeless design and a sleek, stainless steel or leather finish.\n"
          ]
        },
        {
          "output_type": "stream",
          "name": "stdout",
          "text": [
            "---------------------------------------------------------\n",
            "Title: Tommy Hilfiger Jewelry Men's Stainless Steel Pendant Necklace - 2790318\n",
            "Price: 40.00\n",
            "Rating: 4.2 out of 5 stars\n",
            "Description: From sports-inspired classics to dressier styles, our jewelry pieces are united by timeless design and a sleek, stainless steel or leather finish.\n"
          ]
        },
        {
          "output_type": "stream",
          "name": "stdout",
          "text": [
            "---------------------------------------------------------\n",
            "Title: Tommy Hilfiger Jewelry Men's Bracelet Black - 2790459\n",
            "Price: 64.99\n",
            "Rating: Previous page\n",
            "Description: Tommy Hilfiger jewerly offers items for all occasions - all with a fashionable twist.From sports-inspired classics to dressier styles, our jewelry pieces are united by timeless design and a sleek, stainless steel or leather finish.\n"
          ]
        },
        {
          "output_type": "stream",
          "name": "stdout",
          "text": [
            "---------------------------------------------------------\n",
            "Title: Tommy Hilfiger Casual Core Men's Stainless Steel and Leather Bracelet 19 cm, Stainless Steel\n",
            "Price: 35.99\n",
            "Rating: 4.3 out of 5 stars\n",
            "Description: Leather bracelet, stainless steel, clasp: lobster clasp, length approx. 21.5 cm\n"
          ]
        },
        {
          "output_type": "stream",
          "name": "stdout",
          "text": [
            "---------------------------------------------------------\n",
            "Title: Tommy Hilfiger Jewelry Men's Stainless Steel Pendant Necklace - 2790287\n",
            "Price: 49.49\n",
            "Rating: 4.7 out of 5 stars\n",
            "Description: From sports-inspired classics to dressier styles, our jewelry pieces are united by timeless design and a sleek, stainless steel or leather finish.\n"
          ]
        },
        {
          "output_type": "stream",
          "name": "stdout",
          "text": [
            "---------------------------------------------------------\n",
            "Title: Tommy Hilfiger Analogue Multifunction Quartz Watch for Men with Two-Tone Stainless Steel Bracelet - 1791226\n",
            "Price: 123.51\n",
            "Rating: 4.7 out of 5 stars\n",
            "Description: Product Description   Sporty yet sophisticated men's watch. Two-tone case and bracelet comes complete with a silver white multi-function dial.   Box Contains   Watch, Presentation box, Watch Cushion, Guarantee\n"
          ]
        },
        {
          "output_type": "stream",
          "name": "stdout",
          "text": [
            "---------------------------------------------------------\n",
            "Title: Tommy Hilfiger Analogue Multifunction Quartz Watch for Men with Blue Stainless Steel Bracelet - 1791560\n",
            "Price: 104.72\n",
            "Rating: 4.5 out of 5 stars\n",
            "Description: Product Description   Distinctive pole-position style characterizes this Men’s sport watch collection. The 46mm solid stainless steel or colored-ip case features a crown-protector and bold bezel. The dial comes with fine \"diamond\" texture in various semi-gloss colors and with signature tommy logo at 3 o'clock. Water resistant to 5 ATM /50 meters.   Box Contains   Watch, Presentation box, Watch Cushion, Guarantee\n"
          ]
        },
        {
          "output_type": "stream",
          "name": "stdout",
          "text": [
            "---------------------------------------------------------\n",
            "Title: Tommy Hilfiger Jewelry Women's Stainless Steel Earrings Embellished with Crystals - 2700259\n",
            "Price: 32.00\n",
            "Rating: 4.6 out of 5 stars\n",
            "Description: Tommy Hilfiger Jewerly offers items for all occasions - all with a fashionable twist. From sports-inspired classics to dressier styles, our jewelry pieces are united by timeless design and a sleek, stainless steel or leather finish.\n"
          ]
        },
        {
          "output_type": "stream",
          "name": "stdout",
          "text": [
            "---------------------------------------------------------\n",
            "Title: Tommy Hilfiger Analogue Multifunction Quartz Watch for Men with Gold Coloured Stainless Steel Bracelet - 1791121\n",
            "Price: 131.66\n",
            "Rating: 4.6 out of 5 stars\n",
            "Description: Product Description   Modern casual meets sophisticated sport in this new multi-eye watch for men. Presented on a gold-toned stainless-steel bracelet, it features a 46mmgold-toned stainless steel case with sleek blue ion-plated aluminum sport bezel, and a white enamel dial with day and date subdials, stick markers and fine line minute reflector. HILFIGER name/flag logo positioned at 12:00.   Box Contains   Watch, Presentation box, Watch Cushion, Guarantee\n"
          ]
        },
        {
          "output_type": "stream",
          "name": "stdout",
          "text": [
            "---------------------------------------------------------\n",
            "Title: Tommy Hilfiger Jewelry Women's Hinge Earrings Yellow Gold - 2780665\n",
            "Price: 36.25\n",
            "Rating: 3.1 out of 5 stars\n",
            "Description: Tommy Hilfiger jewerly offers items for all occasions - all with a fashionable twist.From sports-inspired classics to dressier styles, our jewelry pieces are united by timeless design and a sleek, stainless steel or leather finish.\n"
          ]
        },
        {
          "output_type": "stream",
          "name": "stdout",
          "text": [
            "---------------------------------------------------------\n",
            "Title: Tommy Hilfiger Jewelry Men's Stainless Steel CuffLinks - 2790378\n",
            "Price: 36.00\n",
            "Rating: 4.0 out of 5 stars\n",
            "Description: Tommy Hilfiger Jewerly offers items for all occasions - all with a fashionable twist.From sports-inspired classics to dressier styles, our jewelry pieces are united by timeless design and a sleek, stainless steel or leather finish.\n"
          ]
        },
        {
          "output_type": "stream",
          "name": "stdout",
          "text": [
            "---------------------------------------------------------\n",
            "Title: Tommy Hilfiger Jewelry Women's Stainless Steel Stud Earrings - 2780518\n",
            "Price: 25.00\n",
            "Rating: 4.0 out of 5 stars\n",
            "Description: From sports-inspired classics to dressier styles, our jewelry pieces are united by timeless design and a sleek, stainless steel or leather finish.\n"
          ]
        },
        {
          "output_type": "stream",
          "name": "stdout",
          "text": [
            "---------------------------------------------------------\n",
            "Title: Tommy Hilfiger Jewelry Men's Stainless Steel CuffLinks - 2790440\n",
            "Price: 48.39\n",
            "Rating: Previous page\n",
            "Description: Tommy Hilfiger jewerly offers items for all occasions - all with a fashionable twist.From sports-inspired classics to dressier styles, our jewelry pieces are united by timeless design and a sleek, stainless steel or leather finish.\n"
          ]
        },
        {
          "output_type": "stream",
          "name": "stdout",
          "text": [
            "---------------------------------------------------------\n",
            "Title: Tommy Hilfiger Damen-Kette Edelstahl 32016162\n",
            "Price: 33.99\n",
            "Rating: 4.6 out of 5 stars\n",
            "Description: \n"
          ]
        },
        {
          "output_type": "stream",
          "name": "stdout",
          "text": [
            "---------------------------------------------------------\n",
            "Title: Tommy Hilfiger Jewelry Women's Stainless Steel Earrings - 2701087\n",
            "Price: 36.75\n",
            "Rating: 4.5 out of 5 stars\n",
            "Description: Tommy Hilfiger Jewerly offers items for all occasions - all with a fashionable twist\n"
          ]
        },
        {
          "output_type": "stream",
          "name": "stdout",
          "text": [
            "---------------------------------------------------------\n",
            "Title: Tommy Hilfiger Jewelry Women's Stainless Steel Necklace - 2700277\n",
            "Price: 49.00\n",
            "Rating: 4.6 out of 5 stars\n",
            "Description: Reloj de la marca Tommy Hilfiger JEWELS cuyo modelo es TOMMY HILFIGER JEWELS JEWELRY Mod. 2700277 y referencia 7613272049887\n"
          ]
        },
        {
          "output_type": "stream",
          "name": "stdout",
          "text": [
            "\n",
            "\n",
            "---------------------------------------------\n",
            "page 2 is finished\n",
            "---------------------------------------------\n",
            "\n",
            "\n"
          ]
        },
        {
          "output_type": "stream",
          "name": "stdout",
          "text": [
            "https://www.amazon.co.uk/s?k=tommy%20hilfiger%20jewellery%20men&page=3&ref=nb_sb_noss\n"
          ]
        },
        {
          "output_type": "stream",
          "name": "stdout",
          "text": [
            "---------------------------------------------------------\n",
            "Title: Tommy Hilfiger Men Bracelet\n",
            "Price: 45.00\n",
            "Rating: 4.3 out of 5 stars\n",
            "Description: \n"
          ]
        },
        {
          "output_type": "stream",
          "name": "stdout",
          "text": [
            "---------------------------------------------------------\n",
            "Title: Tommy Hilfiger Jewelry Men's Bracelet Navy Blue - 2790460\n",
            "Price: 54.99\n",
            "Rating: Previous page\n",
            "Description: Tommy Hilfiger jewerly offers items for all occasions - all with a fashionable twist.From sports-inspired classics to dressier styles, our jewelry pieces are united by timeless design and a sleek, stainless steel or leather finish.\n"
          ]
        },
        {
          "output_type": "stream",
          "name": "stdout",
          "text": [
            "---------------------------------------------------------\n",
            "Title: Tommy Hilfiger Jewelry Men's Stainless Steel Pendant Necklace - 2790354\n",
            "Price: 38.60\n",
            "Rating: 4.0 out of 5 stars\n",
            "Description: From sports-inspired classics to dressier styles, our jewelry pieces are united by timeless design and a sleek, stainless steel or leather finish.\n"
          ]
        },
        {
          "output_type": "stream",
          "name": "stdout",
          "text": [
            "---------------------------------------------------------\n",
            "Title: Tommy Hilfiger Jewelry Men's Stainless Steel Pendant Necklace - 2790318\n",
            "Price: 40.00\n",
            "Rating: 4.2 out of 5 stars\n",
            "Description: From sports-inspired classics to dressier styles, our jewelry pieces are united by timeless design and a sleek, stainless steel or leather finish.\n"
          ]
        },
        {
          "output_type": "stream",
          "name": "stdout",
          "text": [
            "---------------------------------------------------------\n",
            "Title: Tommy Hilfiger Jewelry Men's Leather Bracelet Black - 2790386\n",
            "Price: 53.86\n",
            "Rating: 1.0 out of 5 stars\n",
            "Description: Tommy Hilfiger Jewerly offers items for all occasions - all with a fashionable twist.From sports-inspired classics to dressier styles, our jewelry pieces are united by timeless design and a sleek, stainless steel or leather finish.\n"
          ]
        },
        {
          "output_type": "stream",
          "name": "stdout",
          "text": [
            "---------------------------------------------------------\n",
            "Title: Tommy Hilfiger Jewelry Men's Leather Bracelet Red, White and Blue - 2790387\n",
            "Price: 49.00\n",
            "Rating: 3.4 out of 5 stars\n",
            "Description: Tommy Hilfiger Jewerly offers items for all occasions - all with a fashionable twist.From sports-inspired classics to dressier styles, our jewelry pieces are united by timeless design and a sleek, stainless steel or leather finish.\n"
          ]
        },
        {
          "output_type": "stream",
          "name": "stdout",
          "text": [
            "---------------------------------------------------------\n",
            "Title: Tommy Hilfiger Jewelry Men's Leather Bracelet Black - 2790268S\n",
            "Price: 55.71\n",
            "Rating: Previous page\n",
            "Description: Tommy Hilfiger Jewerly offers items for all occasions - all with a fashionable twist.\n"
          ]
        },
        {
          "output_type": "stream",
          "name": "stdout",
          "text": [
            "---------------------------------------------------------\n",
            "Title: Tommy Hilfiger Jewelry Men's Bracelet Black - 2790459\n",
            "Price: 64.99\n",
            "Rating: Previous page\n",
            "Description: Tommy Hilfiger jewerly offers items for all occasions - all with a fashionable twist.From sports-inspired classics to dressier styles, our jewelry pieces are united by timeless design and a sleek, stainless steel or leather finish.\n"
          ]
        },
        {
          "output_type": "stream",
          "name": "stdout",
          "text": [
            "---------------------------------------------------------\n",
            "Title: Tommy Hilfiger Casual Core Men's Stainless Steel and Leather Bracelet 19 cm, Stainless Steel\n",
            "Price: 35.99\n",
            "Rating: 4.3 out of 5 stars\n",
            "Description: Leather bracelet, stainless steel, clasp: lobster clasp, length approx. 21.5 cm\n"
          ]
        },
        {
          "output_type": "stream",
          "name": "stdout",
          "text": [
            "---------------------------------------------------------\n",
            "Title: Tommy Hilfiger Jewelry Men's Stainless Steel Chain Necklace in Stainless steel\n",
            "Price: 79.00\n",
            "Rating: Previous page of related Sponsored Products\n",
            "Description: \n"
          ]
        },
        {
          "output_type": "stream",
          "name": "stdout",
          "text": [
            "---------------------------------------------------------\n",
            "Title: Tommy Hilfiger Jewelry Men's Leather Bracelet Brown - 2790348\n",
            "Price: 37.45\n",
            "Rating: 4.0 out of 5 stars\n",
            "Description: From sports-inspired classics to dressier styles, our jewelry pieces are united by timeless design and a sleek, stainless steel or leather finish.\n"
          ]
        },
        {
          "output_type": "stream",
          "name": "stdout",
          "text": [
            "---------------------------------------------------------\n",
            "Title: Tommy Hilfiger Jewelry Men's Leather Bracelet Black - 2790281S\n",
            "Price: 48.78\n",
            "Rating: 4.1 out of 5 stars\n",
            "Description: Tommy Hilfiger Jewerly offers items for all occasions - all with a fashionable twist.\n"
          ]
        },
        {
          "output_type": "stream",
          "name": "stdout",
          "text": [
            "---------------------------------------------------------\n",
            "Title: Tommy Hilfiger Jewelry Women's Stainless Steel Bangle Bracelet Embellished with Crystals\n",
            "Price: 69.00\n",
            "Rating: Previous page\n",
            "Description: \n"
          ]
        },
        {
          "output_type": "stream",
          "name": "stdout",
          "text": [
            "---------------------------------------------------------\n",
            "Title: Tommy Hilfiger Jewelry Men's Stainless Steel Pendant Necklace - 2790287\n",
            "Price: 49.49\n",
            "Rating: 4.7 out of 5 stars\n",
            "Description: From sports-inspired classics to dressier styles, our jewelry pieces are united by timeless design and a sleek, stainless steel or leather finish.\n"
          ]
        },
        {
          "output_type": "stream",
          "name": "stdout",
          "text": [
            "---------------------------------------------------------\n",
            "Title: Tommy Hilfiger Jewelry Stainless Steel Ring for Men\n",
            "Price: 49.00\n",
            "Rating: Previous page\n",
            "Description: \n"
          ]
        },
        {
          "output_type": "stream",
          "name": "stdout",
          "text": [
            "---------------------------------------------------------\n",
            "Title: Tommy Hilfiger Jewelry Men's Leather Bracelet Brown - 2790355\n",
            "Price: 52.99\n",
            "Rating: 4.0 out of 5 stars\n",
            "Description: From sports-inspired classics to dressier styles, our jewelry pieces are united by timeless design and a sleek, stainless steel or leather finish.\n"
          ]
        },
        {
          "output_type": "stream",
          "name": "stdout",
          "text": [
            "---------------------------------------------------------\n",
            "Title: Tommy Hilfiger Jewelry Men's Pendant with Chain Stainless steel - 2790431\n",
            "Price: 44.37\n",
            "Rating: Previous page\n",
            "Description: Tommy Hilfiger jewerly offers items for all occasions - all with a fashionable twist.From sports-inspired classics to dressier styles, our jewelry pieces are united by timeless design and a sleek, stainless steel or leather finish.\n"
          ]
        },
        {
          "output_type": "stream",
          "name": "stdout",
          "text": [
            "---------------------------------------------------------\n",
            "Title: Tommy Hilfiger Jewelry Men's Pendant with Chain Yellow Gold - 2790432\n",
            "Price: 53.15\n",
            "Rating: 5.0 out of 5 stars\n",
            "Description: Tommy Hilfiger jewerly offers items for all occasions - all with a fashionable twist.From sports-inspired classics to dressier styles, our jewelry pieces are united by timeless design and a sleek, stainless steel or leather finish.\n"
          ]
        },
        {
          "output_type": "stream",
          "name": "stdout",
          "text": [
            "---------------------------------------------------------\n",
            "Title: Tommy Hilfiger Jewelry Women's Stainless Steel Chain Bracelet - 2780588\n",
            "Price: 54.77\n",
            "Rating: 4.5 out of 5 stars\n",
            "Description: Tommy Hilfiger Jewerly offers items for all occasions - all with a fashionable twist.From sports-inspired classics to dressier styles, our jewelry pieces are united by timeless design and a sleek, stainless steel or leather finish.\n"
          ]
        },
        {
          "output_type": "stream",
          "name": "stdout",
          "text": [
            "---------------------------------------------------------\n",
            "Title: Tommy Hilfiger Analogue Multifunction Quartz Watch for Men with Two-Tone Stainless Steel Bracelet - 1791226\n",
            "Price: 123.51\n",
            "Rating: 4.7 out of 5 stars\n",
            "Description: Product Description   Sporty yet sophisticated men's watch. Two-tone case and bracelet comes complete with a silver white multi-function dial.   Box Contains   Watch, Presentation box, Watch Cushion, Guarantee\n"
          ]
        },
        {
          "output_type": "stream",
          "name": "stdout",
          "text": [
            "---------------------------------------------------------\n",
            "Title: Tommy Hilfiger Jewelry Stainless Steel Pendant Necklace with chain for Men's in silver, yellow gold or black color\n",
            "Price: 84.99\n",
            "Rating: Previous page\n",
            "Description: \n"
          ]
        },
        {
          "output_type": "stream",
          "name": "stdout",
          "text": [
            "---------------------------------------------------------\n",
            "Title: Tommy Hilfiger Analogue Multifunction Quartz Watch for Men with Blue Stainless Steel Bracelet - 1791560\n",
            "Price: 104.72\n",
            "Rating: 4.5 out of 5 stars\n",
            "Description: Product Description   Distinctive pole-position style characterizes this Men’s sport watch collection. The 46mm solid stainless steel or colored-ip case features a crown-protector and bold bezel. The dial comes with fine \"diamond\" texture in various semi-gloss colors and with signature tommy logo at 3 o'clock. Water resistant to 5 ATM /50 meters.   Box Contains   Watch, Presentation box, Watch Cushion, Guarantee\n"
          ]
        },
        {
          "output_type": "stream",
          "name": "stdout",
          "text": [
            "---------------------------------------------------------\n",
            "Title: Tommy Hilfiger Jewelry Women's Stainless Steel Stud Earrings - 2780648\n",
            "Price: 37.90\n",
            "Rating: 5.0 out of 5 stars\n",
            "Description: Tommy Hilfiger Jewerly offers items for all occasions - all with a fashionable twist.From sports-inspired classics to dressier styles, our jewelry pieces are united by timeless design and a sleek, stainless steel or leather finish.\n"
          ]
        },
        {
          "output_type": "stream",
          "name": "stdout",
          "text": [
            "---------------------------------------------------------\n",
            "Title: Tommy Hilfiger Jewelry Women's Stainless Steel Earrings Embellished with Crystals - 2700259\n",
            "Price: 32.00\n",
            "Rating: 4.6 out of 5 stars\n",
            "Description: Tommy Hilfiger Jewerly offers items for all occasions - all with a fashionable twist. From sports-inspired classics to dressier styles, our jewelry pieces are united by timeless design and a sleek, stainless steel or leather finish.\n"
          ]
        },
        {
          "output_type": "stream",
          "name": "stdout",
          "text": [
            "---------------------------------------------------------\n",
            "Title: Tommy Hilfiger Cufflinks (Men)\n",
            "Price: 39.00\n",
            "Rating: Previous page\n",
            "Description: Tommy Hilfiger Jewerly offers items for all occasions - all with a fashionable twist.\n"
          ]
        },
        {
          "output_type": "stream",
          "name": "stdout",
          "text": [
            "---------------------------------------------------------\n",
            "Title: Tommy Hilfiger Jewelry Women's Stainless steel Chain Bracelet - 2780711\n",
            "Price: 45.00\n",
            "Rating: Previous page\n",
            "Description: Tommy Hilfiger Jewerly offers items for all occasions - all with a fashionable twist. From sports-inspired classics to dressier styles, our jewelry pieces are united by timeless design and a sleek, stainless steel or leather finish.\n"
          ]
        },
        {
          "output_type": "stream",
          "name": "stdout",
          "text": [
            "---------------------------------------------------------\n",
            "Title: Tommy Hilfiger Analogue Multifunction Quartz Watch for Men with Gold Coloured Stainless Steel Bracelet - 1791121\n",
            "Price: 131.66\n",
            "Rating: 4.6 out of 5 stars\n",
            "Description: Product Description   Modern casual meets sophisticated sport in this new multi-eye watch for men. Presented on a gold-toned stainless-steel bracelet, it features a 46mmgold-toned stainless steel case with sleek blue ion-plated aluminum sport bezel, and a white enamel dial with day and date subdials, stick markers and fine line minute reflector. HILFIGER name/flag logo positioned at 12:00.   Box Contains   Watch, Presentation box, Watch Cushion, Guarantee\n"
          ]
        },
        {
          "output_type": "stream",
          "name": "stdout",
          "text": [
            "---------------------------------------------------------\n",
            "Title: Tommy Hilfiger Jewelry Women's Hinge Earrings Yellow Gold - 2780665\n",
            "Price: 36.25\n",
            "Rating: 3.1 out of 5 stars\n",
            "Description: Tommy Hilfiger jewerly offers items for all occasions - all with a fashionable twist.From sports-inspired classics to dressier styles, our jewelry pieces are united by timeless design and a sleek, stainless steel or leather finish.\n"
          ]
        },
        {
          "output_type": "stream",
          "name": "stdout",
          "text": [
            "---------------------------------------------------------\n",
            "Title: Tommy Hilfiger Jewelry Men's Stainless Steel Link Bracelet - 2790395\n",
            "Price: 56.36\n",
            "Rating: 2.7 out of 5 stars\n",
            "Description: Tommy Hilfiger Jewerly offers items for all occasions - all with a fashionable twist.From sports-inspired classics to dressier styles, our jewelry pieces are united by timeless design and a sleek, stainless steel or leather finish.\n"
          ]
        },
        {
          "output_type": "stream",
          "name": "stdout",
          "text": [
            "---------------------------------------------------------\n",
            "Title: Tommy Hilfiger Jewelry Men's Stainless Steel CuffLinks - 2790378\n",
            "Price: 36.00\n",
            "Rating: 4.0 out of 5 stars\n",
            "Description: Tommy Hilfiger Jewerly offers items for all occasions - all with a fashionable twist.From sports-inspired classics to dressier styles, our jewelry pieces are united by timeless design and a sleek, stainless steel or leather finish.\n"
          ]
        },
        {
          "output_type": "stream",
          "name": "stdout",
          "text": [
            "---------------------------------------------------------\n",
            "Title: Tommy Hilfiger Jewelry Men's Stainless Steel Bracelet - 2790261\n",
            "Price: 65.79\n",
            "Rating: 3.6 out of 5 stars\n",
            "Description: From sports-inspired classics to dressier styles, our jewelry pieces are united by timeless design and a sleek, stainless steel or leather finish.\n"
          ]
        },
        {
          "output_type": "stream",
          "name": "stdout",
          "text": [
            "---------------------------------------------------------\n",
            "Title: Tommy Hilfiger Jewelry Men's Link Bracelet in Stainless steel2790501\n",
            "Price: 99.00\n",
            "Rating: Previous page\n",
            "Description: \n"
          ]
        },
        {
          "output_type": "stream",
          "name": "stdout",
          "text": [
            "---------------------------------------------------------\n",
            "Title: Tommy Hilfiger Jewelry Women's Stainless Steel Stud Earrings - 2780518\n",
            "Price: 25.00\n",
            "Rating: 4.0 out of 5 stars\n",
            "Description: From sports-inspired classics to dressier styles, our jewelry pieces are united by timeless design and a sleek, stainless steel or leather finish.\n"
          ]
        },
        {
          "output_type": "stream",
          "name": "stdout",
          "text": [
            "---------------------------------------------------------\n",
            "Title: Tommy Hilfiger Jewelry Women's Pendant Necklace Stainless steel - 2780671\n",
            "Price: 64.99\n",
            "Rating: 5.0 out of 5 stars\n",
            "Description: Tommy Hilfiger jewerly offers items for all occasions - all with a fashionable twist.From sports-inspired classics to dressier styles, our jewelry pieces are united by timeless design and a sleek, stainless steel or leather finish.\n"
          ]
        },
        {
          "output_type": "stream",
          "name": "stdout",
          "text": [
            "---------------------------------------------------------\n",
            "Title: Tommy Hilfiger Jewelry Men's Leather Bracelet Black - 2790429\n",
            "Price: 50.38\n",
            "Rating: Previous page\n",
            "Description: Tommy Hilfiger jewerly offers items for all occasions - all with a fashionable twist.From sports-inspired classics to dressier styles, our jewelry pieces are united by timeless design and a sleek, stainless steel or leather finish.\n"
          ]
        },
        {
          "output_type": "stream",
          "name": "stdout",
          "text": [
            "---------------------------------------------------------\n",
            "Title: Tommy Hilfiger Jewelry Men's Leather Bracelet Brown - 2790441\n",
            "Price: 69.00\n",
            "Rating: 4.0 out of 5 stars\n",
            "Description: Tommy Hilfiger jewerly offers items for all occasions - all with a fashionable twist.From sports-inspired classics to dressier styles, our jewelry pieces are united by timeless design and a sleek, stainless steel or leather finish.\n"
          ]
        },
        {
          "output_type": "stream",
          "name": "stdout",
          "text": [
            "---------------------------------------------------------\n",
            "Title: Tommy Hilfiger Jewelry Men's Bracelet Brown - 2790461\n",
            "Price: 36.29\n",
            "Rating: 5.0 out of 5 stars\n",
            "Description: Tommy Hilfiger jewerly offers items for all occasions - all with a fashionable twist.From sports-inspired classics to dressier styles, our jewelry pieces are united by timeless design and a sleek, stainless steel or leather finish.\n"
          ]
        },
        {
          "output_type": "stream",
          "name": "stdout",
          "text": [
            "---------------------------------------------------------\n",
            "Title: Tommy Hilfiger Jewelry Men's Leather Bracelet Brown - 2790024\n",
            "Price: 39.00\n",
            "Rating: 3.7 out of 5 stars\n",
            "Description: Tommy Hilfiger Jewerly offers items for all occasions - all with a fashionable twist\n"
          ]
        },
        {
          "output_type": "stream",
          "name": "stdout",
          "text": [
            "---------------------------------------------------------\n",
            "Title: Tommy Hilfiger Men's Bracelet Anthony Ramos Jewelry Classic Capsule. 2790453, one size, Metal\n",
            "Price: 89.10\n",
            "Rating: 3.7 out of 5 stars\n",
            "Description: Tommy Hilfiger Bracelet. Reference 2790453. TOMMY HILFIGER PULSEIRA brand Tommy Hilfiger.\n"
          ]
        },
        {
          "output_type": "stream",
          "name": "stdout",
          "text": [
            "---------------------------------------------------------\n",
            "Title: Tommy Hilfiger Jewelry Women's Stainless Steel Earrings Embellished with Crystals\n",
            "Price: 64.99\n",
            "Rating: Previous page\n",
            "Description: \n"
          ]
        },
        {
          "output_type": "stream",
          "name": "stdout",
          "text": [
            "---------------------------------------------------------\n",
            "Title: Tommy Hilfiger Jewelry Men's Stainless Steel Link Bracelet - 2790297\n",
            "Price: 62.67\n",
            "Rating: 4.2 out of 5 stars\n",
            "Description: From sports-inspired classics to dressier styles, our jewelry pieces are united by timeless design and a sleek, stainless steel or leather finish.\n"
          ]
        },
        {
          "output_type": "stream",
          "name": "stdout",
          "text": [
            "---------------------------------------------------------\n",
            "Title: Tommy Hilfiger Jewelry Women's Stainless steel Chain Bracelet Carnation gold - 2780731\n",
            "Price: 37.57\n",
            "Rating: 4.0 out of 5 stars\n",
            "Description: Tommy Hilfiger Jewerly offers items for all occasions - all with a fashionable twist. From sports-inspired classics to dressier styles, our jewelry pieces are united by timeless design and a sleek, stainless steel or leather finish.\n"
          ]
        },
        {
          "output_type": "stream",
          "name": "stdout",
          "text": [
            "---------------------------------------------------------\n",
            "Title: Tommy Hilfiger Jewelry Women's Stainless steel Pendant Necklace - 2780735\n",
            "Price: 44.00\n",
            "Rating: Previous page\n",
            "Description: Tommy Hilfiger Jewerly offers items for all occasions - all with a fashionable twist. From sports-inspired classics to dressier styles, our jewelry pieces are united by timeless design and a sleek, stainless steel or leather finish.\n"
          ]
        },
        {
          "output_type": "stream",
          "name": "stdout",
          "text": [
            "---------------------------------------------------------\n",
            "Title: Tommy Hilfiger Jewelry Men's Stainless Steel Link Bracelet Stainless steel - 2790485\n",
            "Price: 79.00\n",
            "Rating: Previous page\n",
            "Description: Tommy Hilfiger Jewerly offers items for all occasions - all with a fashionable twist. From sports-inspired classics to dressier styles, our jewelry pieces are united by timeless design and a sleek, stainless steel or leather finish.\n"
          ]
        },
        {
          "output_type": "stream",
          "name": "stdout",
          "text": [
            "---------------------------------------------------------\n",
            "Title: Tommy Hilfiger Men's Link Bracelets\n",
            "Price: 42.21\n",
            "Rating: 4.2 out of 5 stars\n",
            "Description: From sports-inspired classics to dressier styles, our jewelry pieces are united by timeless design and a sleek, stainless steel or leather finish.\n"
          ]
        },
        {
          "output_type": "stream",
          "name": "stdout",
          "text": [
            "---------------------------------------------------------\n",
            "Title: Tommy Hilfiger Jewelry Women's Stainless Steel Bangle Bracelet Embellished with Crystals - 2780611\n",
            "Price: 64.00\n",
            "Rating: 4.8 out of 5 stars\n",
            "Description: Tommy Hilfiger Jewerly offers items for all occasions - all with a fashionable twist.From sports-inspired classics to dressier styles, our jewelry pieces are united by timeless design and a sleek, stainless steel or leather finish.\n"
          ]
        },
        {
          "output_type": "stream",
          "name": "stdout",
          "text": [
            "---------------------------------------------------------\n",
            "Title: Tommy Hilfiger Jewelry Men's Nylon Rope bracelet Navy Blue or Black\n",
            "Price: 59.00\n",
            "Rating: Previous page\n",
            "Description: \n"
          ]
        },
        {
          "output_type": "stream",
          "name": "stdout",
          "text": [
            "\n",
            "\n",
            "---------------------------------------------\n",
            "page 3 is finished\n",
            "---------------------------------------------\n",
            "\n",
            "\n"
          ]
        }
      ],
      "execution_count": 42,
      "metadata": {
        "scrolled": true,
        "noteable": {},
        "ExecuteTime": {
          "end_time": "2023-07-19T19:16:06.415141+00:00",
          "start_time": "2023-07-19T18:37:13.785386+00:00"
        },
        "jupyter": {
          "outputs_hidden": true
        }
      },
      "id": "a935a76e"
    },
    {
      "cell_type": "code",
      "source": [
        "for page in range(1,num_pages+1):\n",
        "    url = f'https://www.amazon.co.uk/s?k={query}&page={page}&ref=nb_sb_noss'\n",
        "    url = url.replace(\" \", \"%20\")\n",
        "#     # Parse the HTML content using BeautifulSoup\n",
        "#     print(f'Page:{page}')\n",
        "    print(url)\n",
        "#     url = 'https://www.amazon.co.uk/s?k=boss+jewellery+for+men&crid=33F2J8F5ZMF98&sprefix=boss+jewellery+for+men%2Caps%2C208&ref=nb_sb_noss_1' \n",
        "    user_agent = random.choice(user_agent_list)\n",
        "    opener = urllib.request.build_opener()\n",
        "    opener.addheaders = [('User-agent', user_agent)]\n",
        "    response = opener.open(url)\n",
        "    html_content = response.read()\n",
        "#     response = session.get(url)\n",
        "#     html_content = response.content\n",
        "    \n",
        "    soup = BeautifulSoup(html_content, 'html.parser')\n",
        "    \n",
        "    # Extract the URLs of the product pages from the search results\n",
        "    product_urls = []\n",
        "    results = soup.find_all('div', {'class': 's-result-item'})\n",
        "    for result in results:\n",
        "        link = result.find('a', {'class': 'a-link-normal s-no-outline'})\n",
        "\n",
        "        if link:\n",
        "            u = 'https://www.amazon.co.uk'+link.get('href')\n",
        "            product_urls.append(u)\n",
        "    # List    \n",
        "    for product_url in product_urls[:-1]:\n",
        "        url_key.append(product_url)\n",
        "#         response = session.get(product_url)\n",
        "#         html_content = response.content\n",
        "        response = opener.open(product_url)\n",
        "        html_content = response.read()\n",
        "        soup = BeautifulSoup(html_content, 'html.parser')\n",
        "        title = soup.find('span', attrs={'id': 'productTitle'}).get_text().strip()\n",
        "        Title.append(title)\n",
        "        if not soup.find('span', attrs={'class': 'a-price-whole'}):\n",
        "            Price.append(' ')\n",
        "        else:\n",
        "            price1 = soup.find('span', attrs={'class': 'a-price-whole'}).get_text().strip()\n",
        "            price2 = soup.find('span', attrs={'class': 'a-price-fraction'}).get_text().strip()\n",
        "            Price.append(price1+price2)\n",
        "        if not soup.find('span', attrs={'class': 'a-icon-alt'}):\n",
        "            Rating.append(' ')\n",
        "        else:\n",
        "            rating = soup.find('span', attrs={'class': 'a-icon-alt'}).get_text().strip()\n",
        "            Rating.append(rating)\n",
        "        if not soup.find('div', attrs={'id': 'productDescription'}):\n",
        "            Description.append(' ')\n",
        "        else:\n",
        "            description = soup.find('div', attrs={'id': 'productDescription'}).get_text().strip()\n",
        "            Description.append(description)\n",
        "        \n",
        "        #Detail page\n",
        "        specifications_container = soup.find(\"table\", attrs={\"id\": \"technicalSpecifications_section_1\"})\n",
        "        if specifications_container:\n",
        "            specification_rows = specifications_container.find_all(\"tr\")\n",
        "\n",
        "            # Iterate through each specification row and extract the relevant information\n",
        "            for row in specification_rows:\n",
        "                # Extract the specification name\n",
        "                name = row.find(\"th\").text.strip()\n",
        "\n",
        "                # Extract the specification value\n",
        "                value = row.find(\"td\").text.strip()\n",
        "\n",
        "            # Print the extracted information\n",
        "                df = df.append({'Name': name, 'Value': value, 'url': product_url}, ignore_index=True)\n",
        "        else:\n",
        "            df.append({'Name': ' ', 'Value': ' ', 'url': product_url}, ignore_index=True)\n",
        "            \n",
        "        print('---------------------------------------------------------')\n",
        "        \n",
        "        print(f'Title: {title}')\n",
        "        print(f'Price: {price1+price2}')\n",
        "        print(f'Rating: {rating}')\n",
        "        print(f'Description: {description}')\n",
        "        \n",
        " \n",
        "        amz_scraper = AmazonScraper()\n",
        "#         product_url = product_url.replace('dp', 'product-reviews')+'&reviewerType=all_reviews'\n",
        "        for page_num in range(1, 100):\n",
        "            if amz_scraper.scrapeReviews(url=product_url, page_num=page_num) ==[] or amz_scraper.scrapeReviews(url=product_url, page_num=page_num) ==None:\n",
        "#                 reviews.extend(UserReview(' ', ' ', ' ', ' ', ' ', ' ', ' ', ' '))\n",
        "                break\n",
        "            reviews.extend(amz_scraper.scrapeReviews(url=product_url, page_num=page_num))\n",
        "            time.sleep(5)\n",
        "\n",
        "#         Reviews = pd.DataFrame(reviews)\n",
        "        if product_url == product_urls[-2]:\n",
        "            print('\\n')\n",
        "            print('---------------------------------------------')\n",
        "            print(f'page {page} is finished')\n",
        "            print('---------------------------------------------')\n",
        "            print('\\n')\n",
        "        \n",
        "        \n",
        "        time.sleep(5)"
      ],
      "outputs": [
        {
          "output_type": "error",
          "ename": "NameError",
          "evalue": "name 'num_pages' is not defined",
          "traceback": [
            "\u001b[0;31m---------------------------------------------------------------------------\u001b[0m",
            "\u001b[0;31mNameError\u001b[0m                                 Traceback (most recent call last)",
            "Cell \u001b[0;32mIn[9], line 1\u001b[0m\n\u001b[0;32m----> 1\u001b[0m \u001b[38;5;28;01mfor\u001b[39;00m page \u001b[38;5;129;01min\u001b[39;00m \u001b[38;5;28mrange\u001b[39m(\u001b[38;5;241m1\u001b[39m,\u001b[43mnum_pages\u001b[49m\u001b[38;5;241m+\u001b[39m\u001b[38;5;241m1\u001b[39m):\n\u001b[1;32m      2\u001b[0m     url \u001b[38;5;241m=\u001b[39m \u001b[38;5;124mf\u001b[39m\u001b[38;5;124m'\u001b[39m\u001b[38;5;124mhttps://www.amazon.co.uk/s?k=\u001b[39m\u001b[38;5;132;01m{\u001b[39;00mquery\u001b[38;5;132;01m}\u001b[39;00m\u001b[38;5;124m&page=\u001b[39m\u001b[38;5;132;01m{\u001b[39;00mpage\u001b[38;5;132;01m}\u001b[39;00m\u001b[38;5;124m&ref=nb_sb_noss\u001b[39m\u001b[38;5;124m'\u001b[39m\n\u001b[1;32m      3\u001b[0m     url \u001b[38;5;241m=\u001b[39m url\u001b[38;5;241m.\u001b[39mreplace(\u001b[38;5;124m\"\u001b[39m\u001b[38;5;124m \u001b[39m\u001b[38;5;124m\"\u001b[39m, \u001b[38;5;124m\"\u001b[39m\u001b[38;5;124m%\u001b[39m\u001b[38;5;124m20\u001b[39m\u001b[38;5;124m\"\u001b[39m)\n",
            "\u001b[0;31mNameError\u001b[0m: name 'num_pages' is not defined"
          ]
        }
      ],
      "execution_count": null,
      "metadata": {
        "jupyter": {
          "outputs_hidden": false,
          "source_hidden": false
        },
        "noteable": {
          "cell_type": "code"
        },
        "ExecuteTime": {
          "end_time": "2023-08-08T17:13:45.682022+00:00",
          "start_time": "2023-08-08T17:13:45.452967+00:00"
        }
      },
      "id": "826a6262-d134-435d-ace9-2d20b2dba81f"
    },
    {
      "cell_type": "code",
      "source": [],
      "outputs": [],
      "execution_count": null,
      "metadata": {
        "jupyter": {
          "outputs_hidden": false,
          "source_hidden": false
        },
        "noteable": {
          "cell_type": "code"
        }
      },
      "id": "49bff1a0-e9ea-44a5-9635-836e28438426"
    },
    {
      "cell_type": "code",
      "source": [
        "data = {'Title': Title, 'Price': Price, 'Rating': Rating, 'Description': Description, 'Product_url': url_key}\n",
        "\n",
        "# Create a DataFrame from the dictionary\n",
        "product_describe = pd.DataFrame(data)\n",
        "Reviews = pd.DataFrame(reviews)\n",
        "df_sku = df[df['Name'] == ('Model number' or ' ')]\n",
        "df_boss_women = Reviews.merge(df_sku, how='left', left_on='url', right_on='url')\n",
        "df_boss_women = df_boss_women.merge(product_describe, how='left', left_on='url', right_on='Product_url')\n",
        "df_boss_women_v1 = df_boss_women.dropna()\n",
        "df_boss_women_v1 = df_boss_women_v1.drop('Product_url' ,axis=1)"
      ],
      "outputs": [],
      "execution_count": null,
      "metadata": {
        "noteable": {},
        "ExecuteTime": {
          "end_time": "2023-07-19T19:16:06.609112+00:00",
          "start_time": "2023-07-19T19:16:06.423666+00:00"
        }
      },
      "id": "e5592a07"
    },
    {
      "cell_type": "code",
      "source": [
        "df_boss_women_v1.to_csv('boss_jew_women.csv', index=False)"
      ],
      "outputs": [],
      "execution_count": null,
      "metadata": {
        "noteable": {},
        "ExecuteTime": {
          "end_time": "2023-07-19T19:16:06.866543+00:00",
          "start_time": "2023-07-19T19:16:06.683174+00:00"
        }
      },
      "id": "806502b8"
    },
    {
      "cell_type": "code",
      "source": [],
      "outputs": [],
      "execution_count": null,
      "metadata": {},
      "id": "7f1b44c4"
    },
    {
      "cell_type": "code",
      "source": [
        "data = {'Title': Title, 'Price': Price, 'Rating': Rating, 'Description': Description, 'Product_url': url_key}\n",
        "\n",
        "# Create a DataFrame from the dictionary\n",
        "product_describe = pd.DataFrame(data)\n",
        "product_describe.head()"
      ],
      "outputs": [
        {
          "output_type": "display_data",
          "data": {
            "application/vnd.dataresource+json": {
              "schema": {
                "fields": [
                  {
                    "name": "index",
                    "type": "integer"
                  },
                  {
                    "name": "Title",
                    "type": "string"
                  },
                  {
                    "name": "Price",
                    "type": "string"
                  },
                  {
                    "name": "Rating",
                    "type": "string"
                  },
                  {
                    "name": "Description",
                    "type": "string"
                  },
                  {
                    "name": "Product_url",
                    "type": "string"
                  }
                ],
                "primaryKey": [
                  "index"
                ],
                "pandas_version": "1.4.0"
              },
              "data": [
                {
                  "index": 0,
                  "Title": "Tommy Hilfiger Jewelry Men's Leather Bracelet Black - 2700534",
                  "Price": "28.03",
                  "Rating": "4.3 out of 5 stars",
                  "Description": "Tommy Hilfiger Men's Braided Leather Bracelet with Stainless Steel Clasp, Black",
                  "Product_url": "https://www.amazon.co.uk/Tommy-Hilfiger-Multi-Wrap-Bracelet-Stainless-Steel/dp/B00INLR7VI/ref=sr_1_1?keywords=tommy+hilfiger+jewellery+men&qid=1689791834&sr=8-1"
                },
                {
                  "index": 1,
                  "Title": "Tommy Hilfiger Jewelry Men's Stainless Steel Pendant Necklace - 2790314",
                  "Price": "36.88",
                  "Rating": "4.6 out of 5 stars",
                  "Description": "From sports-inspired classics to dressier styles, our jewelry pieces are united by timeless design and a sleek, stainless steel or leather finish.",
                  "Product_url": "https://www.amazon.co.uk/Tommy-Hilfiger-2790314-Pendant-Necklace/dp/B08YN27QHH/ref=sr_1_2?keywords=tommy+hilfiger+jewellery+men&qid=1689791834&sr=8-2"
                },
                {
                  "index": 2,
                  "Title": "Tommy Hilfiger Herren-Armband Edelstahl",
                  "Price": "39.53",
                  "Rating": "4.2 out of 5 stars",
                  "Description": "",
                  "Product_url": "https://www.amazon.co.uk/Tommy-Hilfiger-Stainless-Steel-Braided-Bracelet/dp/B01I9DH0S4/ref=sr_1_3?keywords=tommy+hilfiger+jewellery+men&qid=1689791834&sr=8-3"
                },
                {
                  "index": 3,
                  "Title": "Tommy Hilfiger Jewelry Men's Stainless Steel Chain Necklace - 2790365",
                  "Price": "56.00",
                  "Rating": "4.6 out of 5 stars",
                  "Description": "Tommy Hilfiger Jewerly offers items for all occasions - all with a fashionable twist.From sports-inspired classics to dressier styles, our jewelry pieces are united by timeless design and a sleek, stainless steel or leather finish.",
                  "Product_url": "https://www.amazon.co.uk/Tommy-Hilfiger-Jewelry-Stainless-Necklace/dp/B09V7V75QD/ref=sr_1_4?keywords=tommy+hilfiger+jewellery+men&qid=1689791834&sr=8-4"
                },
                {
                  "index": 4,
                  "Title": "Tommy Hilfiger Jewelry Men's Leather Bracelet Blue - 2790264S",
                  "Price": "38.50",
                  "Rating": "4.3 out of 5 stars",
                  "Description": "Tommy Hilfiger Jewerly offers items for all occasions - all with a fashionable twist.",
                  "Product_url": "https://www.amazon.co.uk/Tommy-Hilfiger-Wrap-Bracelets-Men/dp/B08KQK82BD/ref=sr_1_5?keywords=tommy+hilfiger+jewellery+men&qid=1689791834&sr=8-5"
                }
              ],
              "datalink": {
                "display_id": "d17acc66-cc41-4d90-88d0-98aee097bb6a"
              }
            }
          },
          "metadata": {
            "application/vnd.dataresource+json": {
              "datalink": {
                "dataframe_info": {
                  "default_index_used": true,
                  "orig_size_bytes": 240,
                  "orig_num_rows": 5,
                  "orig_num_cols": 5,
                  "truncated_string_columns": [],
                  "truncated_size_bytes": 240,
                  "truncated_num_rows": 5,
                  "truncated_num_cols": 5
                },
                "dx_settings": {
                  "NUM_PAST_SAMPLES_TRACKED": 3,
                  "ENABLE_DATALINK": true,
                  "DISPLAY_MODE": "simple",
                  "GENERATE_DEX_METADATA": false,
                  "STRINGIFY_INDEX_VALUES": false,
                  "ALLOW_NOTEABLE_ATTRS": true,
                  "DISPLAY_MAX_COLUMNS": 100,
                  "HTML_TABLE_SCHEMA": false,
                  "SAMPLING_FACTOR": 0.1,
                  "LOG_LEVEL": 30,
                  "ENABLE_ASSIGNMENT": true,
                  "FLATTEN_INDEX_VALUES": false,
                  "DEV_MODE": false,
                  "COLUMN_SAMPLING_METHOD": "outer",
                  "FLATTEN_COLUMN_VALUES": true,
                  "DISPLAY_MAX_ROWS": 50000,
                  "ROW_SAMPLING_METHOD": "random",
                  "RANDOM_STATE": 12648430,
                  "DB_LOCATION": ":memory:",
                  "STRINGIFY_COLUMN_VALUES": true,
                  "SAMPLING_METHOD": "random",
                  "MAX_STRING_LENGTH": 250,
                  "MAX_RENDER_SIZE_BYTES": 104857600,
                  "RESET_INDEX_VALUES": false
                },
                "display_id": "d17acc66-cc41-4d90-88d0-98aee097bb6a",
                "applied_filters": [],
                "sample_history": [],
                "sampling_time": "2023-07-19T19:16:06.956065",
                "variable_name": "unk_dataframe_e8460a66850a43cf91a33c22ae1c7721",
                "user_variable_name": null
              },
              "display_id": "d17acc66-cc41-4d90-88d0-98aee097bb6a"
            }
          }
        }
      ],
      "execution_count": 43,
      "metadata": {
        "noteable": {},
        "ExecuteTime": {
          "end_time": "2023-07-19T19:16:07.112532+00:00",
          "start_time": "2023-07-19T19:16:06.874247+00:00"
        },
        "datalink": {
          "d17acc66-cc41-4d90-88d0-98aee097bb6a": {
            "applied_filters": [],
            "dataframe_info": {
              "default_index_used": true,
              "orig_num_cols": 5,
              "orig_num_rows": 5,
              "orig_size_bytes": 240,
              "truncated_num_cols": 5,
              "truncated_num_rows": 5,
              "truncated_size_bytes": 240,
              "truncated_string_columns": []
            },
            "display_id": "d17acc66-cc41-4d90-88d0-98aee097bb6a",
            "dx_settings": {
              "ALLOW_NOTEABLE_ATTRS": true,
              "COLUMN_SAMPLING_METHOD": "outer",
              "DB_LOCATION": ":memory:",
              "DEV_MODE": false,
              "DISPLAY_MAX_COLUMNS": 100,
              "DISPLAY_MAX_ROWS": 50000,
              "DISPLAY_MODE": "simple",
              "ENABLE_ASSIGNMENT": true,
              "ENABLE_DATALINK": true,
              "FLATTEN_COLUMN_VALUES": true,
              "FLATTEN_INDEX_VALUES": false,
              "GENERATE_DEX_METADATA": false,
              "HTML_TABLE_SCHEMA": false,
              "LOG_LEVEL": 30,
              "MAX_RENDER_SIZE_BYTES": 104857600,
              "MAX_STRING_LENGTH": 250,
              "NUM_PAST_SAMPLES_TRACKED": 3,
              "RANDOM_STATE": 12648430,
              "RESET_INDEX_VALUES": false,
              "ROW_SAMPLING_METHOD": "random",
              "SAMPLING_FACTOR": 0.1,
              "SAMPLING_METHOD": "random",
              "STRINGIFY_COLUMN_VALUES": true,
              "STRINGIFY_INDEX_VALUES": false
            },
            "sample_history": [],
            "sampling_time": "2023-07-19T19:16:06.956065",
            "user_variable_name": null,
            "variable_name": "unk_dataframe_e8460a66850a43cf91a33c22ae1c7721"
          }
        }
      },
      "id": "8d048e84"
    },
    {
      "cell_type": "code",
      "source": [
        "Reviews = pd.DataFrame(reviews)\n",
        "Reviews.head()"
      ],
      "outputs": [
        {
          "output_type": "display_data",
          "data": {
            "application/vnd.dataresource+json": {
              "schema": {
                "fields": [
                  {
                    "name": "index",
                    "type": "integer"
                  },
                  {
                    "name": "url",
                    "type": "string"
                  },
                  {
                    "name": "review_title",
                    "type": "string"
                  },
                  {
                    "name": "comment",
                    "type": "string"
                  },
                  {
                    "name": "rating",
                    "type": "string"
                  },
                  {
                    "name": "date",
                    "type": "string"
                  },
                  {
                    "name": "username",
                    "type": "string"
                  },
                  {
                    "name": "profile_url",
                    "type": "string"
                  },
                  {
                    "name": "verified_purchase",
                    "type": "boolean"
                  }
                ],
                "primaryKey": [
                  "index"
                ],
                "pandas_version": "1.4.0"
              },
              "data": [
                {
                  "index": 0,
                  "url": "https://www.amazon.co.uk/Tommy-Hilfiger-Multi-Wrap-Bracelet-Stainless-Steel/dp/B00INLR7VI/ref=sr_1_1?keywords=tommy+hilfiger+jewellery+men&qid=1689791834&sr=8-1",
                  "review_title": "5.0 out of 5 stars\nLess is more",
                  "comment": "Quite like the small simplicity of this item.The leather is stiff when new, but I'm sure it will soften over time.Looks good without being shouty. I think that means it's classy or maybe cool.",
                  "rating": "5.0 out of 5 stars",
                  "date": "Reviewed in the United Kingdom 🇬🇧 on 14 July 2023",
                  "username": "Russell",
                  "profile_url": "https://amazon.co.uk//gp/profile/amzn1.account.AELNIMUB2RWS5CWW7T6RTY5XXDZQ/ref=cm_cr_arp_d_gw_btm?ie=UTF8",
                  "verified_purchase": true
                },
                {
                  "index": 1,
                  "url": "https://www.amazon.co.uk/Tommy-Hilfiger-Multi-Wrap-Bracelet-Stainless-Steel/dp/B00INLR7VI/ref=sr_1_1?keywords=tommy+hilfiger+jewellery+men&qid=1689791834&sr=8-1",
                  "review_title": "5.0 out of 5 stars\nGreat",
                  "comment": "Lots of reviews saying too big , if you have a real man’s wrist like Spartacus who wore leather bracelets it fits well and looks great. Skinny men outside UK look elsewhere",
                  "rating": "5.0 out of 5 stars",
                  "date": "Reviewed in the United Kingdom 🇬🇧 on 5 July 2023",
                  "username": "Chris",
                  "profile_url": "https://amazon.co.uk//gp/profile/amzn1.account.AEVURRLTOSVEUVV6Y3CS5XCGZNLQ/ref=cm_cr_arp_d_gw_btm?ie=UTF8",
                  "verified_purchase": true
                },
                {
                  "index": 2,
                  "url": "https://www.amazon.co.uk/Tommy-Hilfiger-Multi-Wrap-Bracelet-Stainless-Steel/dp/B00INLR7VI/ref=sr_1_1?keywords=tommy+hilfiger+jewellery+men&qid=1689791834&sr=8-1",
                  "review_title": "5.0 out of 5 stars\nBetter than expected",
                  "comment": "Great product and quality.Looks and feels great, really like it!!",
                  "rating": "5.0 out of 5 stars",
                  "date": "Reviewed in the United Kingdom 🇬🇧 on 22 June 2023",
                  "username": "Ash",
                  "profile_url": "https://amazon.co.uk//gp/profile/amzn1.account.AERJVBFB4TTSDWMPKCDM4E6F2LTQ/ref=cm_cr_arp_d_gw_btm?ie=UTF8",
                  "verified_purchase": true
                },
                {
                  "index": 3,
                  "url": "https://www.amazon.co.uk/Tommy-Hilfiger-Multi-Wrap-Bracelet-Stainless-Steel/dp/B00INLR7VI/ref=sr_1_1?keywords=tommy+hilfiger+jewellery+men&qid=1689791834&sr=8-1",
                  "review_title": "5.0 out of 5 stars\nGood quality",
                  "comment": "Again delivered on time and the item is what as I expected. Well made piece of jewellery",
                  "rating": "5.0 out of 5 stars",
                  "date": "Reviewed in the United Kingdom 🇬🇧 on 18 May 2023",
                  "username": "Malcolm Macleod",
                  "profile_url": "https://amazon.co.uk//gp/profile/amzn1.account.AEDNUCGWETPJOLNW4FSGCETNXCNA/ref=cm_cr_arp_d_gw_btm?ie=UTF8",
                  "verified_purchase": true
                },
                {
                  "index": 4,
                  "url": "https://www.amazon.co.uk/Tommy-Hilfiger-Multi-Wrap-Bracelet-Stainless-Steel/dp/B00INLR7VI/ref=sr_1_1?keywords=tommy+hilfiger+jewellery+men&qid=1689791834&sr=8-1",
                  "review_title": "2.0 out of 5 stars\nLooks cheap",
                  "comment": "My partner loves Tommy Hilfiger leather bracelets and has a few but this one is not as nice as others and came up so big",
                  "rating": "2.0 out of 5 stars",
                  "date": "Reviewed in the United Kingdom 🇬🇧 on 3 May 2023",
                  "username": "Kerry pendle",
                  "profile_url": "https://amazon.co.uk//gp/profile/amzn1.account.AGD3GFYA5YWZ3ALIFSYHY2W6EKWQ/ref=cm_cr_arp_d_gw_btm?ie=UTF8",
                  "verified_purchase": true
                }
              ],
              "datalink": {
                "display_id": "1652908c-4824-40d1-89b3-621112b84e84"
              }
            }
          },
          "metadata": {
            "application/vnd.dataresource+json": {
              "datalink": {
                "dataframe_info": {
                  "default_index_used": true,
                  "orig_size_bytes": 325,
                  "orig_num_rows": 5,
                  "orig_num_cols": 8,
                  "truncated_string_columns": [],
                  "truncated_size_bytes": 325,
                  "truncated_num_rows": 5,
                  "truncated_num_cols": 8
                },
                "dx_settings": {
                  "NUM_PAST_SAMPLES_TRACKED": 3,
                  "ENABLE_DATALINK": true,
                  "DISPLAY_MODE": "simple",
                  "GENERATE_DEX_METADATA": false,
                  "STRINGIFY_INDEX_VALUES": false,
                  "ALLOW_NOTEABLE_ATTRS": true,
                  "DISPLAY_MAX_COLUMNS": 100,
                  "HTML_TABLE_SCHEMA": false,
                  "SAMPLING_FACTOR": 0.1,
                  "LOG_LEVEL": 30,
                  "ENABLE_ASSIGNMENT": true,
                  "FLATTEN_INDEX_VALUES": false,
                  "DEV_MODE": false,
                  "COLUMN_SAMPLING_METHOD": "outer",
                  "FLATTEN_COLUMN_VALUES": true,
                  "DISPLAY_MAX_ROWS": 50000,
                  "ROW_SAMPLING_METHOD": "random",
                  "RANDOM_STATE": 12648430,
                  "DB_LOCATION": ":memory:",
                  "STRINGIFY_COLUMN_VALUES": true,
                  "SAMPLING_METHOD": "random",
                  "MAX_STRING_LENGTH": 250,
                  "MAX_RENDER_SIZE_BYTES": 104857600,
                  "RESET_INDEX_VALUES": false
                },
                "display_id": "1652908c-4824-40d1-89b3-621112b84e84",
                "applied_filters": [],
                "sample_history": [],
                "sampling_time": "2023-07-19T19:16:07.214637",
                "variable_name": "unk_dataframe_0251f801fe224e60a48e9414b75a7908",
                "user_variable_name": null
              },
              "display_id": "1652908c-4824-40d1-89b3-621112b84e84"
            }
          }
        }
      ],
      "execution_count": 45,
      "metadata": {
        "noteable": {},
        "ExecuteTime": {
          "end_time": "2023-07-19T19:16:07.372507+00:00",
          "start_time": "2023-07-19T19:16:07.127811+00:00"
        },
        "datalink": {
          "1652908c-4824-40d1-89b3-621112b84e84": {
            "applied_filters": [],
            "dataframe_info": {
              "default_index_used": true,
              "orig_num_cols": 8,
              "orig_num_rows": 5,
              "orig_size_bytes": 325,
              "truncated_num_cols": 8,
              "truncated_num_rows": 5,
              "truncated_size_bytes": 325,
              "truncated_string_columns": []
            },
            "display_id": "1652908c-4824-40d1-89b3-621112b84e84",
            "dx_settings": {
              "ALLOW_NOTEABLE_ATTRS": true,
              "COLUMN_SAMPLING_METHOD": "outer",
              "DB_LOCATION": ":memory:",
              "DEV_MODE": false,
              "DISPLAY_MAX_COLUMNS": 100,
              "DISPLAY_MAX_ROWS": 50000,
              "DISPLAY_MODE": "simple",
              "ENABLE_ASSIGNMENT": true,
              "ENABLE_DATALINK": true,
              "FLATTEN_COLUMN_VALUES": true,
              "FLATTEN_INDEX_VALUES": false,
              "GENERATE_DEX_METADATA": false,
              "HTML_TABLE_SCHEMA": false,
              "LOG_LEVEL": 30,
              "MAX_RENDER_SIZE_BYTES": 104857600,
              "MAX_STRING_LENGTH": 250,
              "NUM_PAST_SAMPLES_TRACKED": 3,
              "RANDOM_STATE": 12648430,
              "RESET_INDEX_VALUES": false,
              "ROW_SAMPLING_METHOD": "random",
              "SAMPLING_FACTOR": 0.1,
              "SAMPLING_METHOD": "random",
              "STRINGIFY_COLUMN_VALUES": true,
              "STRINGIFY_INDEX_VALUES": false
            },
            "sample_history": [],
            "sampling_time": "2023-07-19T19:16:07.214637",
            "user_variable_name": null,
            "variable_name": "unk_dataframe_0251f801fe224e60a48e9414b75a7908"
          }
        }
      },
      "id": "a15768ee"
    },
    {
      "cell_type": "code",
      "source": [
        "Reviews.info()"
      ],
      "outputs": [
        {
          "output_type": "stream",
          "name": "stdout",
          "text": [
            "<class 'pandas.core.frame.DataFrame'>\n",
            "RangeIndex: 1222 entries, 0 to 1221\n",
            "Data columns (total 8 columns):\n",
            " #   Column             Non-Null Count  Dtype \n",
            "---  ------             --------------  ----- \n",
            " 0   url                1222 non-null   object\n",
            " 1   review_title       1222 non-null   object\n",
            " 2   comment            1222 non-null   object\n",
            " 3   rating             1222 non-null   object\n",
            " 4   date               1222 non-null   object\n",
            " 5   username           1222 non-null   object\n",
            " 6   profile_url        1222 non-null   object\n",
            " 7   verified_purchase  1222 non-null   bool  \n",
            "dtypes: bool(1), object(7)\n",
            "memory usage: 68.1+ KB\n"
          ]
        }
      ],
      "execution_count": 47,
      "metadata": {
        "noteable": {},
        "ExecuteTime": {
          "end_time": "2023-07-19T19:16:07.571663+00:00",
          "start_time": "2023-07-19T19:16:07.380269+00:00"
        }
      },
      "id": "8fbfbf00"
    },
    {
      "cell_type": "code",
      "source": [
        "df.head()"
      ],
      "outputs": [
        {
          "output_type": "display_data",
          "data": {
            "application/vnd.dataresource+json": {
              "schema": {
                "fields": [
                  {
                    "name": "index",
                    "type": "integer"
                  },
                  {
                    "name": "Name",
                    "type": "string"
                  },
                  {
                    "name": "Value",
                    "type": "string"
                  },
                  {
                    "name": "url",
                    "type": "string"
                  }
                ],
                "primaryKey": [
                  "index"
                ],
                "pandas_version": "1.4.0"
              },
              "data": [
                {
                  "index": 0,
                  "Name": "Brand Name",
                  "Value": "Tommy Hilfiger",
                  "url": "https://www.amazon.co.uk/Tommy-Hilfiger-Multi-Wrap-Bracelet-Stainless-Steel/dp/B00INLR7VI/ref=sr_1_1?keywords=tommy+hilfiger+jewellery+men&qid=1689791834&sr=8-1"
                },
                {
                  "index": 1,
                  "Name": "Metal",
                  "Value": "Stainless Steel",
                  "url": "https://www.amazon.co.uk/Tommy-Hilfiger-Multi-Wrap-Bracelet-Stainless-Steel/dp/B00INLR7VI/ref=sr_1_1?keywords=tommy+hilfiger+jewellery+men&qid=1689791834&sr=8-1"
                },
                {
                  "index": 2,
                  "Name": "Material Type",
                  "Value": "Stainless steel, leather",
                  "url": "https://www.amazon.co.uk/Tommy-Hilfiger-Multi-Wrap-Bracelet-Stainless-Steel/dp/B00INLR7VI/ref=sr_1_1?keywords=tommy+hilfiger+jewellery+men&qid=1689791834&sr=8-1"
                },
                {
                  "index": 3,
                  "Name": "Gem Type",
                  "Value": "No information",
                  "url": "https://www.amazon.co.uk/Tommy-Hilfiger-Multi-Wrap-Bracelet-Stainless-Steel/dp/B00INLR7VI/ref=sr_1_1?keywords=tommy+hilfiger+jewellery+men&qid=1689791834&sr=8-1"
                },
                {
                  "index": 4,
                  "Name": "Length",
                  "Value": "0.01 inches",
                  "url": "https://www.amazon.co.uk/Tommy-Hilfiger-Multi-Wrap-Bracelet-Stainless-Steel/dp/B00INLR7VI/ref=sr_1_1?keywords=tommy+hilfiger+jewellery+men&qid=1689791834&sr=8-1"
                }
              ],
              "datalink": {
                "display_id": "1ca8e6cf-7802-41d3-989c-fa68d7f0045c"
              }
            }
          },
          "metadata": {
            "application/vnd.dataresource+json": {
              "datalink": {
                "dataframe_info": {
                  "default_index_used": true,
                  "orig_size_bytes": 160,
                  "orig_num_rows": 5,
                  "orig_num_cols": 3,
                  "truncated_string_columns": [],
                  "truncated_size_bytes": 160,
                  "truncated_num_rows": 5,
                  "truncated_num_cols": 3
                },
                "dx_settings": {
                  "NUM_PAST_SAMPLES_TRACKED": 3,
                  "ENABLE_DATALINK": true,
                  "DISPLAY_MODE": "simple",
                  "GENERATE_DEX_METADATA": false,
                  "STRINGIFY_INDEX_VALUES": false,
                  "ALLOW_NOTEABLE_ATTRS": true,
                  "DISPLAY_MAX_COLUMNS": 100,
                  "HTML_TABLE_SCHEMA": false,
                  "SAMPLING_FACTOR": 0.1,
                  "LOG_LEVEL": 30,
                  "ENABLE_ASSIGNMENT": true,
                  "FLATTEN_INDEX_VALUES": false,
                  "DEV_MODE": false,
                  "COLUMN_SAMPLING_METHOD": "outer",
                  "FLATTEN_COLUMN_VALUES": true,
                  "DISPLAY_MAX_ROWS": 50000,
                  "ROW_SAMPLING_METHOD": "random",
                  "RANDOM_STATE": 12648430,
                  "DB_LOCATION": ":memory:",
                  "STRINGIFY_COLUMN_VALUES": true,
                  "SAMPLING_METHOD": "random",
                  "MAX_STRING_LENGTH": 250,
                  "MAX_RENDER_SIZE_BYTES": 104857600,
                  "RESET_INDEX_VALUES": false
                },
                "display_id": "1ca8e6cf-7802-41d3-989c-fa68d7f0045c",
                "applied_filters": [],
                "sample_history": [],
                "sampling_time": "2023-07-19T19:16:07.656900",
                "variable_name": "unk_dataframe_17b0afcc53434489897d1401f8e9f5c3",
                "user_variable_name": null
              },
              "display_id": "1ca8e6cf-7802-41d3-989c-fa68d7f0045c"
            }
          }
        }
      ],
      "execution_count": 48,
      "metadata": {
        "noteable": {},
        "ExecuteTime": {
          "end_time": "2023-07-19T19:16:07.812842+00:00",
          "start_time": "2023-07-19T19:16:07.579766+00:00"
        },
        "datalink": {
          "1ca8e6cf-7802-41d3-989c-fa68d7f0045c": {
            "applied_filters": [],
            "dataframe_info": {
              "default_index_used": true,
              "orig_num_cols": 3,
              "orig_num_rows": 5,
              "orig_size_bytes": 160,
              "truncated_num_cols": 3,
              "truncated_num_rows": 5,
              "truncated_size_bytes": 160,
              "truncated_string_columns": []
            },
            "display_id": "1ca8e6cf-7802-41d3-989c-fa68d7f0045c",
            "dx_settings": {
              "ALLOW_NOTEABLE_ATTRS": true,
              "COLUMN_SAMPLING_METHOD": "outer",
              "DB_LOCATION": ":memory:",
              "DEV_MODE": false,
              "DISPLAY_MAX_COLUMNS": 100,
              "DISPLAY_MAX_ROWS": 50000,
              "DISPLAY_MODE": "simple",
              "ENABLE_ASSIGNMENT": true,
              "ENABLE_DATALINK": true,
              "FLATTEN_COLUMN_VALUES": true,
              "FLATTEN_INDEX_VALUES": false,
              "GENERATE_DEX_METADATA": false,
              "HTML_TABLE_SCHEMA": false,
              "LOG_LEVEL": 30,
              "MAX_RENDER_SIZE_BYTES": 104857600,
              "MAX_STRING_LENGTH": 250,
              "NUM_PAST_SAMPLES_TRACKED": 3,
              "RANDOM_STATE": 12648430,
              "RESET_INDEX_VALUES": false,
              "ROW_SAMPLING_METHOD": "random",
              "SAMPLING_FACTOR": 0.1,
              "SAMPLING_METHOD": "random",
              "STRINGIFY_COLUMN_VALUES": true,
              "STRINGIFY_INDEX_VALUES": false
            },
            "sample_history": [],
            "sampling_time": "2023-07-19T19:16:07.656900",
            "user_variable_name": null,
            "variable_name": "unk_dataframe_17b0afcc53434489897d1401f8e9f5c3"
          }
        }
      },
      "id": "f06df87c"
    },
    {
      "cell_type": "code",
      "source": [
        "df.info()"
      ],
      "outputs": [
        {
          "output_type": "stream",
          "name": "stdout",
          "text": [
            "<class 'pandas.core.frame.DataFrame'>\n",
            "RangeIndex: 1107 entries, 0 to 1106\n",
            "Data columns (total 3 columns):\n",
            " #   Column  Non-Null Count  Dtype \n",
            "---  ------  --------------  ----- \n",
            " 0   Name    1107 non-null   object\n",
            " 1   Value   1107 non-null   object\n",
            " 2   url     1107 non-null   object\n",
            "dtypes: object(3)\n",
            "memory usage: 26.1+ KB\n"
          ]
        }
      ],
      "execution_count": 48,
      "metadata": {
        "noteable": {},
        "ExecuteTime": {
          "end_time": "2023-07-19T19:16:07.999966+00:00",
          "start_time": "2023-07-19T19:16:07.819487+00:00"
        }
      },
      "id": "31b51af2"
    },
    {
      "cell_type": "code",
      "source": [
        "df_sku = df[df['Name'] == ('Model number' or ' ')]\n",
        "df_sku.info()"
      ],
      "outputs": [
        {
          "output_type": "stream",
          "name": "stdout",
          "text": [
            "<class 'pandas.core.frame.DataFrame'>\n",
            "Int64Index: 144 entries, 10 to 1106\n",
            "Data columns (total 3 columns):\n",
            " #   Column  Non-Null Count  Dtype \n",
            "---  ------  --------------  ----- \n",
            " 0   Name    144 non-null    object\n",
            " 1   Value   144 non-null    object\n",
            " 2   url     144 non-null    object\n",
            "dtypes: object(3)\n",
            "memory usage: 4.5+ KB\n"
          ]
        }
      ],
      "execution_count": 49,
      "metadata": {
        "scrolled": true,
        "noteable": {},
        "ExecuteTime": {
          "end_time": "2023-07-19T19:16:08.344764+00:00",
          "start_time": "2023-07-19T19:16:08.181883+00:00"
        }
      },
      "id": "ead4f037"
    },
    {
      "cell_type": "code",
      "source": [
        "df_sku = df_sku[['Value','url']]\n",
        "df_sku.head()"
      ],
      "outputs": [
        {
          "output_type": "display_data",
          "data": {
            "application/vnd.dataresource+json": {
              "schema": {
                "fields": [
                  {
                    "name": "index",
                    "type": "integer"
                  },
                  {
                    "name": "Value",
                    "type": "string"
                  },
                  {
                    "name": "url",
                    "type": "string"
                  }
                ],
                "primaryKey": [
                  "index"
                ],
                "pandas_version": "1.4.0"
              },
              "data": [
                {
                  "index": 10,
                  "Value": "2700534",
                  "url": "https://www.amazon.co.uk/Tommy-Hilfiger-Multi-Wrap-Bracelet-Stainless-Steel/dp/B00INLR7VI/ref=sr_1_1?keywords=tommy+hilfiger+jewellery+men&qid=1689791834&sr=8-1"
                },
                {
                  "index": 17,
                  "Value": "2790314",
                  "url": "https://www.amazon.co.uk/Tommy-Hilfiger-2790314-Pendant-Necklace/dp/B08YN27QHH/ref=sr_1_2?keywords=tommy+hilfiger+jewellery+men&qid=1689791834&sr=8-2"
                },
                {
                  "index": 28,
                  "Value": "2700872",
                  "url": "https://www.amazon.co.uk/Tommy-Hilfiger-Stainless-Steel-Braided-Bracelet/dp/B01I9DH0S4/ref=sr_1_3?keywords=tommy+hilfiger+jewellery+men&qid=1689791834&sr=8-3"
                },
                {
                  "index": 35,
                  "Value": "2790365",
                  "url": "https://www.amazon.co.uk/Tommy-Hilfiger-Jewelry-Stainless-Necklace/dp/B09V7V75QD/ref=sr_1_4?keywords=tommy+hilfiger+jewellery+men&qid=1689791834&sr=8-4"
                },
                {
                  "index": 40,
                  "Value": "2790264S",
                  "url": "https://www.amazon.co.uk/Tommy-Hilfiger-Wrap-Bracelets-Men/dp/B08KQK82BD/ref=sr_1_5?keywords=tommy+hilfiger+jewellery+men&qid=1689791834&sr=8-5"
                }
              ],
              "datalink": {
                "display_id": "dd803c5f-cac6-42f8-a9ec-66cf6b36a912"
              }
            }
          },
          "metadata": {
            "application/vnd.dataresource+json": {
              "datalink": {
                "dataframe_info": {
                  "default_index_used": true,
                  "orig_size_bytes": 120,
                  "orig_num_rows": 5,
                  "orig_num_cols": 2,
                  "truncated_string_columns": [],
                  "truncated_size_bytes": 120,
                  "truncated_num_rows": 5,
                  "truncated_num_cols": 2
                },
                "dx_settings": {
                  "NUM_PAST_SAMPLES_TRACKED": 3,
                  "ENABLE_DATALINK": true,
                  "DISPLAY_MODE": "simple",
                  "GENERATE_DEX_METADATA": false,
                  "STRINGIFY_INDEX_VALUES": false,
                  "ALLOW_NOTEABLE_ATTRS": true,
                  "DISPLAY_MAX_COLUMNS": 100,
                  "HTML_TABLE_SCHEMA": false,
                  "SAMPLING_FACTOR": 0.1,
                  "LOG_LEVEL": 30,
                  "ENABLE_ASSIGNMENT": true,
                  "FLATTEN_INDEX_VALUES": false,
                  "DEV_MODE": false,
                  "COLUMN_SAMPLING_METHOD": "outer",
                  "FLATTEN_COLUMN_VALUES": true,
                  "DISPLAY_MAX_ROWS": 50000,
                  "ROW_SAMPLING_METHOD": "random",
                  "RANDOM_STATE": 12648430,
                  "DB_LOCATION": ":memory:",
                  "STRINGIFY_COLUMN_VALUES": true,
                  "SAMPLING_METHOD": "random",
                  "MAX_STRING_LENGTH": 250,
                  "MAX_RENDER_SIZE_BYTES": 104857600,
                  "RESET_INDEX_VALUES": false
                },
                "display_id": "dd803c5f-cac6-42f8-a9ec-66cf6b36a912",
                "applied_filters": [],
                "sample_history": [],
                "sampling_time": "2023-07-19T19:16:08.434961",
                "variable_name": "unk_dataframe_9c3bd8f49b4e478689dbc18d61c5b7cb",
                "user_variable_name": null
              },
              "display_id": "dd803c5f-cac6-42f8-a9ec-66cf6b36a912"
            }
          }
        }
      ],
      "execution_count": 50,
      "metadata": {
        "noteable": {},
        "ExecuteTime": {
          "end_time": "2023-07-19T19:16:08.590912+00:00",
          "start_time": "2023-07-19T19:16:08.382105+00:00"
        },
        "datalink": {
          "dd803c5f-cac6-42f8-a9ec-66cf6b36a912": {
            "applied_filters": [],
            "dataframe_info": {
              "default_index_used": true,
              "orig_num_cols": 2,
              "orig_num_rows": 5,
              "orig_size_bytes": 120,
              "truncated_num_cols": 2,
              "truncated_num_rows": 5,
              "truncated_size_bytes": 120,
              "truncated_string_columns": []
            },
            "display_id": "dd803c5f-cac6-42f8-a9ec-66cf6b36a912",
            "dx_settings": {
              "ALLOW_NOTEABLE_ATTRS": true,
              "COLUMN_SAMPLING_METHOD": "outer",
              "DB_LOCATION": ":memory:",
              "DEV_MODE": false,
              "DISPLAY_MAX_COLUMNS": 100,
              "DISPLAY_MAX_ROWS": 50000,
              "DISPLAY_MODE": "simple",
              "ENABLE_ASSIGNMENT": true,
              "ENABLE_DATALINK": true,
              "FLATTEN_COLUMN_VALUES": true,
              "FLATTEN_INDEX_VALUES": false,
              "GENERATE_DEX_METADATA": false,
              "HTML_TABLE_SCHEMA": false,
              "LOG_LEVEL": 30,
              "MAX_RENDER_SIZE_BYTES": 104857600,
              "MAX_STRING_LENGTH": 250,
              "NUM_PAST_SAMPLES_TRACKED": 3,
              "RANDOM_STATE": 12648430,
              "RESET_INDEX_VALUES": false,
              "ROW_SAMPLING_METHOD": "random",
              "SAMPLING_FACTOR": 0.1,
              "SAMPLING_METHOD": "random",
              "STRINGIFY_COLUMN_VALUES": true,
              "STRINGIFY_INDEX_VALUES": false
            },
            "sample_history": [],
            "sampling_time": "2023-07-19T19:16:08.434961",
            "user_variable_name": null,
            "variable_name": "unk_dataframe_9c3bd8f49b4e478689dbc18d61c5b7cb"
          }
        }
      },
      "id": "52a33bf0"
    },
    {
      "cell_type": "code",
      "source": [
        "df_tommy_men = Reviews.merge(df_sku, how='left', left_on='url', right_on='url')\n",
        "df_tommy_men = df_tommy_men.merge(product_describe, how='left', left_on='url', right_on='Product_url')\n",
        "df_tommy_men_v1 = df_tommy_men.dropna()\n",
        "df_tommy_men_v1 = df_tommy_men_v1.drop('Product_url' ,axis=1)"
      ],
      "outputs": [],
      "execution_count": 52,
      "metadata": {
        "noteable": {},
        "ExecuteTime": {
          "end_time": "2023-07-19T19:16:08.783946+00:00",
          "start_time": "2023-07-19T19:16:08.599123+00:00"
        }
      },
      "id": "1ac83dea"
    },
    {
      "cell_type": "code",
      "source": [
        "df_tommy_men_v1.to_csv('tommy_jew_men_v1.csv', index=False)"
      ],
      "outputs": [],
      "execution_count": 56,
      "metadata": {
        "noteable": {},
        "ExecuteTime": {
          "end_time": "2023-07-19T19:16:08.995151+00:00",
          "start_time": "2023-07-19T19:16:08.795537+00:00"
        }
      },
      "id": "1a0a2aba"
    },
    {
      "cell_type": "code",
      "source": [],
      "outputs": [],
      "execution_count": null,
      "metadata": {},
      "id": "41142cc7"
    },
    {
      "cell_type": "code",
      "source": [
        "def amazonukscraper(query, user_agent_list = user_agent_list, num_pages = False):\n",
        "    \n",
        "    #find how many pages\n",
        "    if not num_pages:\n",
        "        page = 1\n",
        "        url = f'https://www.amazon.co.uk/s?k={query}&page={page}&ref=nb_sb_noss'\n",
        "        url = url.replace(\" \", \"%20\")\n",
        "        user_agent = random.choice(user_agent_list)\n",
        "        opener = urllib.request.build_opener()\n",
        "        opener.addheaders = [('User-agent', user_agent)]\n",
        "        response = opener.open(url)\n",
        "        html_content = response.read()\n",
        "        soup = BeautifulSoup(html_content, 'html.parser')\n",
        "\n",
        "        result_text = soup.find('div', {'class': 'a-section a-spacing-small a-spacing-top-small'}).get_text().strip()\n",
        "        total_results = int(result_text.split()[2].replace(',', ''))\n",
        "\n",
        "        results_per_page = int(result_text.split()[0].replace(',', '').split('-')[1])\n",
        "        num_pages = total_results // results_per_page + (1 if total_results % results_per_page > 0 else 0)\n",
        "        \n",
        "    else:\n",
        "        page = 1\n",
        "        url = f'https://www.amazon.co.uk/s?k={query}&page={page}&ref=nb_sb_noss'\n",
        "        url = url.replace(\" \", \"%20\")\n",
        "    \n",
        "    #create df\n",
        "    Title = []\n",
        "    Price = []\n",
        "    Rating = []\n",
        "    Description = []\n",
        "    url_key = []\n",
        "    df = pd.DataFrame(columns=['Name', 'Value', 'url'])\n",
        "    reviews = []\n",
        "    \n",
        "    #scrape for each page\n",
        "    for page in range(1,num_pages+1):\n",
        "        \n",
        "        user_agent = random.choice(user_agent_list)\n",
        "        opener = urllib.request.build_opener()\n",
        "        opener.addheaders = [('User-agent', user_agent)]\n",
        "        response = opener.open(url)\n",
        "        html_content = response.read()\n",
        "\n",
        "        soup = BeautifulSoup(html_content, 'html.parser')\n",
        "\n",
        "        # Extract the URLs of the product pages from the search results\n",
        "        product_urls = []\n",
        "        results = soup.find_all('div', {'class': 's-result-item'})\n",
        "        for result in results:\n",
        "            link = result.find('a', {'class': 'a-link-normal s-no-outline'})\n",
        "\n",
        "            if link:\n",
        "                u = 'https://www.amazon.co.uk'+link.get('href')\n",
        "                product_urls.append(u)\n",
        "\n",
        "        # Scrape the product details for each product page\n",
        "        for product_url in product_urls[:-1]:\n",
        "            url_key.append(product_url)\n",
        "            response = opener.open(product_url)\n",
        "            html_content = response.read()\n",
        "            soup = BeautifulSoup(html_content, 'html.parser')\n",
        "            title = soup.find('span', attrs={'id': 'productTitle'}).get_text().strip()\n",
        "            Title.append(title)\n",
        "            if not soup.find('span', attrs={'class': 'a-price-whole'}):\n",
        "                Price.append(' ')\n",
        "            else:\n",
        "                price1 = soup.find('span', attrs={'class': 'a-price-whole'}).get_text().strip()\n",
        "                price2 = soup.find('span', attrs={'class': 'a-price-fraction'}).get_text().strip()\n",
        "                if float(price1+price2) > 1000:\n",
        "                    Price.append(0)\n",
        "                else:\n",
        "                    Price.append(price1+price2)\n",
        "            if not soup.find('span', attrs={'class': 'a-icon-alt'}):\n",
        "                Rating.append(' ')\n",
        "            else:\n",
        "                rating = soup.find('span', attrs={'class': 'a-icon-alt'}).get_text().strip()\n",
        "                Rating.append(rating)\n",
        "            if not soup.find('div', attrs={'id': 'productDescription'}):\n",
        "                Description.append(' ')\n",
        "            else:\n",
        "                description = soup.find('div', attrs={'id': 'productDescription'}).get_text().strip()\n",
        "                Description.append(description)\n",
        "\n",
        "            #Detail page\n",
        "            specifications_container = soup.find(\"table\", attrs={\"id\": \"technicalSpecifications_section_1\"})\n",
        "            if specifications_container:\n",
        "                specification_rows = specifications_container.find_all(\"tr\")\n",
        "\n",
        "                # Iterate through each specification row and extract the relevant information\n",
        "                for row in specification_rows:\n",
        "                    # Extract the specification name\n",
        "                    name = row.find(\"th\").text.strip()\n",
        "\n",
        "                    # Extract the specification value\n",
        "                    value = row.find(\"td\").text.strip()\n",
        "\n",
        "                # Print the extracted information\n",
        "                    df = df.append({'Name': name, 'Value': value, 'url': product_url}, ignore_index=True)\n",
        "            else:\n",
        "                df.append({'Name': ' ', 'Value': ' ', 'url': product_url}, ignore_index=True)\n",
        "\n",
        "            print('---------------------------------------------------------')\n",
        "\n",
        "            print(f'Title: {title}')\n",
        "            print(f'Price: {price1+price2}')\n",
        "            print(f'Rating: {rating}')\n",
        "            print(f'Description: {description}')\n",
        "\n",
        "            #Scraping comments\n",
        "            amz_scraper = AmazonScraper()\n",
        "            for page_num in range(1, 100):\n",
        "                if amz_scraper.scrapeReviews(url=product_url, page_num=page_num) ==[] \\\n",
        "                or amz_scraper.scrapeReviews(url=product_url, page_num=page_num) ==None:\n",
        "                    break\n",
        "                reviews.extend(amz_scraper.scrapeReviews(url=product_url, page_num=page_num))\n",
        "                time.sleep(5)\n",
        "\n",
        "            if product_url == product_urls[-2]:\n",
        "                print('\\n')\n",
        "                print('---------------------------------------------')\n",
        "                print(f'page {page} is finished')\n",
        "                print('---------------------------------------------')\n",
        "                print('\\n')\n",
        "\n",
        "\n",
        "            time.sleep(5)\n",
        "            \n",
        "    \n",
        "\n",
        "    # Create a DataFrame from the dictionary\n",
        "    data = {'Title': Title, 'Price': Price, 'Rating': Rating, 'Description': Description, 'Product_url': url_key}\n",
        "    product_describe = pd.DataFrame(data)\n",
        "    Reviews = pd.DataFrame(reviews)\n",
        "    df_sku = df[df['Name'] == ('Model number' or ' ')]\n",
        "    df_merge = Reviews.merge(df_sku, how='left', left_on='url', right_on='url')\n",
        "    df_merge = df_merge.merge(product_describe, how='left', left_on='url', right_on='Product_url')\n",
        "    df_merge_v1 = df_merge.dropna()\n",
        "    df_merge_v1 = df_merge_v1.drop('Product_url' ,axis=1)\n",
        "    \n",
        "#     #export csv\n",
        "#     df_merge_v1.to_csv(file_name, index=False)\n",
        "    print('---------------------------------------------')\n",
        "    print('---------------------------------------------')\n",
        "    print('All done')\n",
        "    \n",
        "    return df_merge_v1"
      ],
      "outputs": [],
      "execution_count": 16,
      "metadata": {
        "noteable": {},
        "ExecuteTime": {
          "end_time": "2023-07-19T19:16:09.216604+00:00",
          "start_time": "2023-07-19T19:16:09.002593+00:00"
        }
      },
      "id": "1879ad05"
    },
    {
      "cell_type": "code",
      "source": [
        "df = amazonukscraper('boss jewellery women', num_pages=1)"
      ],
      "outputs": [
        {
          "output_type": "stream",
          "name": "stdout",
          "text": [
            "---------------------------------------------------------\n",
            "Title: BOSS Jewelry Women's Medallion Collection Hoop Earrings - 1580231\n",
            "Price: 44.00\n",
            "Rating: 4.5 out of 5 stars\n",
            "Description: BOSS jewellery reflects the sophisticated character and craftsmanship for which all HUGO BOSS products are known. Synonymous with fashion, it stands out in the world of quality branded jewellerywith a style and presence of its own.\n"
          ]
        },
        {
          "output_type": "stream",
          "name": "stdout",
          "text": [
            "---------------------------------------------------------\n",
            "Title: BOSS Jewelry Women's Beads Collection Chain Bracelet - 1580075\n",
            "Price: 53.00\n",
            "Rating: 4.4 out of 5 stars\n",
            "Description: BOSS jewellery reflects the sophisticated character and craftsmanship for which all HUGO BOSS products are known. Synonymous with fashion, it stands out in the world of quality branded jewellerywith a style and presence of its own.\n"
          ]
        },
        {
          "output_type": "stream",
          "name": "stdout",
          "text": [
            "---------------------------------------------------------\n",
            "Title: BOSS Jewelry Women's Medallion Collection Chain Bracelet - 1580227\n",
            "Price: 50.15\n",
            "Rating: 4.5 out of 5 stars\n",
            "Description: BOSS jewellery reflects the sophisticated character and craftsmanship for which all HUGO BOSS products are known. Synonymous with fashion, it stands out in the world of quality branded jewellerywith a style and presence of its own.\n"
          ]
        },
        {
          "output_type": "stream",
          "name": "stdout",
          "text": [
            "---------------------------------------------------------\n",
            "Title: BOSS Jewelry Women's Tessa Collection Necklace - 1580200\n",
            "Price: 97.00\n",
            "Rating: 4.7 out of 5 stars\n",
            "Description: BOSS jewellery reflects the sophisticated character and craftsmanship for which all HUGO BOSS products are known. Synonymous with fashion, it stands out in the world of quality branded jewellerywith a style and presence of its own.\n"
          ]
        },
        {
          "output_type": "stream",
          "name": "stdout",
          "text": [
            "---------------------------------------------------------\n",
            "Title: BOSS Jewelry Women's CALY Collection Chain Bracelet in Stainless steel\n",
            "Price: 80.00\n",
            "Rating: Previous page\n",
            "Description: \n"
          ]
        },
        {
          "output_type": "stream",
          "name": "stdout",
          "text": [
            "---------------------------------------------------------\n",
            "Title: BOSS Jewelry Women's MEDALLION Collection Stud Earrings Stainless steel - 1580296\n",
            "Price: 50.15\n",
            "Rating: Previous page\n",
            "Description: Dress like a BOSS. BOSS jewelry reflects the dressing excellence codes and design for which all HUGO BOSS products are known. Synonymous with fashion, it stands out in the world of quality branded jewelry with a style and presence of its own. Tailored for the man and woman who draw attention in all situations. #BeYourOwnBOSS.\n"
          ]
        },
        {
          "output_type": "stream",
          "name": "stdout",
          "text": [
            "---------------------------------------------------------\n",
            "Title: BOSS Jewelry Women's MEDALLION Collection Chain Bracelet Stainless steel - 1580299\n",
            "Price: 50.15\n",
            "Rating: 3.0 out of 5 stars\n",
            "Description: Dress like a BOSS. BOSS jewelry reflects the dressing excellence codes and design for which all HUGO BOSS products are known. Synonymous with fashion, it stands out in the world of quality branded jewelry with a style and presence of its own. Tailored for the man and woman who draw attention in all situations. #BeYourOwnBOSS.\n"
          ]
        },
        {
          "output_type": "stream",
          "name": "stdout",
          "text": [
            "---------------------------------------------------------\n",
            "Title: BOSS Jewelry Women's Signature Collection Hoop Earrings - 1580233\n",
            "Price: 49.00\n",
            "Rating: 5.0 out of 5 stars\n",
            "Description: Dress like a BOSS.BOSS jewelry reflects the dressing excellence codes and design for which all HUGO BOSS products are known. Synonymous with fashion, it stands out in the world of quality branded jewelry with a style and presence of its own. Tailored for the man and woman who draw attention in all situations.BeYourOwnBOSS\n"
          ]
        },
        {
          "output_type": "stream",
          "name": "stdout",
          "text": [
            "---------------------------------------------------------\n",
            "Title: BOSS Jewelry Women's Hailey Collection Chain Bracelet - 1580322\n",
            "Price: 64.00\n",
            "Rating: Previous page\n",
            "Description: Dress like a BOSS. BOSS jewelry reflects the dressing excellence codes and design for which all HUGO BOSS products are known. Synonymous with fashion, it stands out in the world of quality branded jewelry with a style and presence of its own. Tailored for the man and woman who draw attention in all situations. #BeYourOwnBOSS\n"
          ]
        },
        {
          "output_type": "stream",
          "name": "stdout",
          "text": [
            "---------------------------------------------------------\n",
            "Title: BOSS Jewelry Women's MEDALLION Collection Pendant Necklace Stainless steel - 1580298\n",
            "Price: 58.65\n",
            "Rating: Previous page\n",
            "Description: Dress like a BOSS. BOSS jewelry reflects the dressing excellence codes and design for which all HUGO BOSS products are known. Synonymous with fashion, it stands out in the world of quality branded jewelry with a style and presence of its own. Tailored for the man and woman who draw attention in all situations. #BeYourOwnBOSS.\n"
          ]
        },
        {
          "output_type": "stream",
          "name": "stdout",
          "text": [
            "---------------------------------------------------------\n",
            "Title: BOSS Jewelry Women's LYSSA Collection Bangle Bracelet Yellow gold - 1580350\n",
            "Price: 59.00\n",
            "Rating: 5.0 out of 5 stars\n",
            "Description: Dress like a BOSS. BOSS jewelry reflects the dressing excellence codes and design for which all HUGO BOSS products are known. Synonymous with fashion, it stands out in the world of quality branded jewelry with a style and presence of its own. Tailored for the man and woman who draw attention in all situations. #BeYourOwnBOSS.\n"
          ]
        },
        {
          "output_type": "stream",
          "name": "stdout",
          "text": [
            "---------------------------------------------------------\n",
            "Title: BOSS Jewelry Women's LYSSA Collection Hinge Earrings Yellow gold - 1580341\n",
            "Price: 66.02\n",
            "Rating: 5.0 out of 5 stars\n",
            "Description: Dress like a BOSS. BOSS jewelry reflects the dressing excellence codes and design for which all HUGO BOSS products are known. Synonymous with fashion, it stands out in the world of quality branded jewelry with a style and presence of its own. Tailored for the man and woman who draw attention in all situations. #BeYourOwnBOSS.\n"
          ]
        },
        {
          "output_type": "stream",
          "name": "stdout",
          "text": [
            "---------------------------------------------------------\n",
            "Title: BOSS Jewelry Women's Soulemate Collection Chain Bracelet - 1580216\n",
            "Price: 46.10\n",
            "Rating: 3.5 out of 5 stars\n",
            "Description: BOSS jewellery reflects the sophisticated character and craftsmanship for which all HUGO BOSS products are known. Synonymous with fashion, it stands out in the world of quality branded jewellerywith a style and presence of its own.\n"
          ]
        },
        {
          "output_type": "stream",
          "name": "stdout",
          "text": [
            "---------------------------------------------------------\n",
            "Title: BOSS Jewelry Women's Signature Collection Pendant Necklace - 1580131\n",
            "Price: 71.20\n",
            "Rating: 1.0 out of 5 stars\n",
            "Description: BOSS jewellery reflects the sophisticated character and craftsmanship for which all HUGO BOSS products are known. Synonymous with fashion, it stands out in the world of quality branded jewellerywith a style and presence of its own.\n"
          ]
        },
        {
          "output_type": "stream",
          "name": "stdout",
          "text": [
            "---------------------------------------------------------\n",
            "Title: BOSS Jewelry Women's THALIA Collection Link Bracelet Yellow gold - 1580379\n",
            "Price: 75.90\n",
            "Rating: Previous page\n",
            "Description: Dress like a BOSS. BOSS jewelry reflects the dressing excellence codes and design for which all HUGO BOSS products are known. Synonymous with fashion, it stands out in the world of quality branded jewelry with a style and presence of its own. Tailored for the man and woman who draw attention in all situations. #BeYourOwnBOSS.\n"
          ]
        },
        {
          "output_type": "stream",
          "name": "stdout",
          "text": [
            "---------------------------------------------------------\n",
            "Title: BOSS Jewelry Women's Saya Collection Stud Earrings - 1580283\n",
            "Price: 49.00\n",
            "Rating: Previous page\n",
            "Description: Dress like a BOSS.BOSS jewelry reflects the dressing excellence codes and design for which all HUGO BOSS products are known. Synonymous with fashion, it stands out in the world of quality branded jewelry with a style and presence of its own. Tailored for the man and woman who draw attention in all situations.BeYourOwnBOSS\n"
          ]
        },
        {
          "output_type": "stream",
          "name": "stdout",
          "text": [
            "---------------------------------------------------------\n",
            "Title: BOSS Jewelry Women's Tessa Collection Link Bracelet - 1580198\n",
            "Price: 53.00\n",
            "Rating: 4.5 out of 5 stars\n",
            "Description: BOSS jewellery reflects the sophisticated character and craftsmanship for which all HUGO BOSS products are known. Synonymous with fashion, it stands out in the world of quality branded jewellerywith a style and presence of its own.\n"
          ]
        },
        {
          "output_type": "stream",
          "name": "stdout",
          "text": [
            "---------------------------------------------------------\n",
            "Title: BOSS Jewelry Women's Hailey Collection Stud Earrings - 1580323\n",
            "Price: 49.00\n",
            "Rating: 5.0 out of 5 stars\n",
            "Description: Dress like a BOSS. BOSS jewelry reflects the dressing excellence codes and design for which all HUGO BOSS products are known. Synonymous with fashion, it stands out in the world of quality branded jewelry with a style and presence of its own. Tailored for the man and woman who draw attention in all situations. #BeYourOwnBOSS\n"
          ]
        },
        {
          "output_type": "stream",
          "name": "stdout",
          "text": [
            "---------------------------------------------------------\n",
            "Title: BOSS Jewelry Women's Hailey Collection Pendant Necklace - 1580326\n",
            "Price: 113.00\n",
            "Rating: Previous page\n",
            "Description: Dress like a BOSS. BOSS jewelry reflects the dressing excellence codes and design for which all HUGO BOSS products are known. Synonymous with fashion, it stands out in the world of quality branded jewelry with a style and presence of its own. Tailored for the man and woman who draw attention in all situations. #BeYourOwnBOSS\n"
          ]
        },
        {
          "output_type": "stream",
          "name": "stdout",
          "text": [
            "---------------------------------------------------------\n",
            "Title: BOSS Jewelry Women's LYSSA Collection Bangle Bracelet Stainless steel - 1580349\n",
            "Price: 51.00\n",
            "Rating: 5.0 out of 5 stars\n",
            "Description: Dress like a BOSS. BOSS jewelry reflects the dressing excellence codes and design for which all HUGO BOSS products are known. Synonymous with fashion, it stands out in the world of quality branded jewelry with a style and presence of its own. Tailored for the man and woman who draw attention in all situations. #BeYourOwnBOSS.\n"
          ]
        },
        {
          "output_type": "stream",
          "name": "stdout",
          "text": [
            "---------------------------------------------------------\n",
            "Title: BOSS Jewelry Women's Soulemate Collection Pendant Necklace - 1580218\n",
            "Price: 55.00\n",
            "Rating: 3.7 out of 5 stars\n",
            "Description: BOSS jewellery reflects the sophisticated character and craftsmanship for which all HUGO BOSS products are known. Synonymous with fashion, it stands out in the world of quality branded jewellerywith a style and presence of its own.\n"
          ]
        },
        {
          "output_type": "stream",
          "name": "stdout",
          "text": [
            "---------------------------------------------------------\n",
            "Title: BOSS Jewelry Women's CALY Collection Chain Necklace in Stainless steel\n",
            "Price: 97.00\n",
            "Rating: Previous page\n",
            "Description: \n"
          ]
        },
        {
          "output_type": "stream",
          "name": "stdout",
          "text": [
            "---------------------------------------------------------\n",
            "Title: BOSS Jewelry Women's Tessa Collection Hinge Earrings - 1580202\n",
            "Price: 59.00\n",
            "Rating: 4.8 out of 5 stars\n",
            "Description: BOSS jewellery reflects the sophisticated character and craftsmanship for which all HUGO BOSS products are known. Synonymous with fashion, it stands out in the world of quality branded jewellerywith a style and presence of its own.\n"
          ]
        },
        {
          "output_type": "stream",
          "name": "stdout",
          "text": [
            "---------------------------------------------------------\n",
            "Title: BOSS Jewelry Women's IRIS Collection Chain Necklace Yellow gold - 1580334\n",
            "Price: 71.00\n",
            "Rating: 1.0 out of 5 stars\n",
            "Description: Dress like a BOSS. BOSS jewelry reflects the dressing excellence codes and design for which all HUGO BOSS products are known. Synonymous with fashion, it stands out in the world of quality branded jewelry with a style and presence of its own. Tailored for the man and woman who draw attention in all situations. #BeYourOwnBOSS.\n"
          ]
        },
        {
          "output_type": "stream",
          "name": "stdout",
          "text": [
            "---------------------------------------------------------\n",
            "Title: BOSS Jewelry Women's BOLI Collection Earrings Stainless steel - 1580311\n",
            "Price: 79.99\n",
            "Rating: Previous page\n",
            "Description: Dress like a BOSS. BOSS jewelry reflects the dressing excellence codes and design for which all HUGO BOSS products are known. Synonymous with fashion, it stands out in the world of quality branded jewelry with a style and presence of its own. Tailored for the man and woman who draw attention in all situations. #BeYourOwnBOSS.\n"
          ]
        },
        {
          "output_type": "stream",
          "name": "stdout",
          "text": [
            "---------------------------------------------------------\n",
            "Title: BOSS Jewelry Women's THALIA Collection Necklace Stainless steel - 1580376\n",
            "Price: 89.00\n",
            "Rating: Previous page\n",
            "Description: Dress like a BOSS. BOSS jewelry reflects the dressing excellence codes and design for which all HUGO BOSS products are known. Synonymous with fashion, it stands out in the world of quality branded jewelry with a style and presence of its own. Tailored for the man and woman who draw attention in all situations. #BeYourOwnBOSS.\n"
          ]
        },
        {
          "output_type": "stream",
          "name": "stdout",
          "text": [
            "---------------------------------------------------------\n",
            "Title: BOSS Jewelry Women's Ophelia Collection Pendant Necklace - 1580223\n",
            "Price: 69.00\n",
            "Rating: 3.4 out of 5 stars\n",
            "Description: BOSS jewellery reflects the sophisticated character and craftsmanship for which all HUGO BOSS products are known. Synonymous with fashion, it stands out in the world of quality branded jewellerywith a style and presence of its own.\n"
          ]
        },
        {
          "output_type": "stream",
          "name": "stdout",
          "text": [
            "---------------------------------------------------------\n",
            "Title: BOSS Jewelry Women's Saya Collection Stud Earrings - 1580282\n",
            "Price: 50.15\n",
            "Rating: 4.1 out of 5 stars\n",
            "Description: Dress like a BOSS.BOSS jewelry reflects the dressing excellence codes and design for which all HUGO BOSS products are known. Synonymous with fashion, it stands out in the world of quality branded jewelry with a style and presence of its own. Tailored for the man and woman who draw attention in all situations.BeYourOwnBOSS\n"
          ]
        },
        {
          "output_type": "stream",
          "name": "stdout",
          "text": [
            "---------------------------------------------------------\n",
            "Title: BOSS Jewelry Women's LYSSA Collection Pendant Necklace Stainless steel - 1580348\n",
            "Price: 49.50\n",
            "Rating: Previous page\n",
            "Description: Dress like a BOSS. BOSS jewelry reflects the dressing excellence codes and design for which all HUGO BOSS products are known. Synonymous with fashion, it stands out in the world of quality branded jewelry with a style and presence of its own. Tailored for the man and woman who draw attention in all situations. #BeYourOwnBOSS.\n"
          ]
        },
        {
          "output_type": "stream",
          "name": "stdout",
          "text": [
            "---------------------------------------------------------\n",
            "Title: BOSS Jewelry Women's THALIA Collection Link Bracelet Stainless steel - 1580378\n",
            "Price: 49.00\n",
            "Rating: 4.5 out of 5 stars\n",
            "Description: Dress like a BOSS. BOSS jewelry reflects the dressing excellence codes and design for which all HUGO BOSS products are known. Synonymous with fashion, it stands out in the world of quality branded jewelry with a style and presence of its own. Tailored for the man and woman who draw attention in all situations. #BeYourOwnBOSS.\n"
          ]
        },
        {
          "output_type": "stream",
          "name": "stdout",
          "text": [
            "---------------------------------------------------------\n",
            "Title: BOSS Jewelry Women's THALIA Collection Hinge Earrings Stainless steel - 1580380\n",
            "Price: 66.00\n",
            "Rating: 3.5 out of 5 stars\n",
            "Description: Dress like a BOSS. BOSS jewelry reflects the dressing excellence codes and design for which all HUGO BOSS products are known. Synonymous with fashion, it stands out in the world of quality branded jewelry with a style and presence of its own. Tailored for the man and woman who draw attention in all situations. #BeYourOwnBOSS.\n"
          ]
        },
        {
          "output_type": "stream",
          "name": "stdout",
          "text": [
            "---------------------------------------------------------\n",
            "Title: BOSS Jewelry Men's Orlado Collection Chain Bracelet - 1580359S\n",
            "Price: 60.77\n",
            "Rating: 5.0 out of 5 stars\n",
            "Description: Dress like a BOSS. BOSS jewelry reflects the dressing excellence codes and design for which all HUGO BOSS products are known. Synonymous with fashion, it stands out in the world of quality branded jewelry with a style and presence of its own. Tailored for the man and woman who draw attention in all situations. #BeYourOwnBOSS\n"
          ]
        },
        {
          "output_type": "stream",
          "name": "stdout",
          "text": [
            "---------------------------------------------------------\n",
            "Title: BOSS Jewelry Women's Saya Collection Pendant Necklace - 1580279\n",
            "Price: 62.60\n",
            "Rating: Previous page\n",
            "Description: Dress like a BOSS.BOSS jewelry reflects the dressing excellence codes and design for which all HUGO BOSS products are known. Synonymous with fashion, it stands out in the world of quality branded jewelry with a style and presence of its own. Tailored for the man and woman who draw attention in all situations.BeYourOwnBOSS\n"
          ]
        },
        {
          "output_type": "stream",
          "name": "stdout",
          "text": [
            "---------------------------------------------------------\n",
            "Title: BOSS Jewelry Women's IRIS Collection Chain Bracelet Stainless steel - 1580331\n",
            "Price: 62.00\n",
            "Rating: 5.0 out of 5 stars\n",
            "Description: Dress like a BOSS. BOSS jewelry reflects the dressing excellence codes and design for which all HUGO BOSS products are known. Synonymous with fashion, it stands out in the world of quality branded jewelry with a style and presence of its own. Tailored for the man and woman who draw attention in all situations. #BeYourOwnBOSS.\n"
          ]
        },
        {
          "output_type": "stream",
          "name": "stdout",
          "text": [
            "---------------------------------------------------------\n",
            "Title: BOSS Jewelry Women's Hailey Collection Stud Earrings - 1580325\n",
            "Price: 54.10\n",
            "Rating: Previous page\n",
            "Description: Dress like a BOSS. BOSS jewelry reflects the dressing excellence codes and design for which all HUGO BOSS products are known. Synonymous with fashion, it stands out in the world of quality branded jewelry with a style and presence of its own. Tailored for the man and woman who draw attention in all situations. #BeYourOwnBOSS\n"
          ]
        },
        {
          "output_type": "stream",
          "name": "stdout",
          "text": [
            "---------------------------------------------------------\n",
            "Title: BOSS Jewelry Men's ID Collection Chain Bracelet - 1580049M\n",
            "Price: 58.65\n",
            "Rating: 4.1 out of 5 stars\n",
            "Description: BOSS jewellery reflects the sophisticated character and craftsmanship for which all HUGO BOSS products are known. Synonymous with fashion, it stands out in the world of quality branded jewellerywith a style and presence of its own.\n"
          ]
        },
        {
          "output_type": "stream",
          "name": "stdout",
          "text": [
            "---------------------------------------------------------\n",
            "Title: BOSS Jewelry Women's Signature Collection Bangle Bracelet - 1580130S\n",
            "Price: 85.67\n",
            "Rating: 4.5 out of 5 stars\n",
            "Description: BOSS jewellery reflects the sophisticated character and craftsmanship for which all HUGO BOSS products are known. Synonymous with fashion, it stands out in the world of quality branded jewellerywith a style and presence of its own.\n"
          ]
        },
        {
          "output_type": "stream",
          "name": "stdout",
          "text": [
            "---------------------------------------------------------\n",
            "Title: BOSS Jewelry Men's Chain Link Collection Chain Necklace - 1580142, (logo may vary)\n",
            "Price: 63.99\n",
            "Rating: 4.4 out of 5 stars\n",
            "Description: BOSS jewellery reflects the sophisticated character and craftsmanship for which all HUGO BOSS products are known. Synonymous with fashion, it stands out in the world of quality branded jewellerywith a style and presence of its own.\n"
          ]
        },
        {
          "output_type": "stream",
          "name": "stdout",
          "text": [
            "---------------------------------------------------------\n",
            "Title: BOSS Jewelry Men's ID Collection Chain Bracelet - 1580051M\n",
            "Price: 69.20\n",
            "Rating: 3.8 out of 5 stars\n",
            "Description: BOSS jewellery reflects the sophisticated character and craftsmanship for which all HUGO BOSS products are known. Synonymous with fashion, it stands out in the world of quality branded jewellerywith a style and presence of its own.\n"
          ]
        },
        {
          "output_type": "stream",
          "name": "stdout",
          "text": [
            "---------------------------------------------------------\n",
            "Title: BOSS Jewelry Women's THALIA Collection Necklace Yellow gold - 1580377\n",
            "Price: 101.15\n",
            "Rating: Previous page\n",
            "Description: Dress like a BOSS. BOSS jewelry reflects the dressing excellence codes and design for which all HUGO BOSS products are known. Synonymous with fashion, it stands out in the world of quality branded jewelry with a style and presence of its own. Tailored for the man and woman who draw attention in all situations. #BeYourOwnBOSS.\n"
          ]
        },
        {
          "output_type": "stream",
          "name": "stdout",
          "text": [
            "---------------------------------------------------------\n",
            "Title: BOSS Jewelry Women's Soulemate Collection Pendant Necklace - 1580217\n",
            "Price: 59.00\n",
            "Rating: 5.0 out of 5 stars\n",
            "Description: BOSS jewellery reflects the sophisticated character and craftsmanship for which all HUGO BOSS products are known. Synonymous with fashion, it stands out in the world of quality branded jewellerywith a style and presence of its own.\n"
          ]
        },
        {
          "output_type": "stream",
          "name": "stdout",
          "text": [
            "---------------------------------------------------------\n",
            "Title: BOSS Jewelry Men's GROVER Collection Leather Bracelet Brown - 1580329M\n",
            "Price: 47.00\n",
            "Rating: 5.0 out of 5 stars\n",
            "Description: Dress like a BOSS. BOSS jewelry reflects the dressing excellence codes and design for which all HUGO BOSS products are known. Synonymous with fashion, it stands out in the world of quality branded jewelry with a style and presence of its own. Tailored for the man and woman who draw attention in all situations. #BeYourOwnBOSS.\n"
          ]
        },
        {
          "output_type": "stream",
          "name": "stdout",
          "text": [
            "---------------------------------------------------------\n",
            "Title: BOSS Jewelry Women's Cora Collection Chain Necklace - 1580269\n",
            "Price: 63.35\n",
            "Rating: 5.0 out of 5 stars\n",
            "Description: Dress like a BOSS.BOSS jewelry reflects the dressing excellence codes and design for which all HUGO BOSS products are known. Synonymous with fashion, it stands out in the world of quality branded jewelry with a style and presence of its own. Tailored for the man and woman who draw attention in all situations.BeYourOwnBOSS\n"
          ]
        },
        {
          "output_type": "stream",
          "name": "stdout",
          "text": [
            "---------------------------------------------------------\n",
            "Title: BOSS Jewelry Women's MEDALLION Collection Chain Bracelet Yellow gold - 1580301\n",
            "Price: 61.82\n",
            "Rating: 5.0 out of 5 stars\n",
            "Description: Dress like a BOSS. BOSS jewelry reflects the dressing excellence codes and design for which all HUGO BOSS products are known. Synonymous with fashion, it stands out in the world of quality branded jewelry with a style and presence of its own. Tailored for the man and woman who draw attention in all situations. #BeYourOwnBOSS.\n"
          ]
        },
        {
          "output_type": "stream",
          "name": "stdout",
          "text": [
            "---------------------------------------------------------\n",
            "Title: BOSS Jewelry Women's Chain Collection Link Bracelet - 1580141\n",
            "Price: 63.35\n",
            "Rating: 3.5 out of 5 stars\n",
            "Description: BOSS jewellery reflects the sophisticated character and craftsmanship for which all HUGO BOSS products are known. Synonymous with fashion, it stands out in the world of quality branded jewellerywith a style and presence of its own.\n"
          ]
        },
        {
          "output_type": "stream",
          "name": "stdout",
          "text": [
            "---------------------------------------------------------\n",
            "Title: BOSS Jewelry Men's Orlado Collection Chain Bracelet - 1580359M\n",
            "Price: 62.60\n",
            "Rating: 3.1 out of 5 stars\n",
            "Description: Dress like a BOSS. BOSS jewelry reflects the dressing excellence codes and design for which all HUGO BOSS products are known. Synonymous with fashion, it stands out in the world of quality branded jewelry with a style and presence of its own. Tailored for the man and woman who draw attention in all situations. #BeYourOwnBOSS\n"
          ]
        },
        {
          "output_type": "stream",
          "name": "stdout",
          "text": [
            "---------------------------------------------------------\n",
            "Title: BOSS Jewelry Women's LYSSA Collection Hoop Earrings Yellow gold - 1580346\n",
            "Price: 63.00\n",
            "Rating: Previous page\n",
            "Description: Dress like a BOSS. BOSS jewelry reflects the dressing excellence codes and design for which all HUGO BOSS products are known. Synonymous with fashion, it stands out in the world of quality branded jewelry with a style and presence of its own. Tailored for the man and woman who draw attention in all situations. #BeYourOwnBOSS.\n"
          ]
        },
        {
          "output_type": "stream",
          "name": "stdout",
          "text": [
            "---------------------------------------------------------\n",
            "Title: BOSS Jewelry Men's Lander Collection Pendant Necklace - 1580180\n",
            "Price: 69.00\n",
            "Rating: 4.0 out of 5 stars\n",
            "Description: BOSS jewellery reflects the sophisticated character and craftsmanship for which all HUGO BOSS products are known. Synonymous with fashion, it stands out in the world of quality branded jewellerywith a style and presence of its own.\n"
          ]
        },
        {
          "output_type": "stream",
          "name": "stdout",
          "text": [
            "\n",
            "\n",
            "---------------------------------------------\n",
            "page 1 is finished\n",
            "---------------------------------------------\n",
            "\n",
            "\n"
          ]
        },
        {
          "output_type": "stream",
          "name": "stdout",
          "text": [
            "---------------------------------------------\n",
            "---------------------------------------------\n",
            "All done\n"
          ]
        }
      ],
      "execution_count": 22,
      "metadata": {
        "scrolled": true,
        "noteable": {},
        "ExecuteTime": {
          "end_time": "2023-07-19T19:24:01.415820+00:00",
          "start_time": "2023-07-19T19:16:09.282459+00:00"
        }
      },
      "id": "3e16adf8"
    },
    {
      "cell_type": "code",
      "source": [
        "df.to_csv('XXX.csv', index=False)"
      ],
      "outputs": [],
      "execution_count": 20,
      "metadata": {
        "scrolled": true,
        "noteable": {},
        "ExecuteTime": {
          "end_time": "2023-07-19T19:24:01.643879+00:00",
          "start_time": "2023-07-19T19:24:01.483203+00:00"
        }
      },
      "id": "dd004470"
    }
  ],
  "metadata": {
    "kernelspec": {
      "display_name": "Python 3.9",
      "language": "python",
      "name": "python3"
    },
    "language_info": {
      "codemirror_mode": {
        "name": "ipython",
        "version": 3
      },
      "file_extension": ".py",
      "mimetype": "text/x-python",
      "name": "python",
      "nbconvert_exporter": "python",
      "pygments_lexer": "ipython3",
      "version": "3.8.8"
    },
    "noteable": {
      "last_transaction_id": "c946afb0-3d46-4b76-9e3c-c6ecbf4dce4f",
      "last_delta_id": "c946afb0-3d46-4b76-9e3c-c6ecbf4dce4f"
    },
    "selected_hardware_size": "small",
    "kernel_info": {
      "name": "python3"
    },
    "nteract": {
      "version": "noteable@2.9.0"
    }
  },
  "nbformat": 4,
  "nbformat_minor": 5
}